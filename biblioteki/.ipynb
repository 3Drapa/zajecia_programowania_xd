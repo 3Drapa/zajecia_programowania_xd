{
 "cells": [
  {
   "cell_type": "markdown",
   "metadata": {},
   "source": [
    "# Biblioteka time i datetime\n",
    "\n",
    "Daty, czas.\n",
    "\n",
    "[Dokumentacja time](https://docs.python.org/3/library/time.html)\n",
    "\n",
    "[Dokumentacja datetime](https://docs.python.org/3/library/datetime.html)\n",
    "\n",
    "\n",
    "Level 1\n",
    "1. \n",
    "\n",
    "Level 2:\n",
    "1. \n",
    "\n"
   ]
  },
  {
   "cell_type": "markdown",
   "metadata": {},
   "source": [
    "### Uwaga wstępna\n",
    "\n",
    "Czas to spore zagadnienie. Tak jak wiele bibliotek pomaga w obliczeniach tak i jest w Pythonie wiele bibliotek które zajmują się czasem. Najczęściej używane rozwiązania to wspomniane wyżej `time` i `datetime`. Są jeszcze [`calendar`](https://docs.python.org/3/library/calendar.html) i [`locale`](https://docs.python.org/3/library/locale.html#module-locale). \n",
    "\n",
    "Biblioteki time i datetime używają klas obiektów odpowiedzialnych za pracę na czasie. Warto je rozróżniać z 2 powodów, po pierwsze to przydatne i ułatwia posługiwanie się danymi czasowymi a po drugie dwa z obiektów czasu używanych przez te biblioteki mają tę samą nazwę - time -  i łatwo się pomylić gdy używa się obu rodzajów obiektów na raz. Gdy nie jesteś pewien - a tak jest zwykle na początku - wybierz 1 rozwiązanie i trzymaj się go a drugiego używaj wtedy gdy to będzie potrzebne w niekolidujący sposób. \n",
    "\n",
    "\n",
    "Poznaj 6 głównych obiektów związanych z czasem:\n",
    "1. import time - time.struct_time - w przeciwieństwie do poniżej przybliżonych dotyczy biblioteki **time**. \n",
    "\n",
    "\n",
    "2. from datetime import time - time() - dotyczy godzin, minut\n",
    "3. from datetime import date - date() - dotyczy roku, miesiąca, dni\n",
    "4. from datetime import datetime - **datetime()** - dotyczy pełnej daty\n",
    "5. from datetime import timedelta - **timedelta()** - dotyczy różnicy między czasem A a czasem B\n",
    "6. from datetime import timezone - timezone.utc(timedelta(hour=2))\n",
    "\n",
    "Jednak z powodów praktycznych, zanim zapoznasz się lepiej z powyższymi obiektami (a powtórz ten materiał kilka razy) lepiej będzie jak zaczniesz naukę od\n",
    "\n",
    "#### Główne problemy(zagadnienia) i rozwiązania:\n",
    "1. Stwórz obiekt daty \n",
    "2. Zmień obiekt daty w tekst i spowrotem\n",
    "3. Zmodyfikuj obiekt daty\n",
    "4. Porównaj czas\n",
    "5. Działania na czasie\n",
    "\n",
    "#### `import time`:\n",
    "1. Zatrzymaj działanie programu na N sekund - `time.sleep(N)` <--------------------  **!!!!!!!!**  \n",
    "2. Sprawdź dokładnie aktualny czas - np. `time.time()`\n",
    "3. Szybko stwórz datę jako tekst - `time.asctime()` lub obiekt ale nie datetime - `time.gmtime()`, `time.localtime()`\n",
    "\n",
    "#### Use case'y:\n",
    "1. Obliczanie czasu w którym wykonuje się program, porównywanie czasów dla róznych programów"
   ]
  },
  {
   "cell_type": "markdown",
   "metadata": {},
   "source": [
    "## Level 1"
   ]
  },
  {
   "cell_type": "code",
   "execution_count": 10,
   "metadata": {},
   "outputs": [],
   "source": [
    "from datetime import datetime, timedelta\n",
    "\n",
    "from datetime import timezone "
   ]
  },
  {
   "cell_type": "markdown",
   "metadata": {},
   "source": [
    "#### Daty: najważniejsze problemy i rozwiązania\n",
    "\n",
    "dla uproszczenia do pracy z datą użyjemy 2 obiektów `timedelta` który zajmuje się różnicami czasu i `datetime` który zawiera pełną informację o czasie i składają się na niego 3 elementy którymi zajmują się 3 obiekty:\n",
    "1. kalendarzowe - dzień, miesiąc, rok a którymi szczególnie zajmuje się obiekt `datetime.date`, \n",
    "2. jaki informacje o godzinie, minucie, sekundzie - bliskie obiektowi `datetime.time`,\n",
    "3. oraz o strefie czasowej - omawiane przy okazji obiektu `datetime.timezone`."
   ]
  },
  {
   "cell_type": "markdown",
   "metadata": {},
   "source": [
    "#### 1. Czas teraz\n",
    "\n",
    "jako obiekt daty `datetime`."
   ]
  },
  {
   "cell_type": "markdown",
   "metadata": {},
   "source": [
    "#### czasu lokalnego (UTC+2)\n",
    "\n",
    "Liczonego wg. ustawień na Twoim komputerze lub serwerze czy miejscu gdzie jest odpalany skrypt."
   ]
  },
  {
   "cell_type": "code",
   "execution_count": 202,
   "metadata": {},
   "outputs": [
    {
     "data": {
      "text/plain": [
       "datetime.datetime(2022, 4, 16, 0, 13, 40, 848137)"
      ]
     },
     "execution_count": 202,
     "metadata": {},
     "output_type": "execute_result"
    }
   ],
   "source": [
    "datetime.today()"
   ]
  },
  {
   "cell_type": "markdown",
   "metadata": {},
   "source": [
    "#### czasu UTC"
   ]
  },
  {
   "cell_type": "code",
   "execution_count": 199,
   "metadata": {},
   "outputs": [
    {
     "data": {
      "text/plain": [
       "datetime.datetime(2022, 4, 15, 22, 8, 37, 118963)"
      ]
     },
     "execution_count": 199,
     "metadata": {},
     "output_type": "execute_result"
    }
   ],
   "source": [
    "datetime.utcnow()"
   ]
  },
  {
   "cell_type": "markdown",
   "metadata": {},
   "source": [
    "#### czasu wg. tej strefy jaką podasz \n",
    "\n",
    "Lista stref. Biblitoeka miejsce-strefa"
   ]
  },
  {
   "cell_type": "code",
   "execution_count": 200,
   "metadata": {},
   "outputs": [
    {
     "name": "stdout",
     "output_type": "stream",
     "text": [
      "2022-04-16 00:08:38.441918\n"
     ]
    }
   ],
   "source": [
    "tz = datetime.now()\n",
    "tz = None\n",
    "\n",
    "print(datetime.now(tz=tz))"
   ]
  },
  {
   "cell_type": "markdown",
   "metadata": {},
   "source": [
    "#### 2. Inny czas\n",
    "\n",
    "Obiekt `datetime` możesz tworzyć przekazując mu informacje o dacie i godzinie. Te same informacje możesz też z niego wybrać albo je modyfikować. Zacznij od tworzenia:"
   ]
  },
  {
   "cell_type": "code",
   "execution_count": 203,
   "metadata": {},
   "outputs": [
    {
     "data": {
      "text/plain": [
       "datetime.datetime(2000, 12, 30, 0, 0)"
      ]
     },
     "execution_count": 203,
     "metadata": {},
     "output_type": "execute_result"
    }
   ],
   "source": [
    "datetime(year=2000, month=12, day=30)"
   ]
  },
  {
   "cell_type": "code",
   "execution_count": 143,
   "metadata": {},
   "outputs": [
    {
     "data": {
      "text/plain": [
       "datetime.datetime(2000, 12, 30, 23, 59, 59)"
      ]
     },
     "execution_count": 143,
     "metadata": {},
     "output_type": "execute_result"
    }
   ],
   "source": [
    "datetime(year=2000, month=12, day=30, hour=23, minute=59, second=59)"
   ]
  },
  {
   "cell_type": "code",
   "execution_count": 21,
   "metadata": {},
   "outputs": [
    {
     "data": {
      "text/plain": [
       "datetime.datetime(2000, 12, 30, 23, 59, 59, tzinfo=datetime.timezone.utc)"
      ]
     },
     "execution_count": 21,
     "metadata": {},
     "output_type": "execute_result"
    }
   ],
   "source": [
    "datetime(year=2000, month=12, day=30, hour=23, minute=59, second=59, tzinfo=timezone.utc)"
   ]
  },
  {
   "cell_type": "markdown",
   "metadata": {},
   "source": [
    "#### Informacje z obiektu daty - np. gdy interesuje Cię jedynie dzień lub rok"
   ]
  },
  {
   "cell_type": "code",
   "execution_count": 24,
   "metadata": {},
   "outputs": [
    {
     "name": "stdout",
     "output_type": "stream",
     "text": [
      "Cała data:      2000-12-30 23:59:59\n",
      "Rok:            2000\n",
      "Miesiąc:        12\n",
      "Dzień:          30\n",
      "Godzina:        23\n",
      "Minuta:         59\n",
      "Sekunda:        59\n",
      "Mikrosekunda:   0\n",
      "Strefa czasowa: None\n",
      "\n",
      "Cała data:      2022-04-15 18:38:32.895668\n",
      "Rok:            2022\n",
      "Miesiąc:        4\n",
      "Dzień:          15\n",
      "Godzina:        18\n",
      "Minuta:         38\n",
      "Sekunda:        32\n",
      "Mikrosekunda:   895668\n",
      "Strefa czasowa: None\n",
      "\n"
     ]
    }
   ],
   "source": [
    "data_1 = datetime(year=2000, month=12, day=30, hour=23, minute=59, second=59)\n",
    "data_2 = datetime.today()\n",
    "\n",
    "for data in [data_1, data_2]:\n",
    "    print('Cała data:     ', data)\n",
    "    print('Rok:           ', data.year)\n",
    "    print('Miesiąc:       ', data.month)\n",
    "    print('Dzień:         ', data.day)\n",
    "    print('Godzina:       ', data.hour)\n",
    "    print('Minuta:        ', data.minute)\n",
    "    print('Sekunda:       ', data.second)\n",
    "    print('Mikrosekunda:  ', data.microsecond) # 0.000001\n",
    "    print('Strefa czasowa:', data.tzinfo)\n",
    "    print()"
   ]
  },
  {
   "cell_type": "markdown",
   "metadata": {},
   "source": [
    "#### Zmień czas \n",
    "\n",
    "istniejącego obiektu daty `datatime`\n",
    "\n",
    "Jeżeli Twoja data jest zapisana jako tekst `str`, najpierw zmień jej treść na obiekt datetime. "
   ]
  },
  {
   "cell_type": "markdown",
   "metadata": {},
   "source": [
    "#### Zmień strefę czasową, godzinę lub inne informacje daty"
   ]
  },
  {
   "cell_type": "code",
   "execution_count": 204,
   "metadata": {},
   "outputs": [
    {
     "data": {
      "text/plain": [
       "datetime.datetime(2002, 4, 15, 21, 29, 50, 873019)"
      ]
     },
     "execution_count": 204,
     "metadata": {},
     "output_type": "execute_result"
    }
   ],
   "source": [
    "obiekt_daty.replace(year=2002)"
   ]
  },
  {
   "cell_type": "code",
   "execution_count": 206,
   "metadata": {},
   "outputs": [
    {
     "data": {
      "text/plain": [
       "datetime.datetime(2022, 4, 15, 20, 29, 50, 873019)"
      ]
     },
     "execution_count": 206,
     "metadata": {},
     "output_type": "execute_result"
    }
   ],
   "source": [
    "obiekt_daty.replace(hour=20)"
   ]
  },
  {
   "cell_type": "code",
   "execution_count": 220,
   "metadata": {},
   "outputs": [
    {
     "data": {
      "text/plain": [
       "datetime.datetime(2022, 4, 16, 0, 49, 3, 93833, tzinfo=datetime.timezone(datetime.timedelta(seconds=7200), 'CEST'))"
      ]
     },
     "execution_count": 220,
     "metadata": {},
     "output_type": "execute_result"
    }
   ],
   "source": [
    "obiekt_daty.astimezone(tz=tz)"
   ]
  },
  {
   "cell_type": "markdown",
   "metadata": {},
   "source": [
    "#### Przy okazji strefy czasowej"
   ]
  },
  {
   "cell_type": "code",
   "execution_count": 228,
   "metadata": {},
   "outputs": [
    {
     "data": {
      "text/plain": [
       "datetime.datetime(2022, 4, 15, 22, 49, 3, 93833, tzinfo=datetime.timezone.utc)"
      ]
     },
     "execution_count": 228,
     "metadata": {},
     "output_type": "execute_result"
    }
   ],
   "source": [
    "strefy_czasowe = [\n",
    "    timedelta(hours=4), # przesunięcie o N godzin\n",
    "    timezone.utc,       # czas UTC\n",
    "    None,               # brak wyboru - strefa lokalna dla Twojego komputera, serwera lub miejsca gdzie jest skrypt\n",
    "]\n",
    "\n",
    "\n",
    "tz=None\n",
    "\n",
    "obiekt_daty.astimezone(tz=timezone.utc)"
   ]
  },
  {
   "cell_type": "markdown",
   "metadata": {},
   "source": [
    "### Zamiana obiektu daty `datetime` w tekst"
   ]
  },
  {
   "cell_type": "code",
   "execution_count": 218,
   "metadata": {},
   "outputs": [
    {
     "data": {
      "text/plain": [
       "datetime.datetime(2022, 4, 16, 0, 49, 3, 93833)"
      ]
     },
     "execution_count": 218,
     "metadata": {},
     "output_type": "execute_result"
    }
   ],
   "source": [
    "obiekt_daty = datetime.today()\n",
    "\n",
    "obiekt_daty"
   ]
  },
  {
   "cell_type": "markdown",
   "metadata": {},
   "source": [
    "#### obiekt daty `datetime` -> `str` -  wg. formatu ISO"
   ]
  },
  {
   "cell_type": "code",
   "execution_count": 219,
   "metadata": {
    "scrolled": true
   },
   "outputs": [
    {
     "data": {
      "text/plain": [
       "'2022-04-16T00:49:03.093833'"
      ]
     },
     "execution_count": 219,
     "metadata": {},
     "output_type": "execute_result"
    }
   ],
   "source": [
    "obiekt_daty.isoformat()"
   ]
  },
  {
   "cell_type": "markdown",
   "metadata": {},
   "source": [
    "#### Dokładność przy zamianie daty w tekst wg. formatu ISO\n",
    "\n",
    "Ty wybierasz jak dokładna ma być data (jednak wg. formatu ISO zapis musi zaczynać się od godziny)."
   ]
  },
  {
   "cell_type": "code",
   "execution_count": 134,
   "metadata": {},
   "outputs": [
    {
     "name": "stdout",
     "output_type": "stream",
     "text": [
      "Data: 2022-04-15 21:29:48.722379\n",
      "\n",
      "timespec: auto         2022-04-15T21:29:48.722379\n",
      "\n",
      "timespec: hours        2022-04-15T21\n",
      "\n",
      "timespec: minutes      2022-04-15T21:29\n",
      "\n",
      "timespec: seconds      2022-04-15T21:29:48\n",
      "\n",
      "timespec: milliseconds 2022-04-15T21:29:48.722\n",
      "\n",
      "timespec: microseconds 2022-04-15T21:29:48.722379\n",
      "\n"
     ]
    }
   ],
   "source": [
    "timespecs = [\n",
    "    'auto', # DEFAULT - Same as 'seconds' if microsecond is 0, same as 'microseconds' otherwise.\n",
    "    'hours', # data wliczając godzinę.\n",
    "    'minutes', # data wliczając minuty.\n",
    "    'seconds', # data wliczając sekundy.\n",
    "    'milliseconds', # data wliczając sekundy do \"0.003\" trzech miejsc po przecinku.\n",
    "    'microseconds' # data wliczając sekundy do \"0.000006\" sześciu miejsc po przecinku.\n",
    "]\n",
    "\n",
    "data_obiekt = datetime.today()\n",
    "timespec = 'auto'\n",
    "sep='T'\n",
    "\n",
    "print('Data: {}\\n'.format(data_obiekt))\n",
    "for timespec in timespecs:\n",
    "    print('timespec: {:12}'.format(timespec), data_obiekt.isoformat(sep=sep, timespec=timespec))\n",
    "    print()"
   ]
  },
  {
   "cell_type": "markdown",
   "metadata": {},
   "source": [
    "#### 3. Zamień obiekt daty datetime w tekst nadając mu konkretną formę."
   ]
  },
  {
   "cell_type": "code",
   "execution_count": 221,
   "metadata": {},
   "outputs": [
    {
     "data": {
      "text/plain": [
       "'2022-04-16'"
      ]
     },
     "execution_count": 221,
     "metadata": {},
     "output_type": "execute_result"
    }
   ],
   "source": [
    "data_format = '%Y-%m-%d'\n",
    "data_obiekt = datetime.today()\n",
    "\n",
    "data_obiekt.strftime(date_format)"
   ]
  },
  {
   "cell_type": "code",
   "execution_count": 222,
   "metadata": {},
   "outputs": [
    {
     "data": {
      "text/plain": [
       "'2022-04-16T09:43'"
      ]
     },
     "execution_count": 222,
     "metadata": {},
     "output_type": "execute_result"
    }
   ],
   "source": [
    "data_obiekt = datetime.today()\n",
    "format_daty = '%Y-%m-%dT%M:%S'\n",
    "\n",
    "data_obiekt.strftime(format_daty)"
   ]
  },
  {
   "cell_type": "code",
   "execution_count": 223,
   "metadata": {},
   "outputs": [
    {
     "name": "stdout",
     "output_type": "stream",
     "text": [
      "Data: 2022-04-16 01:10:55.533716\n",
      "\n",
      "format daty: %Y-%m-%d                       2022-04-16\n",
      "\n",
      "format daty: %Y-%m-%dT%M:%S                 2022-04-16T10:55\n",
      "\n",
      "format daty: %m/%d/%Y                       04/16/2022\n",
      "\n",
      "format daty: %Y/%m/%d                       2022/04/16\n",
      "\n",
      "format daty: %d/%m/%Y                       16/04/2022\n",
      "\n",
      "format daty: %m-%d-%Y %H:%M:%S              04-16-2022 01:10:55\n",
      "\n",
      "format daty: %Y-%m-%d %H:%M:%S              2022-04-16 01:10:55\n",
      "\n",
      "format daty: %Y-%m-%d::%H-%M                2022-04-16::01-10\n",
      "\n",
      "format daty: %Y-%m-%dT%H:%M:%SZ             2022-04-16T01:10:55Z\n",
      "\n",
      "format daty: %Y-%m-%d %H:%M:%S              2022-04-16 01:10:55\n",
      "\n",
      "format daty: %A, %B %d, %Y at %H:%M %p %Z   Saturday, April 16, 2022 at 01:10 AM \n",
      "\n",
      "format daty: %b %d %Y %H:%M:%S              Apr 16 2022 01:10:55\n",
      "\n"
     ]
    }
   ],
   "source": [
    "popularne_formaty = [\n",
    "    \n",
    "    # Najczęstsze formaty:\n",
    "    '%Y-%m-%d', # +%Z\n",
    "    '%Y-%m-%dT%M:%S', # +%Z\n",
    "    \n",
    "    # Jeżeli nie chcesz tego rzokminiać, wybierz ten:\n",
    "    # ...\n",
    "    \n",
    "    # ...\n",
    "    '%m/%d/%Y',\n",
    "    '%Y/%m/%d',\n",
    "    '%d/%m/%Y',\n",
    "    \n",
    "    # Ciekawe formaty:\n",
    "    \"%m-%d-%Y %H:%M:%S\", # +%Z\n",
    "    '%Y-%m-%d %H:%M:%S',\n",
    "    '%Y-%m-%d::%H-%M',\n",
    "    '%Y-%m-%dT%H:%M:%SZ',\n",
    "    '%Y-%m-%d %H:%M:%S',\n",
    "    \"%A, %B %d, %Y at %H:%M %p %Z\",\n",
    "    \"%b %d %Y %H:%M:%S\",\n",
    "    \n",
    "]\n",
    "\n",
    "data_obiekt=datetime.today()\n",
    "timespec='auto'\n",
    "sep='T'\n",
    "\n",
    "print('Data: {}\\n'.format(data_obiekt))\n",
    "for format_daty in popularne_formaty:\n",
    "    print('format daty: {:30}'.format(format_daty), data_obiekt.strftime(format_daty))\n",
    "    print()"
   ]
  },
  {
   "cell_type": "markdown",
   "metadata": {},
   "source": [
    "#### 4. Zamień tekst z datą w obiekt `datetime`.\n",
    "\n",
    "\n",
    "Format: YYYY-MM-DD[*HH[:MM[:SS[.fff[fff]]]][+HH:MM[:SS[.ffffff]]]]"
   ]
  },
  {
   "cell_type": "code",
   "execution_count": 224,
   "metadata": {},
   "outputs": [
    {
     "data": {
      "text/plain": [
       "datetime.datetime(2011, 11, 4, 0, 0)"
      ]
     },
     "execution_count": 224,
     "metadata": {},
     "output_type": "execute_result"
    }
   ],
   "source": [
    "from datetime import datetime\n",
    "\n",
    "datetime.fromisoformat('2011-11-04')"
   ]
  },
  {
   "cell_type": "code",
   "execution_count": 225,
   "metadata": {
    "scrolled": false
   },
   "outputs": [
    {
     "name": "stdout",
     "output_type": "stream",
     "text": [
      "Data tekst:     2011-11-04\n",
      "Data isoformat: 2011-11-04 00:00:00\n",
      "\n",
      "Data tekst:     2011-11-04T00:05:23\n",
      "Data isoformat: 2011-11-04 00:05:23\n",
      "\n",
      "Data tekst:     2011-11-04 00:05:23.283\n",
      "Data isoformat: 2011-11-04 00:05:23.283000\n",
      "\n",
      "Data tekst:     2011-11-04 00:05:23.283+00:00\n",
      "Data isoformat: 2011-11-04 00:05:23.283000+00:00\n",
      "\n",
      "Data tekst:     2011-11-04T00:05:23+04:00\n",
      "Data isoformat: 2011-11-04 00:05:23+04:00\n",
      "\n"
     ]
    }
   ],
   "source": [
    "daty_w_tekscie = [\n",
    "    '2011-11-04',\n",
    "    '2011-11-04T00:05:23',\n",
    "    '2011-11-04 00:05:23.283',\n",
    "    '2011-11-04 00:05:23.283+00:00',\n",
    "    '2011-11-04T00:05:23+04:00',\n",
    "]\n",
    "\n",
    "for d in daty_w_tekscie:\n",
    "    print('Data tekst:    ', d)\n",
    "    print('Data isoformat:', datetime.fromisoformat(d))\n",
    "    print('')"
   ]
  },
  {
   "cell_type": "code",
   "execution_count": 171,
   "metadata": {},
   "outputs": [
    {
     "data": {
      "text/plain": [
       "datetime.datetime(2011, 11, 4, 0, 0)"
      ]
     },
     "execution_count": 171,
     "metadata": {},
     "output_type": "execute_result"
    }
   ],
   "source": [
    "date_string = '2011-11-04'\n",
    "date_format = '%Y-%m-%d'\n",
    "\n",
    "datetime.strptime(date_string, date_format)"
   ]
  },
  {
   "cell_type": "code",
   "execution_count": 172,
   "metadata": {},
   "outputs": [
    {
     "data": {
      "text/plain": [
       "datetime.datetime(2011, 11, 4, 0, 0)"
      ]
     },
     "execution_count": 172,
     "metadata": {},
     "output_type": "execute_result"
    }
   ],
   "source": [
    "datetime.strptime('2011-11-04', '%Y-%m-%d')"
   ]
  },
  {
   "cell_type": "code",
   "execution_count": 173,
   "metadata": {},
   "outputs": [
    {
     "data": {
      "text/plain": [
       "datetime.datetime(2011, 11, 4, 0, 0)"
      ]
     },
     "execution_count": 173,
     "metadata": {},
     "output_type": "execute_result"
    }
   ],
   "source": [
    "datetime.strptime('2011-11-04', '%Y-%m-%d')"
   ]
  },
  {
   "cell_type": "code",
   "execution_count": null,
   "metadata": {},
   "outputs": [],
   "source": []
  },
  {
   "cell_type": "markdown",
   "metadata": {},
   "source": []
  },
  {
   "cell_type": "code",
   "execution_count": null,
   "metadata": {},
   "outputs": [],
   "source": []
  },
  {
   "cell_type": "markdown",
   "metadata": {},
   "source": [
    "#### 4. Porównuj daty"
   ]
  },
  {
   "cell_type": "code",
   "execution_count": 149,
   "metadata": {},
   "outputs": [],
   "source": [
    "# Czy data A jest taka jak data B? #"
   ]
  },
  {
   "cell_type": "code",
   "execution_count": 150,
   "metadata": {},
   "outputs": [],
   "source": [
    "obiekt_daty_1 = datetime(year=2000, month=12, day=30)\n",
    "obiekt_daty_2 = datetime(year=2000, month=12, day=30)\n",
    "\n",
    "obiekt_daty_3 = datetime(year=1000, month=10, day=10)"
   ]
  },
  {
   "cell_type": "code",
   "execution_count": 151,
   "metadata": {},
   "outputs": [
    {
     "name": "stdout",
     "output_type": "stream",
     "text": [
      "True\n"
     ]
    }
   ],
   "source": [
    "if obiekt_daty_1 == obiekt_daty_2:\n",
    "    print(True)"
   ]
  },
  {
   "cell_type": "code",
   "execution_count": 152,
   "metadata": {},
   "outputs": [
    {
     "name": "stdout",
     "output_type": "stream",
     "text": [
      "False\n"
     ]
    }
   ],
   "source": [
    "if obiekt_daty_1 == obiekt_daty_3:\n",
    "    print(True)\n",
    "else:\n",
    "    print(False)"
   ]
  },
  {
   "cell_type": "code",
   "execution_count": null,
   "metadata": {},
   "outputs": [],
   "source": [
    "# Czy data A czy data B jest nowsza i o ile?"
   ]
  },
  {
   "cell_type": "code",
   "execution_count": null,
   "metadata": {},
   "outputs": [],
   "source": []
  },
  {
   "cell_type": "code",
   "execution_count": null,
   "metadata": {},
   "outputs": [],
   "source": [
    "# Jaka jest różnica między datą A a datą B?"
   ]
  },
  {
   "cell_type": "code",
   "execution_count": 164,
   "metadata": {},
   "outputs": [
    {
     "data": {
      "text/plain": [
       "datetime.timedelta(seconds=7200)"
      ]
     },
     "execution_count": 164,
     "metadata": {},
     "output_type": "execute_result"
    }
   ],
   "source": [
    "timedelta(hours=2)"
   ]
  },
  {
   "cell_type": "markdown",
   "metadata": {},
   "source": [
    "#### 5. Działania na czasie"
   ]
  },
  {
   "cell_type": "code",
   "execution_count": null,
   "metadata": {},
   "outputs": [],
   "source": [
    "# Dodaj lub odejmij czas"
   ]
  },
  {
   "cell_type": "code",
   "execution_count": null,
   "metadata": {},
   "outputs": [],
   "source": [
    "timedelta(hours=2)"
   ]
  },
  {
   "cell_type": "code",
   "execution_count": null,
   "metadata": {},
   "outputs": [],
   "source": [
    "from datetime import timedelta\n",
    "d = timedelta(microseconds=-1)\n",
    "date2 = date1 + timedelta\n",
    "date2 = date1 - timedelta\n",
    "t1 = t2 + t3\n",
    "t1 = t2 * i or t1 = i * t2\n",
    "t1 = t2 - t3"
   ]
  },
  {
   "cell_type": "markdown",
   "metadata": {},
   "source": [
    "# X"
   ]
  },
  {
   "cell_type": "code",
   "execution_count": 96,
   "metadata": {},
   "outputs": [],
   "source": [
    "import time"
   ]
  },
  {
   "cell_type": "markdown",
   "metadata": {},
   "source": [
    "#### 1. Zatrzymaj działanie programu na N sekund - `time.sleep(N)`\n",
    "\n",
    "Odpal poniższą komórkę. Po każdej iteracji program wstrzyma się na 2 sekundy. Ta metoda przydaje się np. gdy łączymy się z innymi serwerami, albo chcemy aby ktoś odczekał zanim ponownie wykona akcję (np. logowania czy wysłania wiadomości)."
   ]
  },
  {
   "cell_type": "code",
   "execution_count": 3,
   "metadata": {
    "scrolled": false
   },
   "outputs": [
    {
     "name": "stdout",
     "output_type": "stream",
     "text": [
      "0\n",
      "1\n",
      "2\n",
      "3\n",
      "4\n",
      "5\n",
      "6\n",
      "7\n"
     ]
    }
   ],
   "source": [
    "for i in range(8):\n",
    "    print(i)\n",
    "    time.sleep(2)"
   ]
  },
  {
   "cell_type": "markdown",
   "metadata": {},
   "source": [
    "#### 2. Sprawdź dokładnie aktualny czas - np. `time.time()`\n",
    "\n",
    "Czas jako liczba sekund - `time.time() ` lub nanosekund - `time.time_ns() `"
   ]
  },
  {
   "cell_type": "code",
   "execution_count": 74,
   "metadata": {},
   "outputs": [
    {
     "data": {
      "text/plain": [
       "1649952430.0242095"
      ]
     },
     "execution_count": 74,
     "metadata": {},
     "output_type": "execute_result"
    }
   ],
   "source": [
    "time.time() # czas teraz w sekundach "
   ]
  },
  {
   "cell_type": "code",
   "execution_count": 77,
   "metadata": {
    "scrolled": true
   },
   "outputs": [
    {
     "data": {
      "text/plain": [
       "1649952483517560512"
      ]
     },
     "execution_count": 77,
     "metadata": {},
     "output_type": "execute_result"
    }
   ],
   "source": [
    "time.time_ns() # czas teraz, nanosekundy"
   ]
  },
  {
   "cell_type": "markdown",
   "metadata": {},
   "source": [
    "#### 3. Szybko stwórz datę jako tekst - `time.asctime()` lub obiekt ale time a nie datetime - `time.gmtime()`, `time.localtime()`"
   ]
  },
  {
   "cell_type": "markdown",
   "metadata": {},
   "source": [
    "#### A. Jako tekst - `time.asctime()`\n",
    "\n",
    "Data i czas przyjmują wartość typu tekstowego o formacie: `Sun Jun 20 23:21:05 1993`."
   ]
  },
  {
   "cell_type": "code",
   "execution_count": 4,
   "metadata": {},
   "outputs": [
    {
     "data": {
      "text/plain": [
       "'Fri Apr 15 12:33:09 2022'"
      ]
     },
     "execution_count": 4,
     "metadata": {},
     "output_type": "execute_result"
    }
   ],
   "source": [
    "t1 = time.asctime()\n",
    "t1 # string"
   ]
  },
  {
   "cell_type": "markdown",
   "metadata": {},
   "source": [
    "#### B. Jako obiekt z czasem lokalnym - `time.localtime()`\n",
    "\n",
    "Godzina czasu Polskiego lub strefy czasowej Twojego serwera/komputera)."
   ]
  },
  {
   "cell_type": "code",
   "execution_count": 5,
   "metadata": {},
   "outputs": [
    {
     "data": {
      "text/plain": [
       "time.struct_time(tm_year=2022, tm_mon=4, tm_mday=15, tm_hour=12, tm_min=33, tm_sec=9, tm_wday=4, tm_yday=105, tm_isdst=1)"
      ]
     },
     "execution_count": 5,
     "metadata": {},
     "output_type": "execute_result"
    }
   ],
   "source": [
    "t2 = time.localtime()\n",
    "t2"
   ]
  },
  {
   "cell_type": "code",
   "execution_count": null,
   "metadata": {},
   "outputs": [],
   "source": [
    "#"
   ]
  },
  {
   "cell_type": "code",
   "execution_count": 89,
   "metadata": {},
   "outputs": [
    {
     "data": {
      "text/plain": [
       "2022"
      ]
     },
     "execution_count": 89,
     "metadata": {},
     "output_type": "execute_result"
    }
   ],
   "source": [
    "t2.tm_year"
   ]
  },
  {
   "cell_type": "markdown",
   "metadata": {},
   "source": [
    "#### C. Jako obiekt z czasem globalnym - `time.gmtime()`\n",
    "\n",
    "Godzina jest o 2h wcześniejsza niż w Polsce."
   ]
  },
  {
   "cell_type": "markdown",
   "metadata": {},
   "source": [
    "#### Typ obiektu utworzonego w B i C jest taki sam."
   ]
  },
  {
   "cell_type": "code",
   "execution_count": 138,
   "metadata": {},
   "outputs": [
    {
     "data": {
      "text/plain": [
       "time.struct_time"
      ]
     },
     "execution_count": 138,
     "metadata": {},
     "output_type": "execute_result"
    }
   ],
   "source": [
    "type(t2)"
   ]
  },
  {
   "cell_type": "code",
   "execution_count": 139,
   "metadata": {},
   "outputs": [
    {
     "data": {
      "text/plain": [
       "True"
      ]
     },
     "execution_count": 139,
     "metadata": {},
     "output_type": "execute_result"
    }
   ],
   "source": [
    "type(t2) == type(t3)"
   ]
  },
  {
   "cell_type": "markdown",
   "metadata": {},
   "source": [
    "z obiektu time możesz wyciągnąć i wyświetlić między innymi:"
   ]
  },
  {
   "cell_type": "code",
   "execution_count": 127,
   "metadata": {},
   "outputs": [
    {
     "name": "stdout",
     "output_type": "stream",
     "text": [
      "2022 4 14 18 22\n",
      "2022 4 14 16 23\n"
     ]
    }
   ],
   "source": [
    "for t in [t2, t3]:\n",
    "    print(t.tm_year, t.tm_mon, t.tm_mday, t.tm_hour, t.tm_min, )"
   ]
  },
  {
   "cell_type": "markdown",
   "metadata": {},
   "source": [
    "jeżeli chcesz poznać więcej metod, zobacz:"
   ]
  },
  {
   "cell_type": "code",
   "execution_count": 124,
   "metadata": {},
   "outputs": [],
   "source": [
    "#t3.__dir__()"
   ]
  },
  {
   "cell_type": "code",
   "execution_count": null,
   "metadata": {},
   "outputs": [],
   "source": []
  },
  {
   "cell_type": "code",
   "execution_count": null,
   "metadata": {},
   "outputs": [],
   "source": []
  },
  {
   "cell_type": "code",
   "execution_count": null,
   "metadata": {},
   "outputs": [],
   "source": [
    "data_obiekt # PL 1\n",
    "obiekt_daty # PL 1\n",
    "obiekt_data # PL 2\n",
    "\n",
    "date_object # EN "
   ]
  },
  {
   "cell_type": "code",
   "execution_count": null,
   "metadata": {},
   "outputs": [],
   "source": [
    "data_format # PL 1\n",
    "format_daty # PL 2\n",
    "format_data # PL 3\n",
    "\n",
    "date_format # EN "
   ]
  },
  {
   "cell_type": "markdown",
   "metadata": {},
   "source": [
    "### pytz"
   ]
  },
  {
   "cell_type": "code",
   "execution_count": null,
   "metadata": {},
   "outputs": [],
   "source": []
  },
  {
   "cell_type": "code",
   "execution_count": null,
   "metadata": {},
   "outputs": [],
   "source": [
    "import pytz"
   ]
  },
  {
   "cell_type": "code",
   "execution_count": null,
   "metadata": {},
   "outputs": [],
   "source": []
  },
  {
   "cell_type": "code",
   "execution_count": null,
   "metadata": {},
   "outputs": [],
   "source": [
    "33333333333333333333333"
   ]
  },
  {
   "cell_type": "code",
   "execution_count": null,
   "metadata": {},
   "outputs": [],
   "source": [
    "#### Zamiana liczbowej reprezentacji czasu w obiekt datetime\n",
    "\n",
    "from datetime import datetime\n",
    "\n",
    "tz = None\n",
    "liczbowa_reprezentacja_czasu = 13342444434\n",
    "datetime.fromtimestamp(liczbowa_reprezentacja_czasu, tz=tz)\n",
    "\n",
    "from datetime import datetime\n",
    "\n",
    "liczbowa_reprezentacja_czasu = 13342444434\n",
    "datetime.utcfromtimestamp(liczbowa_reprezentacja_czasu)"
   ]
  },
  {
   "cell_type": "code",
   "execution_count": 163,
   "metadata": {},
   "outputs": [],
   "source": [
    "from datetime import time, timezone, timedelta\n",
    "d = date(2005, 7, 14)\n",
    "t = time(12, 30)\n",
    "datetime.combine(d, t)"
   ]
  },
  {
   "cell_type": "code",
   "execution_count": null,
   "metadata": {},
   "outputs": [],
   "source": []
  },
  {
   "cell_type": "code",
   "execution_count": null,
   "metadata": {},
   "outputs": [],
   "source": []
  },
  {
   "cell_type": "code",
   "execution_count": null,
   "metadata": {},
   "outputs": [],
   "source": []
  },
  {
   "cell_type": "markdown",
   "metadata": {},
   "source": [
    "#### 5. Zamień obiekt czasu w stringa z datą sformatowaną tak jak chcesz."
   ]
  },
  {
   "cell_type": "markdown",
   "metadata": {},
   "source": [
    "%a - Locale’s abbreviated weekday name.\n",
    "%A - Locale’s full weekday name.\n",
    "%b - Locale’s abbreviated month name.\n",
    "%B - Locale’s full month name.\n",
    "%c - Locale’s appropriate date and time representation.\n",
    "%d - Day of the month as a decimal number.\n",
    "%H - Hour (24-hour clock) as a decimal number.\n",
    "%I - Hour (12-hour clock) as a decimal number.\n",
    "%j - Day of the year as a decimal number.\n",
    "%m - Month as a decimal number.\n",
    "%M - Minute as a decimal number.\n",
    "%p - Locale’s equivalent of either AM or PM.\n",
    "%S - Second as a decimal number.\n",
    "%U - Week number of the year (Sunday as the first day of the week) as a decimal number. All days in a new year preceding the first Sunday are considered to be in week 0. (3)\n",
    "%w - Weekday as a decimal number\n",
    "%W - Week number of the year (Monday as the first day of the week) as a decimal number. All days in a new year preceding the first Monday are considered to be in week 0.\n",
    "%x - Locale’s appropriate date representation.\n",
    "%X - Locale’s appropriate time representation.\n",
    "%y - Year without century as a decimal number.\n",
    "%Y - Year with century as a decimal number.\n",
    "%Z - Time zone name (no characters if no time zone exists). Deprecated.\n",
    "%% - A literal '%' character"
   ]
  },
  {
   "cell_type": "code",
   "execution_count": null,
   "metadata": {},
   "outputs": [],
   "source": []
  },
  {
   "cell_type": "code",
   "execution_count": 195,
   "metadata": {},
   "outputs": [],
   "source": []
  },
  {
   "cell_type": "code",
   "execution_count": 196,
   "metadata": {},
   "outputs": [],
   "source": []
  },
  {
   "cell_type": "code",
   "execution_count": null,
   "metadata": {},
   "outputs": [],
   "source": []
  },
  {
   "cell_type": "code",
   "execution_count": null,
   "metadata": {},
   "outputs": [],
   "source": []
  },
  {
   "cell_type": "code",
   "execution_count": null,
   "metadata": {},
   "outputs": [],
   "source": []
  },
  {
   "cell_type": "code",
   "execution_count": null,
   "metadata": {},
   "outputs": [],
   "source": []
  },
  {
   "cell_type": "code",
   "execution_count": null,
   "metadata": {},
   "outputs": [],
   "source": []
  },
  {
   "cell_type": "code",
   "execution_count": null,
   "metadata": {},
   "outputs": [],
   "source": []
  },
  {
   "cell_type": "code",
   "execution_count": null,
   "metadata": {},
   "outputs": [],
   "source": []
  },
  {
   "cell_type": "code",
   "execution_count": null,
   "metadata": {},
   "outputs": [],
   "source": []
  },
  {
   "cell_type": "code",
   "execution_count": null,
   "metadata": {},
   "outputs": [],
   "source": []
  },
  {
   "cell_type": "code",
   "execution_count": null,
   "metadata": {},
   "outputs": [],
   "source": []
  },
  {
   "cell_type": "code",
   "execution_count": null,
   "metadata": {},
   "outputs": [],
   "source": []
  },
  {
   "cell_type": "code",
   "execution_count": null,
   "metadata": {},
   "outputs": [],
   "source": []
  },
  {
   "cell_type": "code",
   "execution_count": null,
   "metadata": {},
   "outputs": [],
   "source": []
  },
  {
   "cell_type": "code",
   "execution_count": null,
   "metadata": {},
   "outputs": [],
   "source": []
  },
  {
   "cell_type": "code",
   "execution_count": null,
   "metadata": {},
   "outputs": [],
   "source": []
  },
  {
   "cell_type": "code",
   "execution_count": null,
   "metadata": {},
   "outputs": [],
   "source": []
  },
  {
   "cell_type": "code",
   "execution_count": null,
   "metadata": {},
   "outputs": [],
   "source": []
  },
  {
   "cell_type": "code",
   "execution_count": null,
   "metadata": {},
   "outputs": [],
   "source": []
  },
  {
   "cell_type": "code",
   "execution_count": null,
   "metadata": {},
   "outputs": [],
   "source": []
  },
  {
   "cell_type": "code",
   "execution_count": null,
   "metadata": {},
   "outputs": [],
   "source": []
  },
  {
   "cell_type": "code",
   "execution_count": null,
   "metadata": {},
   "outputs": [],
   "source": []
  },
  {
   "cell_type": "code",
   "execution_count": null,
   "metadata": {},
   "outputs": [],
   "source": []
  },
  {
   "cell_type": "code",
   "execution_count": null,
   "metadata": {},
   "outputs": [],
   "source": []
  },
  {
   "cell_type": "code",
   "execution_count": null,
   "metadata": {},
   "outputs": [],
   "source": []
  },
  {
   "cell_type": "code",
   "execution_count": null,
   "metadata": {},
   "outputs": [],
   "source": []
  },
  {
   "cell_type": "code",
   "execution_count": null,
   "metadata": {},
   "outputs": [],
   "source": []
  },
  {
   "cell_type": "code",
   "execution_count": null,
   "metadata": {},
   "outputs": [],
   "source": []
  },
  {
   "cell_type": "code",
   "execution_count": null,
   "metadata": {},
   "outputs": [],
   "source": []
  },
  {
   "cell_type": "code",
   "execution_count": null,
   "metadata": {},
   "outputs": [],
   "source": []
  },
  {
   "cell_type": "code",
   "execution_count": null,
   "metadata": {},
   "outputs": [],
   "source": []
  },
  {
   "cell_type": "code",
   "execution_count": null,
   "metadata": {},
   "outputs": [],
   "source": []
  },
  {
   "cell_type": "code",
   "execution_count": null,
   "metadata": {},
   "outputs": [],
   "source": []
  },
  {
   "cell_type": "code",
   "execution_count": null,
   "metadata": {},
   "outputs": [],
   "source": []
  },
  {
   "cell_type": "code",
   "execution_count": null,
   "metadata": {},
   "outputs": [],
   "source": []
  },
  {
   "cell_type": "code",
   "execution_count": null,
   "metadata": {},
   "outputs": [],
   "source": []
  },
  {
   "cell_type": "code",
   "execution_count": null,
   "metadata": {},
   "outputs": [],
   "source": []
  },
  {
   "cell_type": "code",
   "execution_count": null,
   "metadata": {},
   "outputs": [],
   "source": []
  },
  {
   "cell_type": "code",
   "execution_count": null,
   "metadata": {},
   "outputs": [],
   "source": []
  },
  {
   "cell_type": "code",
   "execution_count": null,
   "metadata": {},
   "outputs": [],
   "source": []
  },
  {
   "cell_type": "code",
   "execution_count": null,
   "metadata": {},
   "outputs": [],
   "source": []
  },
  {
   "cell_type": "code",
   "execution_count": null,
   "metadata": {},
   "outputs": [],
   "source": []
  },
  {
   "cell_type": "code",
   "execution_count": null,
   "metadata": {},
   "outputs": [],
   "source": []
  },
  {
   "cell_type": "code",
   "execution_count": null,
   "metadata": {},
   "outputs": [],
   "source": []
  },
  {
   "cell_type": "code",
   "execution_count": null,
   "metadata": {},
   "outputs": [],
   "source": []
  },
  {
   "cell_type": "code",
   "execution_count": null,
   "metadata": {},
   "outputs": [],
   "source": []
  },
  {
   "cell_type": "code",
   "execution_count": null,
   "metadata": {},
   "outputs": [],
   "source": []
  },
  {
   "cell_type": "code",
   "execution_count": null,
   "metadata": {},
   "outputs": [],
   "source": []
  },
  {
   "cell_type": "code",
   "execution_count": null,
   "metadata": {},
   "outputs": [],
   "source": []
  },
  {
   "cell_type": "code",
   "execution_count": null,
   "metadata": {},
   "outputs": [],
   "source": []
  },
  {
   "cell_type": "code",
   "execution_count": null,
   "metadata": {},
   "outputs": [],
   "source": []
  },
  {
   "cell_type": "code",
   "execution_count": null,
   "metadata": {},
   "outputs": [],
   "source": []
  },
  {
   "cell_type": "markdown",
   "metadata": {},
   "source": [
    "#### 3. Zamień string z datą w obiekt `time` wedle formatu."
   ]
  },
  {
   "cell_type": "code",
   "execution_count": 188,
   "metadata": {},
   "outputs": [
    {
     "data": {
      "text/plain": [
       "time.struct_time(tm_year=2001, tm_mon=11, tm_mday=30, tm_hour=0, tm_min=0, tm_sec=0, tm_wday=4, tm_yday=334, tm_isdst=-1)"
      ]
     },
     "execution_count": 188,
     "metadata": {},
     "output_type": "execute_result"
    }
   ],
   "source": [
    "data1 = \"30 Nov 01\"\n",
    "format_daty = \"%d %b %y\"\n",
    "\n",
    "time.strptime(data1, format_daty)  "
   ]
  },
  {
   "cell_type": "markdown",
   "metadata": {},
   "source": [
    "#### 4. Zamień obiekt czasu w stringa z datą sformatowaną tak jak chcesz."
   ]
  },
  {
   "cell_type": "code",
   "execution_count": 171,
   "metadata": {},
   "outputs": [
    {
     "data": {
      "text/plain": [
       "'Thu, 14 Apr 2022 16:54:54 +0000'"
      ]
     },
     "execution_count": 171,
     "metadata": {},
     "output_type": "execute_result"
    }
   ],
   "source": [
    "format_czasu = \"%a, %d %b %Y %H:%M:%S +0000\"\n",
    "obiekt_czasu1 = time.gmtime()\n",
    "time.strftime(format_czasu, obiekt_czasu1)"
   ]
  },
  {
   "cell_type": "code",
   "execution_count": 172,
   "metadata": {},
   "outputs": [
    {
     "data": {
      "text/plain": [
       "'Thu, 14 Apr 2022 18:54:54 +0000'"
      ]
     },
     "execution_count": 172,
     "metadata": {},
     "output_type": "execute_result"
    }
   ],
   "source": [
    "format_czasu = \"%a, %d %b %Y %H:%M:%S +0000\"\n",
    "obiekt_czasu2 = time.localtime()\n",
    "time.strftime(format_czasu, obiekt_czasu2)"
   ]
  },
  {
   "cell_type": "code",
   "execution_count": null,
   "metadata": {},
   "outputs": [],
   "source": []
  }
 ],
 "metadata": {
  "kernelspec": {
   "display_name": "Python 3",
   "language": "python",
   "name": "python3"
  },
  "language_info": {
   "codemirror_mode": {
    "name": "ipython",
    "version": 3
   },
   "file_extension": ".py",
   "mimetype": "text/x-python",
   "name": "python",
   "nbconvert_exporter": "python",
   "pygments_lexer": "ipython3",
   "version": "3.8.10"
  }
 },
 "nbformat": 4,
 "nbformat_minor": 4
}
