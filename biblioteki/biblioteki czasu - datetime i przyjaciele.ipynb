{
 "cells": [
  {
   "cell_type": "markdown",
   "metadata": {},
   "source": [
    "# Czas i data\n",
    "\n",
    "## Biblioteki czasu - datetime i przyjaciele\n",
    "\n",
    "Daty, czas.\n",
    "\n",
    "**Bibliotek** zajmujących się datami i czasem jest sporo. Wybierz `datetime` jest tu przytoczony szerzej, pozostałe gdy mają największe przełożenie. \n",
    "\n",
    "1. [Dokumentacja time](https://docs.python.org/3/library/time.html) (Level 1)\n",
    "2. [Dokumentacja datetime](https://docs.python.org/3/library/datetime.html) (Level 1)\n",
    "3. [Dokumentacja dateutil](https://dateutil.readthedocs.io/en/stable/changelog.html) (Level 1)\n",
    "4. [Dokumentacja pytz](https://pythonhosted.org/pytz/) (Level 2)\n",
    "5. [calendar](https://docs.python.org/3/library/calendar.html) \n",
    "6. [locale](https://docs.python.org/3/library/locale.html#module-locale). \n",
    "\n",
    "To wybór tego co potrzebujesz na już aby działać i rozwijać się w szybkim logicznym rytmie. W przyszłości dowiesz się więcej o tym jak je poznawać i kiedy. Narazie, jeżeli zaczynasz skup się na materiale podstawowym.\n",
    "\n",
    "**Level 1:**\n",
    "\n",
    "Główne problemy (i zagadnienia) i rozwiązania związane z datą i czasem:\n",
    "\n",
    "1. Czas - `time.sleep(10)` (zatrzymaj program na 10 sekund)\n",
    "2. Czas teraz - `obiekt_daty1 = datetime.now(tz=None)`\n",
    "3. Inny czas - `obiekt_daty2 = datetime(2022, 10, 1, 10, 1)`\n",
    "4. Wybierz informacje z obiektu daty - np. dzień lub rok - `rok, miesiac = obiekt_daty.year, obiekt_daty.month`\n",
    "5. Zmień czas - `obiekt_daty = obiekt_daty.replace(hour=10)`\n",
    "6. Zamień obiekt daty na tekst `data_tekst = data_obiekt.strftime('%Y-%m-%d' )`\n",
    "7. Zamień tekst na obiekt daty - `obiekt_daty = parser.parse(\"20-02-1991\")`\n",
    "8. Roznica czasu - `roznica_czasu = obiekt_daty1 - obiekt_daty2` - to `timedelta`\n",
    "9. Dzialania na czasie - `obiekt_daty = obiekt_daty - timedelta(hours=2)`\n",
    "10. Porównuj daty - `if obiekt_daty1 == obiekt_daty2: pass`\n",
    "11. Ktora data jest nowsza? - `if obiekt_daty1 > obiekt_daty2: print(True), else: print(False)`\n",
    "\n",
    "\n",
    "**Level 2:**\n",
    "\n",
    "1. "
   ]
  },
  {
   "cell_type": "markdown",
   "metadata": {},
   "source": [
    "### Uwaga wstępna\n",
    "\n",
    "Czas to spore zagadnienie. Tak jak wiele bibliotek pomaga w obliczeniach tak i jest w Pythonie wiele bibliotek które zajmują się czasem. \n",
    "\n",
    "\n",
    "Jednak z powodów praktycznych, zanim zapoznasz się lepiej z powyższymi obiektami (a powtórz ten materiał kilka razy) lepiej będzie jak zaczniesz naukę od\n",
    "\n",
    "1. Stwórz obiekt daty \n",
    "2. Zmień obiekt daty w tekst i spowrotem\n",
    "3. Zmodyfikuj obiekt daty\n",
    "4. Porównaj czas\n",
    "5. Działania na czasie\n",
    "\n",
    "#### `import time`:\n",
    "1. Zatrzymaj działanie programu na N sekund - `time.sleep(N)` <--------------------  **!!!!!!!!**  \n",
    "\n",
    "#### potem\n",
    "2. Sprawdź dokładnie aktualny czas - np. `time.time()`\n",
    "3. Szybko stwórz datę jako tekst - `time.asctime()` lub obiekt ale nie datetime - `time.gmtime()`, `time.localtime()`\n",
    "\n",
    "#### Use case'y:\n",
    "1. Obliczanie czasu w którym wykonuje się program, porównywanie czasów dla róznych programów"
   ]
  },
  {
   "cell_type": "markdown",
   "metadata": {},
   "source": [
    "## Level 1"
   ]
  },
  {
   "cell_type": "markdown",
   "metadata": {},
   "source": [
    "#### W skrócie"
   ]
  },
  {
   "cell_type": "code",
   "execution_count": 68,
   "metadata": {},
   "outputs": [
    {
     "name": "stdout",
     "output_type": "stream",
     "text": [
      "2\n"
     ]
    }
   ],
   "source": [
    "# 1. Czas\n",
    "import time\n",
    "time.sleep(10) # Zatrzymaj program na 10 sekund\n",
    "\n",
    "# 2. Czas teraz\n",
    "from datetime import datetime\n",
    "obiekt_daty1 = datetime.now(tz=None) # Czas teraz\n",
    "\n",
    "# 3. Inny czas\n",
    "obiekt_daty2 = datetime(2022, 10, 1, 10, 1) # Inny czas\n",
    "\n",
    "# 4. Wybierz informacje z obiektu daty - np. dzień lub rok\n",
    "rok, miesiac = obiekt_daty.year, obiekt_daty.month\n",
    "\n",
    "# 5. Zmień czas \n",
    "obiekt_daty = obiekt_daty.replace(hour=10)\n",
    "\n",
    "# 6. Zamień obiekt daty na tekst\n",
    "data_obiekt = datetime.today()\n",
    "data_tekst = data_obiekt.strftime('%Y-%m-%d' )\n",
    "\n",
    "# 7. Zamień tekst na obiekt daty\n",
    "from dateutil import parser\n",
    "obiekt_daty = parser.parse(\"20-02-1991\")\n",
    "\n",
    "# 8. Roznica czasu\n",
    "roznica_czasu = obiekt_daty1 - obiekt_daty2\n",
    "roznica_czasu = timedelta(hours=2)\n",
    "\n",
    "# 9. Dzialania na czasie\n",
    "obiekt_daty = obiekt_daty - roznica_czasu\n",
    "obiekt_daty = obiekt_daty + roznica_czasu\n",
    "\n",
    "# 10. Porównuj daty\n",
    "if obiekt_daty1 == obiekt_daty2:\n",
    "    pass\n",
    "\n",
    "# 11. Ktora data jest nowsza?\n",
    "if obiekt_daty1 > obiekt_daty2:\n",
    "    print(1)\n",
    "else:\n",
    "    print(2)"
   ]
  },
  {
   "cell_type": "code",
   "execution_count": 69,
   "metadata": {},
   "outputs": [
    {
     "name": "stdout",
     "output_type": "stream",
     "text": [
      "0 2022-04-16 00:00:06.900738\n",
      "0 2022-04-16 00:10:06.900738\n",
      "0 2022-04-16 00:20:06.900738\n",
      "0 2022-04-16 00:30:06.900738\n",
      "0 2022-04-16 00:40:06.900738\n",
      "0 2022-04-16 00:50:06.900738\n",
      "\n",
      "1 2022-04-16 01:00:06.900738\n",
      "1 2022-04-16 01:10:06.900738\n",
      "1 2022-04-16 01:20:06.900738\n",
      "1 2022-04-16 01:30:06.900738\n",
      "1 2022-04-16 01:40:06.900738\n",
      "1 2022-04-16 01:50:06.900738\n",
      "\n",
      "2 2022-04-16 02:00:06.900738\n",
      "2 2022-04-16 02:10:06.900738\n",
      "2 2022-04-16 02:20:06.900738\n",
      "2 2022-04-16 02:30:06.900738\n",
      "2 2022-04-16 02:40:06.900738\n",
      "2 2022-04-16 02:50:06.900738\n",
      "\n",
      "3 2022-04-16 03:00:06.900738\n",
      "3 2022-04-16 03:10:06.900738\n",
      "3 2022-04-16 03:20:06.900738\n",
      "3 2022-04-16 03:30:06.900738\n",
      "3 2022-04-16 03:40:06.900738\n",
      "3 2022-04-16 03:50:06.900738\n",
      "\n",
      "4 2022-04-16 04:00:06.900738\n",
      "4 2022-04-16 04:10:06.900738\n",
      "4 2022-04-16 04:20:06.900738\n",
      "4 2022-04-16 04:30:06.900738\n",
      "4 2022-04-16 04:40:06.900738\n",
      "4 2022-04-16 04:50:06.900738\n",
      "\n",
      "5 2022-04-16 05:00:06.900738\n",
      "5 2022-04-16 05:10:06.900738\n",
      "5 2022-04-16 05:20:06.900738\n",
      "5 2022-04-16 05:30:06.900738\n",
      "5 2022-04-16 05:40:06.900738\n",
      "5 2022-04-16 05:50:06.900738\n",
      "\n",
      "6 2022-04-16 06:00:06.900738\n",
      "6 2022-04-16 06:10:06.900738\n",
      "6 2022-04-16 06:20:06.900738\n",
      "6 2022-04-16 06:30:06.900738\n",
      "6 2022-04-16 06:40:06.900738\n",
      "6 2022-04-16 06:50:06.900738\n",
      "\n",
      "7 2022-04-16 07:00:06.900738\n",
      "7 2022-04-16 07:10:06.900738\n",
      "7 2022-04-16 07:20:06.900738\n",
      "7 2022-04-16 07:30:06.900738\n",
      "7 2022-04-16 07:40:06.900738\n",
      "7 2022-04-16 07:50:06.900738\n",
      "\n",
      "8 2022-04-16 08:00:06.900738\n",
      "8 2022-04-16 08:10:06.900738\n",
      "8 2022-04-16 08:20:06.900738\n",
      "8 2022-04-16 08:30:06.900738\n",
      "8 2022-04-16 08:40:06.900738\n",
      "8 2022-04-16 08:50:06.900738\n",
      "\n",
      "9 2022-04-16 09:00:06.900738\n",
      "9 2022-04-16 09:10:06.900738\n",
      "9 2022-04-16 09:20:06.900738\n",
      "9 2022-04-16 09:30:06.900738\n",
      "9 2022-04-16 09:40:06.900738\n",
      "9 2022-04-16 09:50:06.900738\n",
      "\n",
      "10 2022-04-16 10:00:06.900738\n",
      "10 2022-04-16 10:10:06.900738\n",
      "10 2022-04-16 10:20:06.900738\n",
      "10 2022-04-16 10:30:06.900738\n",
      "10 2022-04-16 10:40:06.900738\n",
      "10 2022-04-16 10:50:06.900738\n",
      "\n",
      "11 2022-04-16 11:00:06.900738\n",
      "11 2022-04-16 11:10:06.900738\n",
      "11 2022-04-16 11:20:06.900738\n",
      "11 2022-04-16 11:30:06.900738\n",
      "11 2022-04-16 11:40:06.900738\n",
      "11 2022-04-16 11:50:06.900738\n",
      "\n",
      "12 2022-04-16 12:00:06.900738\n",
      "12 2022-04-16 12:10:06.900738\n",
      "12 2022-04-16 12:20:06.900738\n",
      "12 2022-04-16 12:30:06.900738\n",
      "12 2022-04-16 12:40:06.900738\n",
      "12 2022-04-16 12:50:06.900738\n",
      "\n",
      "13 2022-04-16 13:00:06.900738\n",
      "13 2022-04-16 13:10:06.900738\n",
      "13 2022-04-16 13:20:06.900738\n",
      "13 2022-04-16 13:30:06.900738\n",
      "13 2022-04-16 13:40:06.900738\n",
      "13 2022-04-16 13:50:06.900738\n",
      "\n",
      "14 2022-04-16 14:00:06.900738\n",
      "14 2022-04-16 14:10:06.900738\n",
      "14 2022-04-16 14:20:06.900738\n",
      "14 2022-04-16 14:30:06.900738\n",
      "14 2022-04-16 14:40:06.900738\n",
      "14 2022-04-16 14:50:06.900738\n",
      "\n",
      "15 2022-04-16 15:00:06.900738\n",
      "15 2022-04-16 15:10:06.900738\n",
      "15 2022-04-16 15:20:06.900738\n",
      "15 2022-04-16 15:30:06.900738\n",
      "15 2022-04-16 15:40:06.900738\n",
      "15 2022-04-16 15:50:06.900738\n",
      "\n",
      "16 2022-04-16 16:00:06.900738\n",
      "16 2022-04-16 16:10:06.900738\n",
      "16 2022-04-16 16:20:06.900738\n",
      "16 2022-04-16 16:30:06.900738\n",
      "16 2022-04-16 16:40:06.900738\n",
      "16 2022-04-16 16:50:06.900738\n",
      "\n",
      "17 2022-04-16 17:00:06.900738\n",
      "17 2022-04-16 17:10:06.900738\n",
      "17 2022-04-16 17:20:06.900738\n",
      "17 2022-04-16 17:30:06.900738\n",
      "17 2022-04-16 17:40:06.900738\n",
      "17 2022-04-16 17:50:06.900738\n",
      "\n",
      "18 2022-04-16 18:00:06.900738\n",
      "18 2022-04-16 18:10:06.900738\n",
      "18 2022-04-16 18:20:06.900738\n",
      "18 2022-04-16 18:30:06.900738\n",
      "18 2022-04-16 18:40:06.900738\n",
      "18 2022-04-16 18:50:06.900738\n",
      "\n",
      "19 2022-04-16 19:00:06.900738\n",
      "19 2022-04-16 19:10:06.900738\n",
      "19 2022-04-16 19:20:06.900738\n",
      "19 2022-04-16 19:30:06.900738\n",
      "19 2022-04-16 19:40:06.900738\n",
      "19 2022-04-16 19:50:06.900738\n",
      "\n",
      "20 2022-04-16 20:00:06.900738\n",
      "20 2022-04-16 20:10:06.900738\n",
      "20 2022-04-16 20:20:06.900738\n",
      "20 2022-04-16 20:30:06.900738\n",
      "20 2022-04-16 20:40:06.900738\n",
      "20 2022-04-16 20:50:06.900738\n",
      "\n",
      "21 2022-04-16 21:00:06.900738\n",
      "21 2022-04-16 21:10:06.900738\n",
      "21 2022-04-16 21:20:06.900738\n",
      "21 2022-04-16 21:30:06.900738\n",
      "21 2022-04-16 21:40:06.900738\n",
      "21 2022-04-16 21:50:06.900738\n",
      "\n",
      "22 2022-04-16 22:00:06.900738\n",
      "22 2022-04-16 22:10:06.900738\n",
      "22 2022-04-16 22:20:06.900738\n",
      "22 2022-04-16 22:30:06.900738\n",
      "22 2022-04-16 22:40:06.900738\n",
      "22 2022-04-16 22:50:06.900738\n",
      "\n",
      "23 2022-04-16 23:00:06.900738\n",
      "23 2022-04-16 23:10:06.900738\n",
      "23 2022-04-16 23:20:06.900738\n",
      "23 2022-04-16 23:30:06.900738\n",
      "23 2022-04-16 23:40:06.900738\n",
      "23 2022-04-16 23:50:06.900738\n",
      "\n"
     ]
    }
   ],
   "source": [
    "from datetime import datetime\n",
    "data = datetime.today()\n",
    "for i in range(24):\n",
    "    hour = i\n",
    "    for j in range(6):\n",
    "        minute = j*10\n",
    "        data = data.replace(hour=hour, minute=minute)\n",
    "        print(i, data)\n",
    "    print()"
   ]
  },
  {
   "cell_type": "markdown",
   "metadata": {},
   "source": [
    "### 1. Czas"
   ]
  },
  {
   "cell_type": "markdown",
   "metadata": {},
   "source": [
    "####  Zatrzymaj działanie programu na N sekund - `time.sleep(N)`\n",
    "\n",
    "Odpal poniższą komórkę. Po każdej iteracji program wstrzyma się na 2 sekundy. Ta metoda przydaje się np. gdy łączymy się z innymi serwerami, albo chcemy aby ktoś odczekał zanim ponownie wykona akcję (np. logowania czy wysłania wiadomości)."
   ]
  },
  {
   "cell_type": "code",
   "execution_count": 324,
   "metadata": {
    "scrolled": false
   },
   "outputs": [
    {
     "name": "stdout",
     "output_type": "stream",
     "text": [
      "0\n",
      "1\n",
      "2\n",
      "3\n",
      "4\n",
      "5\n",
      "6\n",
      "7\n"
     ]
    }
   ],
   "source": [
    "import time\n",
    "\n",
    "for i in range(8):\n",
    "    print(i)\n",
    "    time.sleep(2)"
   ]
  },
  {
   "cell_type": "markdown",
   "metadata": {},
   "source": [
    "### 2. Czas teraz\n",
    "\n",
    "jako obiekt daty `datetime`."
   ]
  },
  {
   "cell_type": "code",
   "execution_count": 381,
   "metadata": {},
   "outputs": [],
   "source": [
    "from datetime import datetime # obiekt czasu"
   ]
  },
  {
   "cell_type": "markdown",
   "metadata": {},
   "source": [
    "teraz"
   ]
  },
  {
   "cell_type": "code",
   "execution_count": 377,
   "metadata": {},
   "outputs": [
    {
     "data": {
      "text/plain": [
       "datetime.datetime(2022, 4, 16, 15, 17, 55, 858209)"
      ]
     },
     "execution_count": 377,
     "metadata": {},
     "output_type": "execute_result"
    }
   ],
   "source": [
    "czas_teraz = datetime.now()\n",
    "czas_teraz"
   ]
  },
  {
   "cell_type": "markdown",
   "metadata": {},
   "source": [
    "#### obiekt `datetime`\n",
    "\n",
    "O tym obiekcie (oraz jego reprezentacji tekstowej) będzie reszta tego poziomu. "
   ]
  },
  {
   "cell_type": "code",
   "execution_count": 380,
   "metadata": {},
   "outputs": [
    {
     "data": {
      "text/plain": [
       "datetime.datetime"
      ]
     },
     "execution_count": 380,
     "metadata": {},
     "output_type": "execute_result"
    }
   ],
   "source": [
    "type(czas_teraz)"
   ]
  },
  {
   "cell_type": "markdown",
   "metadata": {},
   "source": [
    "#### czasu lokalnego (UTC+2)\n",
    "\n",
    "Liczonego wg. ustawień na Twoim komputerze lub serwerze czy miejscu gdzie jest odpalany skrypt."
   ]
  },
  {
   "cell_type": "code",
   "execution_count": 202,
   "metadata": {},
   "outputs": [
    {
     "data": {
      "text/plain": [
       "datetime.datetime(2022, 4, 16, 0, 13, 40, 848137)"
      ]
     },
     "execution_count": 202,
     "metadata": {},
     "output_type": "execute_result"
    }
   ],
   "source": [
    "datetime.today()"
   ]
  },
  {
   "cell_type": "markdown",
   "metadata": {},
   "source": [
    "#### czasu UTC"
   ]
  },
  {
   "cell_type": "code",
   "execution_count": 199,
   "metadata": {},
   "outputs": [
    {
     "data": {
      "text/plain": [
       "datetime.datetime(2022, 4, 15, 22, 8, 37, 118963)"
      ]
     },
     "execution_count": 199,
     "metadata": {},
     "output_type": "execute_result"
    }
   ],
   "source": [
    "datetime.utcnow()"
   ]
  },
  {
   "cell_type": "markdown",
   "metadata": {},
   "source": [
    "#### czasu wg. tej strefy jaką podasz \n",
    "\n",
    "Lista stref. Biblitoeka miejsce-strefa"
   ]
  },
  {
   "cell_type": "code",
   "execution_count": 375,
   "metadata": {},
   "outputs": [
    {
     "name": "stdout",
     "output_type": "stream",
     "text": [
      "2022-04-16 15:17:38.128660\n"
     ]
    }
   ],
   "source": [
    "tz = timezone.utc\n",
    "tz = None\n",
    "\n",
    "print(datetime.now(tz=tz))"
   ]
  },
  {
   "cell_type": "markdown",
   "metadata": {},
   "source": [
    "### 3. Inny czas\n",
    "\n",
    "Obiekt `datetime` możesz tworzyć przekazując mu informacje o dacie i godzinie. Te same informacje możesz też z niego wybrać albo je modyfikować. Zacznij od tworzenia:"
   ]
  },
  {
   "cell_type": "code",
   "execution_count": 203,
   "metadata": {},
   "outputs": [
    {
     "data": {
      "text/plain": [
       "datetime.datetime(2000, 12, 30, 0, 0)"
      ]
     },
     "execution_count": 203,
     "metadata": {},
     "output_type": "execute_result"
    }
   ],
   "source": [
    "datetime(year=2000, month=12, day=30)"
   ]
  },
  {
   "cell_type": "code",
   "execution_count": 143,
   "metadata": {},
   "outputs": [
    {
     "data": {
      "text/plain": [
       "datetime.datetime(2000, 12, 30, 23, 59, 59)"
      ]
     },
     "execution_count": 143,
     "metadata": {},
     "output_type": "execute_result"
    }
   ],
   "source": [
    "datetime(year=2000, month=12, day=30, hour=23, minute=59, second=59)"
   ]
  },
  {
   "cell_type": "code",
   "execution_count": 21,
   "metadata": {},
   "outputs": [
    {
     "data": {
      "text/plain": [
       "datetime.datetime(2000, 12, 30, 23, 59, 59, tzinfo=datetime.timezone.utc)"
      ]
     },
     "execution_count": 21,
     "metadata": {},
     "output_type": "execute_result"
    }
   ],
   "source": [
    "datetime(year=2000, month=12, day=30, hour=23, minute=59, second=59, tzinfo=timezone.utc)"
   ]
  },
  {
   "cell_type": "markdown",
   "metadata": {},
   "source": [
    "### 4. Wybierz informacje z obiektu daty - np. dzień lub rok"
   ]
  },
  {
   "cell_type": "code",
   "execution_count": 360,
   "metadata": {},
   "outputs": [
    {
     "data": {
      "text/plain": [
       "2022"
      ]
     },
     "execution_count": 360,
     "metadata": {},
     "output_type": "execute_result"
    }
   ],
   "source": [
    "data = datetime.today()\n",
    "\n",
    "data.year"
   ]
  },
  {
   "cell_type": "code",
   "execution_count": 361,
   "metadata": {},
   "outputs": [
    {
     "data": {
      "text/plain": [
       "15"
      ]
     },
     "execution_count": 361,
     "metadata": {},
     "output_type": "execute_result"
    }
   ],
   "source": [
    "data.hour"
   ]
  },
  {
   "cell_type": "code",
   "execution_count": 24,
   "metadata": {},
   "outputs": [
    {
     "name": "stdout",
     "output_type": "stream",
     "text": [
      "Cała data:      2000-12-30 23:59:59\n",
      "Rok:            2000\n",
      "Miesiąc:        12\n",
      "Dzień:          30\n",
      "Godzina:        23\n",
      "Minuta:         59\n",
      "Sekunda:        59\n",
      "Mikrosekunda:   0\n",
      "Strefa czasowa: None\n",
      "\n",
      "Cała data:      2022-04-15 18:38:32.895668\n",
      "Rok:            2022\n",
      "Miesiąc:        4\n",
      "Dzień:          15\n",
      "Godzina:        18\n",
      "Minuta:         38\n",
      "Sekunda:        32\n",
      "Mikrosekunda:   895668\n",
      "Strefa czasowa: None\n",
      "\n"
     ]
    }
   ],
   "source": [
    "data_1 = datetime(year=2000, month=12, day=30, hour=23, minute=59, second=59)\n",
    "data_2 = datetime.today()\n",
    "\n",
    "for data in [data_1, data_2]:\n",
    "    print('Cała data:     ', data)\n",
    "    print('Rok:           ', data.year)\n",
    "    print('Miesiąc:       ', data.month)\n",
    "    print('Dzień:         ', data.day)\n",
    "    print('Godzina:       ', data.hour)\n",
    "    print('Minuta:        ', data.minute)\n",
    "    print('Sekunda:       ', data.second)\n",
    "    print('Mikrosekunda:  ', data.microsecond) # 0.000001\n",
    "    print('Strefa czasowa:', data.tzinfo)\n",
    "    print()"
   ]
  },
  {
   "cell_type": "markdown",
   "metadata": {},
   "source": [
    "### 5. Zmień czas \n",
    "\n",
    "istniejącego obiektu daty `datatime`\n",
    "\n",
    "Jeżeli Twoja data jest zapisana jako tekst `str`, najpierw zmień jej treść na obiekt datetime. "
   ]
  },
  {
   "cell_type": "markdown",
   "metadata": {},
   "source": [
    "#### Zmień strefę czasową, godzinę lub inne informacje daty"
   ]
  },
  {
   "cell_type": "code",
   "execution_count": 204,
   "metadata": {},
   "outputs": [
    {
     "data": {
      "text/plain": [
       "datetime.datetime(2002, 4, 15, 21, 29, 50, 873019)"
      ]
     },
     "execution_count": 204,
     "metadata": {},
     "output_type": "execute_result"
    }
   ],
   "source": [
    "obiekt_daty.replace(year=2002)"
   ]
  },
  {
   "cell_type": "code",
   "execution_count": 206,
   "metadata": {},
   "outputs": [
    {
     "data": {
      "text/plain": [
       "datetime.datetime(2022, 4, 15, 20, 29, 50, 873019)"
      ]
     },
     "execution_count": 206,
     "metadata": {},
     "output_type": "execute_result"
    }
   ],
   "source": [
    "obiekt_daty.replace(hour=20)"
   ]
  },
  {
   "cell_type": "code",
   "execution_count": 233,
   "metadata": {},
   "outputs": [
    {
     "data": {
      "text/plain": [
       "datetime.datetime(2022, 4, 15, 22, 49, 3, 93833, tzinfo=datetime.timezone.utc)"
      ]
     },
     "execution_count": 233,
     "metadata": {},
     "output_type": "execute_result"
    }
   ],
   "source": [
    "obiekt_daty.astimezone(tz=timezone.utc)"
   ]
  },
  {
   "cell_type": "markdown",
   "metadata": {},
   "source": [
    "###6. Sprawne przekształcanie tekstu w obiekt daty i spowrotem\n",
    "\n",
    "\n",
    "    A. datetime -> str\n",
    "    B. str -> `datetime\n"
   ]
  },
  {
   "cell_type": "markdown",
   "metadata": {},
   "source": [
    "## A. `datetime` -> `str`"
   ]
  },
  {
   "cell_type": "markdown",
   "metadata": {},
   "source": [
    "#### Format ISO"
   ]
  },
  {
   "cell_type": "code",
   "execution_count": 333,
   "metadata": {},
   "outputs": [
    {
     "data": {
      "text/plain": [
       "'2022-04-16T13:36:19.273134'"
      ]
     },
     "execution_count": 333,
     "metadata": {},
     "output_type": "execute_result"
    }
   ],
   "source": [
    "from datetime import datetime \n",
    "\n",
    "data_obiekt = datetime.today()\n",
    "\n",
    "data_obiekt.isoformat()"
   ]
  },
  {
   "cell_type": "markdown",
   "metadata": {},
   "source": [
    "#### Format taki jaki chcesz wybrać\n",
    "\n",
    "Datę można rozpisać na wiele sposobów. Używając `strftime` Ty decydujesz. W kolejnych w materiałach o dacie znajdziesz więcej informacji o zapisie daty."
   ]
  },
  {
   "cell_type": "code",
   "execution_count": 338,
   "metadata": {},
   "outputs": [
    {
     "data": {
      "text/plain": [
       "'2022-04-16'"
      ]
     },
     "execution_count": 338,
     "metadata": {},
     "output_type": "execute_result"
    }
   ],
   "source": [
    "data_obiekt = datetime.today()\n",
    "data_format = '%Y-%m-%d' \n",
    "\n",
    "data_obiekt.strftime(date_format)"
   ]
  },
  {
   "cell_type": "markdown",
   "metadata": {},
   "source": [
    "## B. `str` -> `datetime`"
   ]
  },
  {
   "cell_type": "markdown",
   "metadata": {},
   "source": [
    "#### Na szybko"
   ]
  },
  {
   "cell_type": "code",
   "execution_count": 355,
   "metadata": {},
   "outputs": [
    {
     "data": {
      "text/plain": [
       "datetime.datetime(1991, 2, 20, 0, 0)"
      ]
     },
     "execution_count": 355,
     "metadata": {},
     "output_type": "execute_result"
    }
   ],
   "source": [
    "from dateutil import parser\n",
    "\n",
    "data_str = \"20-02-1991\"\n",
    "\n",
    "parser.parse(data_str)"
   ]
  },
  {
   "cell_type": "code",
   "execution_count": null,
   "metadata": {},
   "outputs": [],
   "source": []
  },
  {
   "cell_type": "markdown",
   "metadata": {},
   "source": [
    "### 6. Porównuj daty\n"
   ]
  },
  {
   "cell_type": "code",
   "execution_count": 372,
   "metadata": {},
   "outputs": [],
   "source": [
    "obiekt_daty_1 = datetime(year=2000, month=12, day=30)\n",
    "obiekt_daty_2 = datetime(year=2000, month=12, day=30)\n",
    "\n",
    "obiekt_daty_3 = datetime(year=1000, month=10, day=10)"
   ]
  },
  {
   "cell_type": "markdown",
   "metadata": {},
   "source": [
    "#### Czy data A i data B są takie same?"
   ]
  },
  {
   "cell_type": "code",
   "execution_count": 286,
   "metadata": {},
   "outputs": [
    {
     "name": "stdout",
     "output_type": "stream",
     "text": [
      "True\n"
     ]
    }
   ],
   "source": [
    "if obiekt_daty_1 == obiekt_daty_2:\n",
    "    print(True)"
   ]
  },
  {
   "cell_type": "code",
   "execution_count": 287,
   "metadata": {},
   "outputs": [
    {
     "name": "stdout",
     "output_type": "stream",
     "text": [
      "False\n"
     ]
    }
   ],
   "source": [
    "if obiekt_daty_1 == obiekt_daty_3:\n",
    "    print(True)\n",
    "else:\n",
    "    print(False)"
   ]
  },
  {
   "cell_type": "markdown",
   "metadata": {},
   "source": [
    "#### Która data jest nowsza?"
   ]
  },
  {
   "cell_type": "code",
   "execution_count": 370,
   "metadata": {},
   "outputs": [
    {
     "name": "stdout",
     "output_type": "stream",
     "text": [
      "1 data jest nowsza.\n"
     ]
    }
   ],
   "source": [
    "obiekt_daty_1 = datetime(year=2000, month=12, day=30)\n",
    "obiekt_daty_2 = datetime(year=2000, month=11, day=30)\n",
    "\n",
    "if obiekt_daty_1 > obiekt_daty_2:\n",
    "    print('1 data jest nowsza.')\n",
    "else:\n",
    "    print('2 data jest nowsza.')"
   ]
  },
  {
   "cell_type": "markdown",
   "metadata": {},
   "source": [
    "#### Jaka jest różnica między datą A a datą B?"
   ]
  },
  {
   "cell_type": "code",
   "execution_count": 371,
   "metadata": {},
   "outputs": [
    {
     "data": {
      "text/plain": [
       "datetime.timedelta(days=30)"
      ]
     },
     "execution_count": 371,
     "metadata": {},
     "output_type": "execute_result"
    }
   ],
   "source": [
    "roznica_czasu = obiekt_daty_1 - obiekt_daty_2\n",
    "roznica_czasu"
   ]
  },
  {
   "cell_type": "markdown",
   "metadata": {},
   "source": [
    "### 7. Działania na czasie\n",
    "\n",
    "Obiekt `timedelta` reprezentuje różnicę czasową. Np różnica czasu 2h to:"
   ]
  },
  {
   "cell_type": "code",
   "execution_count": 292,
   "metadata": {},
   "outputs": [],
   "source": [
    "from datetime import timedelta\n",
    "\n",
    "roznica_czasu = timedelta(hours=2)"
   ]
  },
  {
   "cell_type": "code",
   "execution_count": 297,
   "metadata": {},
   "outputs": [
    {
     "data": {
      "text/plain": [
       "datetime.timedelta(seconds=7200)"
      ]
     },
     "execution_count": 297,
     "metadata": {},
     "output_type": "execute_result"
    }
   ],
   "source": [
    "roznica_czasu"
   ]
  },
  {
   "cell_type": "code",
   "execution_count": 298,
   "metadata": {},
   "outputs": [
    {
     "data": {
      "text/plain": [
       "datetime.timedelta"
      ]
     },
     "execution_count": 298,
     "metadata": {},
     "output_type": "execute_result"
    }
   ],
   "source": [
    "type(roznica_czasu)"
   ]
  },
  {
   "cell_type": "markdown",
   "metadata": {},
   "source": [
    "#### Dodaj lub odejmij czas"
   ]
  },
  {
   "cell_type": "code",
   "execution_count": 363,
   "metadata": {},
   "outputs": [
    {
     "data": {
      "text/plain": [
       "datetime.datetime(2000, 11, 30, 2, 0)"
      ]
     },
     "execution_count": 363,
     "metadata": {},
     "output_type": "execute_result"
    }
   ],
   "source": [
    "obiekt_daty = datetime(year=2000, month=11, day=30)\n",
    "roznica_czasu = timedelta(hours=2)\n",
    "\n",
    "nowa_data = obiekt_daty + roznica_czasu\n",
    "nowa_data"
   ]
  },
  {
   "cell_type": "code",
   "execution_count": 364,
   "metadata": {},
   "outputs": [
    {
     "name": "stdout",
     "output_type": "stream",
     "text": [
      "Przed:           2000-11-30 00:00:00\n",
      "Po dodawaniu:    2000-11-30 02:00:00\n",
      "Po odejmowaniu:  2000-11-30 02:00:00\n"
     ]
    }
   ],
   "source": [
    "obiekt_daty = datetime(year=2000, month=11, day=30)\n",
    "roznica_czasu = timedelta(hours=2)\n",
    "\n",
    "print('Przed:          ', obiekt_daty)\n",
    "\n",
    "obiekt_daty += roznica_czasu\n",
    "print('Po dodawaniu:   ', obiekt_daty)\n",
    "\n",
    "obiekt_daty +- roznica_czasu\n",
    "print('Po odejmowaniu: ', obiekt_daty)"
   ]
  },
  {
   "cell_type": "markdown",
   "metadata": {},
   "source": [
    "#### Podsumowanie"
   ]
  },
  {
   "cell_type": "code",
   "execution_count": null,
   "metadata": {},
   "outputs": [],
   "source": [
    "# 1. Czas\n",
    "import time\n",
    "time.sleep(10) # Zatrzymaj program na 10 sekund\n",
    "\n",
    "# 2. Czas teraz\n",
    "from datetime import datetime\n",
    "obiekt_daty1 = datetime.now(tz=None) # Czas teraz\n",
    "\n",
    "# 3. Inny czas\n",
    "obiekt_daty2 = datetime(2022, 10, 1, 10, 1) # Inny czas\n",
    "\n",
    "# 4. Wybierz informacje z obiektu daty - np. dzień lub rok\n",
    "rok, miesiac = obiekt_daty.year, obiekt_daty.month\n",
    "\n",
    "# 5. Zmień czas \n",
    "obiekt_daty = obiekt_daty.replace(hour=10)\n",
    "\n",
    "# 6. Zamień obiekt daty na tekst\n",
    "data_obiekt = datetime.today()\n",
    "data_tekst = data_obiekt.strftime('%Y-%m-%d' )\n",
    "\n",
    "# 7. Zamień tekst na obiekt daty\n",
    "from dateutil import parser\n",
    "obiekt_daty = parser.parse(\"20-02-1991\")\n",
    "\n",
    "# 8. Roznica czasu\n",
    "roznica_czasu = obiekt_daty1 - obiekt_daty2\n",
    "roznica_czasu = timedelta(hours=2)\n",
    "\n",
    "# 9. Dzialania na czasie\n",
    "obiekt_daty = obiekt_daty - roznica_czasu\n",
    "obiekt_daty = obiekt_daty + roznica_czasu\n",
    "\n",
    "# 10. Porównuj daty\n",
    "if obiekt_daty1 == obiekt_daty2:\n",
    "    pass\n",
    "\n",
    "# 11. Ktora data jest nowsza?\n",
    "if obiekt_daty1 > obiekt_daty2:\n",
    "    print(1)\n",
    "else:\n",
    "    print(2)"
   ]
  },
  {
   "cell_type": "code",
   "execution_count": null,
   "metadata": {},
   "outputs": [],
   "source": []
  },
  {
   "cell_type": "code",
   "execution_count": null,
   "metadata": {},
   "outputs": [],
   "source": []
  },
  {
   "cell_type": "code",
   "execution_count": null,
   "metadata": {},
   "outputs": [],
   "source": []
  },
  {
   "cell_type": "code",
   "execution_count": null,
   "metadata": {},
   "outputs": [],
   "source": []
  },
  {
   "cell_type": "code",
   "execution_count": null,
   "metadata": {},
   "outputs": [],
   "source": []
  },
  {
   "cell_type": "code",
   "execution_count": null,
   "metadata": {},
   "outputs": [],
   "source": []
  },
  {
   "cell_type": "code",
   "execution_count": null,
   "metadata": {},
   "outputs": [],
   "source": []
  },
  {
   "cell_type": "markdown",
   "metadata": {},
   "source": [
    "### X. Jak zapisać datę? \n",
    "\n",
    "Wydaje się, że daty wskazujące na ten sam dzień są takie same lub do siebie podobne - przecież każda ma dzień rok czy miesiąc."
   ]
  },
  {
   "cell_type": "markdown",
   "metadata": {},
   "source": [
    "#### wg. formatu ISO"
   ]
  },
  {
   "cell_type": "code",
   "execution_count": 236,
   "metadata": {
    "scrolled": true
   },
   "outputs": [
    {
     "data": {
      "text/plain": [
       "datetime.datetime(2022, 4, 16, 2, 4, 26, 354240)"
      ]
     },
     "execution_count": 236,
     "metadata": {},
     "output_type": "execute_result"
    }
   ],
   "source": [
    "obiekt_daty = datetime.today()\n",
    "obiekt_daty"
   ]
  },
  {
   "cell_type": "code",
   "execution_count": 237,
   "metadata": {
    "scrolled": true
   },
   "outputs": [
    {
     "data": {
      "text/plain": [
       "'2022-04-16T02:04:26.354240'"
      ]
     },
     "execution_count": 237,
     "metadata": {},
     "output_type": "execute_result"
    }
   ],
   "source": [
    "obiekt_daty.isoformat()"
   ]
  },
  {
   "cell_type": "markdown",
   "metadata": {},
   "source": [
    "#### Dokładność przy zamianie daty w tekst wg. formatu ISO\n",
    "\n",
    "Ty wybierasz jak dokładna ma być data (jednak wg. formatu ISO zapis musi zaczynać się od godziny)."
   ]
  },
  {
   "cell_type": "code",
   "execution_count": 134,
   "metadata": {
    "scrolled": true
   },
   "outputs": [
    {
     "name": "stdout",
     "output_type": "stream",
     "text": [
      "Data: 2022-04-15 21:29:48.722379\n",
      "\n",
      "timespec: auto         2022-04-15T21:29:48.722379\n",
      "\n",
      "timespec: hours        2022-04-15T21\n",
      "\n",
      "timespec: minutes      2022-04-15T21:29\n",
      "\n",
      "timespec: seconds      2022-04-15T21:29:48\n",
      "\n",
      "timespec: milliseconds 2022-04-15T21:29:48.722\n",
      "\n",
      "timespec: microseconds 2022-04-15T21:29:48.722379\n",
      "\n"
     ]
    }
   ],
   "source": [
    "timespecs = [\n",
    "    'auto', # DEFAULT - Same as 'seconds' if microsecond is 0, same as 'microseconds' otherwise.\n",
    "    'hours', # data wliczając godzinę.\n",
    "    'minutes', # data wliczając minuty.\n",
    "    'seconds', # data wliczając sekundy.\n",
    "    'milliseconds', # data wliczając sekundy do \"0.003\" trzech miejsc po przecinku.\n",
    "    'microseconds', # data wliczając sekundy do \"0.000006\" sześciu miejsc po przecinku.\n",
    "]\n",
    "\n",
    "data_obiekt = datetime.today()\n",
    "timespec = 'auto'\n",
    "sep='T'\n",
    "\n",
    "print('Data: {}\\n'.format(data_obiekt))\n",
    "for timespec in timespecs:\n",
    "    print('timespec: {:12}'.format(timespec), data_obiekt.isoformat(sep=sep, timespec=timespec))\n",
    "    print()"
   ]
  },
  {
   "cell_type": "code",
   "execution_count": null,
   "metadata": {},
   "outputs": [],
   "source": []
  },
  {
   "cell_type": "code",
   "execution_count": null,
   "metadata": {},
   "outputs": [],
   "source": []
  },
  {
   "cell_type": "code",
   "execution_count": null,
   "metadata": {},
   "outputs": [],
   "source": []
  },
  {
   "cell_type": "markdown",
   "metadata": {},
   "source": [
    "## Level 2\n",
    "\n",
    "1. Strefa czasowa\n",
    "2. Zamiana czasu w tekst - pełna elastyczność, najważniejsze i najciekawsze formaty\n",
    "3. Sprawdź czy obiekt `datetime` "
   ]
  },
  {
   "cell_type": "markdown",
   "metadata": {},
   "source": [
    "### 1. Strefa czasowa\n",
    "\n",
    "W skrócie - wybierz nazwę strefy której szukasz i użyj jej jako argument obiektu `datetime.tz`."
   ]
  },
  {
   "cell_type": "code",
   "execution_count": 50,
   "metadata": {},
   "outputs": [
    {
     "name": "stdout",
     "output_type": "stream",
     "text": [
      "2022-04-16 16:50:28.090023+02:00\n",
      "2022-04-16 16:50:28.090006\n"
     ]
    }
   ],
   "source": [
    "from datetime import datetime \n",
    "import pytz\n",
    "\n",
    "nazwa_strefy = 'Poland'\n",
    "obiekt_strefy = pytz.timezone( nazwa_strefy)\n",
    "\n",
    "data = datetime.today()\n",
    "data_dla_strefy = datetime.now(tz=obiekt_strefy)\n",
    "\n",
    "print(data_dla_strefy)\n",
    "print(data)"
   ]
  },
  {
   "cell_type": "markdown",
   "metadata": {},
   "source": [
    "#### Krok 1 - Znajdź strefę której szukasz (lub zbliżoną)"
   ]
  },
  {
   "cell_type": "code",
   "execution_count": 58,
   "metadata": {},
   "outputs": [
    {
     "data": {
      "text/plain": [
       "['US/Indiana-Starke',\n",
       " 'US/Michigan',\n",
       " 'US/Mountain',\n",
       " 'US/Pacific',\n",
       " 'US/Samoa',\n",
       " 'UTC',\n",
       " 'Universal',\n",
       " 'W-SU',\n",
       " 'WET',\n",
       " 'Zulu']"
      ]
     },
     "execution_count": 58,
     "metadata": {},
     "output_type": "execute_result"
    }
   ],
   "source": [
    "pytz.all_timezones[-10:] # wyrzuć liczbę z nawiasów"
   ]
  },
  {
   "cell_type": "markdown",
   "metadata": {},
   "source": [
    "#### Krok 2 - Użyj nazwy strefy czasowej jako argumentu `pytz.timezone()`"
   ]
  },
  {
   "cell_type": "code",
   "execution_count": 52,
   "metadata": {},
   "outputs": [
    {
     "data": {
      "text/plain": [
       "<DstTzInfo 'Europe/Warsaw' LMT+1:24:00 STD>"
      ]
     },
     "execution_count": 52,
     "metadata": {},
     "output_type": "execute_result"
    }
   ],
   "source": [
    "pytz.timezone('Europe/Warsaw')"
   ]
  },
  {
   "cell_type": "markdown",
   "metadata": {},
   "source": [
    "#### Krok 3 - przypisz utworzoną strefę obiektowi `datetime` "
   ]
  },
  {
   "cell_type": "code",
   "execution_count": 55,
   "metadata": {},
   "outputs": [
    {
     "data": {
      "text/plain": [
       "datetime.datetime(2022, 4, 16, 16, 52, 50, 522130, tzinfo=<DstTzInfo 'Europe/Warsaw' CEST+2:00:00 DST>)"
      ]
     },
     "execution_count": 55,
     "metadata": {},
     "output_type": "execute_result"
    }
   ],
   "source": [
    "datetime.now(tz=pytz.timezone('Europe/Warsaw'))"
   ]
  },
  {
   "cell_type": "markdown",
   "metadata": {},
   "source": [
    "#### Sprawdź strefy czasowe przez podanie położenia\n",
    "\n",
    "Znajdź wśród podanych miejsc to, którego szukasz lub które znajduje się w jego pobliży. Frazę podaj jako argument `pytz.timezone(strefa)`."
   ]
  },
  {
   "cell_type": "code",
   "execution_count": 59,
   "metadata": {},
   "outputs": [
    {
     "data": {
      "text/plain": [
       "<StaticTzInfo 'Zulu'>"
      ]
     },
     "execution_count": 59,
     "metadata": {},
     "output_type": "execute_result"
    }
   ],
   "source": [
    "strefa = 'UTC'\n",
    "strefa = 'US/Indiana-Starke'\n",
    "strefa = 'Zulu'\n",
    "\n",
    "pytz.timezone(strefa)"
   ]
  },
  {
   "cell_type": "markdown",
   "metadata": {},
   "source": [
    "#### x "
   ]
  },
  {
   "cell_type": "code",
   "execution_count": null,
   "metadata": {},
   "outputs": [],
   "source": []
  },
  {
   "cell_type": "markdown",
   "metadata": {},
   "source": [
    "#### Najczęściej używane strefy czasowe:"
   ]
  },
  {
   "cell_type": "code",
   "execution_count": 49,
   "metadata": {
    "scrolled": false
   },
   "outputs": [
    {
     "data": {
      "text/plain": [
       "datetime.datetime(2022, 4, 16, 14, 46, 41, 567305, tzinfo=datetime.timezone.utc)"
      ]
     },
     "execution_count": 49,
     "metadata": {},
     "output_type": "execute_result"
    }
   ],
   "source": [
    "from datetime import timezone, timedelta\n",
    "\n",
    "strefy_czasowe = [\n",
    "    \n",
    "    # PL\n",
    "    pytz.timezone('Poland')\n",
    "    \n",
    "    # Miejsca:\n",
    "    \n",
    "    \n",
    "    # Standardowe:\n",
    "    timezone.utc,       # czas UTC\n",
    "    \n",
    "    # Specjalne:\n",
    "    timedelta(hours=4), # przesunięcie o N godzin\n",
    "    None,               # brak wyboru - strefa lokalna dla Twojego komputera, serwera lub miejsca gdzie jest skrypt\n",
    "]\n",
    "\n",
    "\n",
    "tz=None\n",
    "\n",
    "obiekt_daty = datetime.now()\n",
    "obiekt_daty.astimezone(tz=timezone.utc)"
   ]
  },
  {
   "cell_type": "markdown",
   "metadata": {},
   "source": [
    "[Ciekawe strefy czasowe]('https://www.wykop.pl/link/2305892/najdziwniejsze-strefy-czasowe/strona/2')"
   ]
  },
  {
   "cell_type": "code",
   "execution_count": null,
   "metadata": {},
   "outputs": [],
   "source": []
  },
  {
   "cell_type": "markdown",
   "metadata": {},
   "source": [
    "### 2. Nadaj dacie formę jaką chcesz"
   ]
  },
  {
   "cell_type": "code",
   "execution_count": 337,
   "metadata": {},
   "outputs": [
    {
     "data": {
      "text/plain": [
       "'2022-04-16'"
      ]
     },
     "execution_count": 337,
     "metadata": {},
     "output_type": "execute_result"
    }
   ],
   "source": [
    "data_format = '%Y-%m-%d'\n",
    "\n",
    "data_obiekt = datetime.today()\n",
    "\n",
    "data_obiekt.strftime(date_format)"
   ]
  },
  {
   "cell_type": "code",
   "execution_count": 230,
   "metadata": {},
   "outputs": [
    {
     "data": {
      "text/plain": [
       "'2022-04-16T43:52'"
      ]
     },
     "execution_count": 230,
     "metadata": {},
     "output_type": "execute_result"
    }
   ],
   "source": [
    "data_obiekt = datetime.today()\n",
    "format_daty = '%Y-%m-%dT%M:%S'\n",
    "\n",
    "data_obiekt.strftime(format_daty)"
   ]
  },
  {
   "cell_type": "markdown",
   "metadata": {},
   "source": [
    "#### Ustawianie formatu"
   ]
  },
  {
   "cell_type": "code",
   "execution_count": 358,
   "metadata": {},
   "outputs": [
    {
     "name": "stdout",
     "output_type": "stream",
     "text": [
      "\n",
      "%a - Locale’s abbreviated weekday name.\n",
      "%A - Locale’s full weekday name.\n",
      "%b - Locale’s abbreviated month name.\n",
      "%B - Locale’s full month name.\n",
      "%c - Locale’s appropriate date and time representation.\n",
      "%d - Day of the month as a decimal number.\n",
      "%H - Hour (24-hour clock) as a decimal number.\n",
      "%I - Hour (12-hour clock) as a decimal number.\n",
      "%j - Day of the year as a decimal number.\n",
      "%m - Month as a decimal number.\n",
      "%M - Minute as a decimal number.\n",
      "%p - Locale’s equivalent of either AM or PM.\n",
      "%S - Second as a decimal number.\n",
      "%U - Week number of the year (Sunday as the first day of the week) as a decimal number. All days in a new year preceding the first Sunday are considered to be in week 0. (3)\n",
      "%w - Weekday as a decimal number\n",
      "%W - Week number of the year (Monday as the first day of the week) as a decimal number. All days in a new year preceding the first Monday are considered to be in week 0.\n",
      "%x - Locale’s appropriate date representation.\n",
      "%X - Locale’s appropriate time representation.\n",
      "%y - Year without century as a decimal number.\n",
      "%Y - Year with century as a decimal number.\n",
      "%Z - Time zone name (no characters if no time zone exists). Deprecated.\n",
      "%% - A literal '%' character\n"
     ]
    }
   ],
   "source": [
    "x = '''\n",
    "%a - Locale’s abbreviated weekday name.\n",
    "%A - Locale’s full weekday name.\n",
    "%b - Locale’s abbreviated month name.\n",
    "%B - Locale’s full month name.\n",
    "%c - Locale’s appropriate date and time representation.\n",
    "%d - Day of the month as a decimal number.\n",
    "%H - Hour (24-hour clock) as a decimal number.\n",
    "%I - Hour (12-hour clock) as a decimal number.\n",
    "%j - Day of the year as a decimal number.\n",
    "%m - Month as a decimal number.\n",
    "%M - Minute as a decimal number.\n",
    "%p - Locale’s equivalent of either AM or PM.\n",
    "%S - Second as a decimal number.\n",
    "%U - Week number of the year (Sunday as the first day of the week) as a decimal number. All days in a new year preceding the first Sunday are considered to be in week 0. (3)\n",
    "%w - Weekday as a decimal number\n",
    "%W - Week number of the year (Monday as the first day of the week) as a decimal number. All days in a new year preceding the first Monday are considered to be in week 0.\n",
    "%x - Locale’s appropriate date representation.\n",
    "%X - Locale’s appropriate time representation.\n",
    "%y - Year without century as a decimal number.\n",
    "%Y - Year with century as a decimal number.\n",
    "%Z - Time zone name (no characters if no time zone exists). Deprecated.\n",
    "%% - A literal '%' character\n",
    "\n",
    "\n",
    "'''\n",
    "print(x)"
   ]
  },
  {
   "cell_type": "code",
   "execution_count": 223,
   "metadata": {
    "scrolled": true
   },
   "outputs": [
    {
     "name": "stdout",
     "output_type": "stream",
     "text": [
      "Data: 2022-04-16 01:10:55.533716\n",
      "\n",
      "format daty: %Y-%m-%d                       2022-04-16\n",
      "\n",
      "format daty: %Y-%m-%dT%M:%S                 2022-04-16T10:55\n",
      "\n",
      "format daty: %m/%d/%Y                       04/16/2022\n",
      "\n",
      "format daty: %Y/%m/%d                       2022/04/16\n",
      "\n",
      "format daty: %d/%m/%Y                       16/04/2022\n",
      "\n",
      "format daty: %m-%d-%Y %H:%M:%S              04-16-2022 01:10:55\n",
      "\n",
      "format daty: %Y-%m-%d %H:%M:%S              2022-04-16 01:10:55\n",
      "\n",
      "format daty: %Y-%m-%d::%H-%M                2022-04-16::01-10\n",
      "\n",
      "format daty: %Y-%m-%dT%H:%M:%SZ             2022-04-16T01:10:55Z\n",
      "\n",
      "format daty: %Y-%m-%d %H:%M:%S              2022-04-16 01:10:55\n",
      "\n",
      "format daty: %A, %B %d, %Y at %H:%M %p %Z   Saturday, April 16, 2022 at 01:10 AM \n",
      "\n",
      "format daty: %b %d %Y %H:%M:%S              Apr 16 2022 01:10:55\n",
      "\n"
     ]
    }
   ],
   "source": [
    "popularne_formaty = [\n",
    "    \n",
    "    # Najczęstsze formaty:\n",
    "    '%Y-%m-%d', # +%Z\n",
    "    '%Y-%m-%dT%M:%S', # +%Z\n",
    "    \n",
    "    # Jeżeli nie chcesz tego rzokminiać, wybierz ten:\n",
    "    # ...\n",
    "    \n",
    "    # ...\n",
    "    '%m/%d/%Y',\n",
    "    '%Y/%m/%d',\n",
    "    '%d/%m/%Y',\n",
    "    \n",
    "    # Ciekawe formaty:\n",
    "    \"%m-%d-%Y %H:%M:%S\", # +%Z\n",
    "    '%Y-%m-%d %H:%M:%S',\n",
    "    '%Y-%m-%d::%H-%M',\n",
    "    '%Y-%m-%dT%H:%M:%SZ',\n",
    "    '%Y-%m-%d %H:%M:%S',\n",
    "    \"%A, %B %d, %Y at %H:%M %p %Z\",\n",
    "    \"%b %d %Y %H:%M:%S\",\n",
    "    \n",
    "]\n",
    "\n",
    "data_obiekt=datetime.today()\n",
    "timespec='auto'\n",
    "sep='T'\n",
    "\n",
    "print('Data: {}\\n'.format(data_obiekt))\n",
    "for format_daty in popularne_formaty:\n",
    "    print('format daty: {:30}'.format(format_daty), data_obiekt.strftime(format_daty))\n",
    "    print()"
   ]
  },
  {
   "cell_type": "code",
   "execution_count": null,
   "metadata": {},
   "outputs": [],
   "source": []
  },
  {
   "cell_type": "markdown",
   "metadata": {},
   "source": [
    "#### Daty: najważniejsze problemy i rozwiązania\n",
    "\n",
    "dla uproszczenia do pracy z datą użyjemy 2 obiektów `timedelta` który zajmuje się różnicami czasu i `datetime` który zawiera pełną informację o czasie i składają się na niego 3 elementy którymi zajmują się 3 obiekty:\n",
    "1. kalendarzowe - dzień, miesiąc, rok a którymi szczególnie zajmuje się obiekt `datetime.date`, \n",
    "2. jaki informacje o godzinie, minucie, sekundzie - bliskie obiektowi `datetime.time`,\n",
    "3. oraz o strefie czasowej - omawiane przy okazji obiektu `datetime.timezone`."
   ]
  },
  {
   "cell_type": "markdown",
   "metadata": {},
   "source": [
    "### 3. Sprawdź czy obiekt `datetime` "
   ]
  },
  {
   "cell_type": "markdown",
   "metadata": {},
   "source": [
    "#### A. element daty"
   ]
  },
  {
   "cell_type": "code",
   "execution_count": null,
   "metadata": {},
   "outputs": [],
   "source": []
  },
  {
   "cell_type": "markdown",
   "metadata": {},
   "source": [
    "#### B. strefa"
   ]
  },
  {
   "cell_type": "code",
   "execution_count": null,
   "metadata": {},
   "outputs": [],
   "source": []
  },
  {
   "cell_type": "markdown",
   "metadata": {},
   "source": [
    "#### C. format"
   ]
  },
  {
   "cell_type": "code",
   "execution_count": null,
   "metadata": {},
   "outputs": [],
   "source": []
  },
  {
   "cell_type": "markdown",
   "metadata": {},
   "source": [
    "#### Lub co tylko zechcesz sprawdzić"
   ]
  },
  {
   "cell_type": "markdown",
   "metadata": {},
   "source": [
    "### 4. Sprawdź czas dokładnie  - np. `time.time()` - cyfrowa reprezentacja czasu\n",
    "\n",
    "Czas jako liczba sekund - `time.time() ` lub nanosekund - `time.time_ns() `"
   ]
  },
  {
   "cell_type": "code",
   "execution_count": 65,
   "metadata": {},
   "outputs": [
    {
     "data": {
      "text/plain": [
       "1650122678.3516312"
      ]
     },
     "execution_count": 65,
     "metadata": {},
     "output_type": "execute_result"
    }
   ],
   "source": [
    "import time \n",
    "\n",
    "time.time() # czas teraz w sekundach "
   ]
  },
  {
   "cell_type": "code",
   "execution_count": 66,
   "metadata": {
    "scrolled": true
   },
   "outputs": [
    {
     "data": {
      "text/plain": [
       "1650122678510059866"
      ]
     },
     "execution_count": 66,
     "metadata": {},
     "output_type": "execute_result"
    }
   ],
   "source": [
    "time.time_ns() # czas teraz, nanosekundy"
   ]
  },
  {
   "cell_type": "markdown",
   "metadata": {},
   "source": [
    "#### Uchwyć cyfrową reprezentację czasu w obiekt `datetime`"
   ]
  },
  {
   "cell_type": "code",
   "execution_count": 63,
   "metadata": {},
   "outputs": [
    {
     "data": {
      "text/plain": [
       "datetime.datetime(2392, 10, 21, 12, 33, 54)"
      ]
     },
     "execution_count": 63,
     "metadata": {},
     "output_type": "execute_result"
    }
   ],
   "source": [
    "liczbowa_reprezentacja_czasu = 13342444434\n",
    "datetime.fromtimestamp(liczbowa_reprezentacja_czasu, tz=tz)"
   ]
  },
  {
   "cell_type": "code",
   "execution_count": 64,
   "metadata": {},
   "outputs": [
    {
     "data": {
      "text/plain": [
       "datetime.datetime(2392, 10, 21, 10, 33, 54)"
      ]
     },
     "execution_count": 64,
     "metadata": {},
     "output_type": "execute_result"
    }
   ],
   "source": [
    "liczbowa_reprezentacja_czasu = 13342444434\n",
    "datetime.utcfromtimestamp(liczbowa_reprezentacja_czasu)"
   ]
  },
  {
   "cell_type": "code",
   "execution_count": null,
   "metadata": {},
   "outputs": [],
   "source": []
  },
  {
   "cell_type": "code",
   "execution_count": null,
   "metadata": {},
   "outputs": [],
   "source": []
  },
  {
   "cell_type": "code",
   "execution_count": null,
   "metadata": {},
   "outputs": [],
   "source": []
  },
  {
   "cell_type": "code",
   "execution_count": null,
   "metadata": {},
   "outputs": [],
   "source": []
  },
  {
   "cell_type": "code",
   "execution_count": null,
   "metadata": {},
   "outputs": [],
   "source": []
  },
  {
   "cell_type": "markdown",
   "metadata": {},
   "source": [
    "#### 5. Zamień obiekt czasu w stringa z datą sformatowaną tak jak chcesz."
   ]
  },
  {
   "cell_type": "markdown",
   "metadata": {},
   "source": [
    "\n",
    "Biblioteki time i datetime używają klas obiektów odpowiedzialnych za pracę na czasie. Warto je rozróżniać z 2 powodów, po pierwsze to przydatne i ułatwia posługiwanie się danymi czasowymi a po drugie dwa z obiektów czasu używanych przez te biblioteki mają tę samą nazwę - time -  i łatwo się pomylić gdy używa się obu rodzajów obiektów na raz. Gdy nie jesteś pewien - a tak jest zwykle na początku - wybierz 1 rozwiązanie i trzymaj się go a drugiego używaj wtedy gdy to będzie potrzebne w niekolidujący sposób. \n",
    "\n",
    "\n",
    "Poznaj 6 głównych obiektów związanych z czasem:\n",
    "1. import time - time.struct_time - w przeciwieństwie do poniżej przybliżonych dotyczy biblioteki **time**. \n",
    "\n",
    "\n",
    "2. from datetime import time - time() - dotyczy godzin, minut\n",
    "3. from datetime import date - date() - dotyczy roku, miesiąca, dni\n",
    "4. from datetime import datetime - **datetime()** - dotyczy pełnej daty\n",
    "5. from datetime import timedelta - **timedelta()** - dotyczy różnicy między czasem A a czasem B\n",
    "6. from datetime import timezone - timezone.utc(timedelta(hour=2))"
   ]
  }
 ],
 "metadata": {
  "kernelspec": {
   "display_name": "Python 3",
   "language": "python",
   "name": "python3"
  },
  "language_info": {
   "codemirror_mode": {
    "name": "ipython",
    "version": 3
   },
   "file_extension": ".py",
   "mimetype": "text/x-python",
   "name": "python",
   "nbconvert_exporter": "python",
   "pygments_lexer": "ipython3",
   "version": "3.8.10"
  }
 },
 "nbformat": 4,
 "nbformat_minor": 4
}
