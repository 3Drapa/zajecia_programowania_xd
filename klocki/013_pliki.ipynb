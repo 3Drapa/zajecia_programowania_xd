{
 "cells": [
  {
   "cell_type": "markdown",
   "id": "846e4510",
   "metadata": {},
   "source": [
    "# 013 - pliki"
   ]
  },
  {
   "cell_type": "code",
   "execution_count": null,
   "id": "d601715b",
   "metadata": {},
   "outputs": [],
   "source": []
  },
  {
   "cell_type": "markdown",
   "id": "f749c980",
   "metadata": {},
   "source": [
    "#### W jakich plikach najczęściej trzyma się dane?"
   ]
  },
  {
   "cell_type": "markdown",
   "id": "7d2d6068",
   "metadata": {},
   "source": [
    "1. pliki tekstowe **plik.txt** - po prostu tekst w liniach\n",
    "2. pliki CSV **plik.csv** - pliki przechowujące dane w typie tabeli\n",
    "3. pliki JSON **plik.json** - pliki przechowujące dane w typie podobnym do słowników Pythona - JSON\n",
    "4. x"
   ]
  },
  {
   "cell_type": "markdown",
   "id": "39f34f4e",
   "metadata": {},
   "source": [
    "#### Pliki tekstowe"
   ]
  },
  {
   "cell_type": "code",
   "execution_count": null,
   "id": "872af1e3",
   "metadata": {},
   "outputs": [],
   "source": []
  },
  {
   "cell_type": "code",
   "execution_count": null,
   "id": "2fc71cc2",
   "metadata": {},
   "outputs": [],
   "source": []
  },
  {
   "cell_type": "markdown",
   "id": "ee5b2057",
   "metadata": {},
   "source": [
    "### 1. Wczytaj treść pliku jako taflę tekstu - `tekst = open(plik).read()`"
   ]
  },
  {
   "cell_type": "code",
   "execution_count": 19,
   "id": "10de4e1f",
   "metadata": {},
   "outputs": [
    {
     "data": {
      "text/plain": [
       "'O własnych stój siłach – nie zaś podtrzymywany.\\nNajważniejsza jest prostota.\\nNie chlubą jest uciec przed śmiercią, lecz uśmiechnąć się gdy i ona się do ciebie uśmiecha.\\nNie czyń nic bez rozwagi, lecz tylko według zasady dobrze obmyślanej.\\nNie godzi się, aby twoja dusza czuła się zmęczona tym życiem, zanim nie zmęczy się nim ciało.\\nNie należy gniewać się na bieg wypadków, bo to ich nic nie obchodzi.\\nNiezdobytą warownię przedstawia dusza wolna od namiętności.\\nNigdzie bowiem nie schroni się człowiek spokojniej i łatwiej jak do duszy własnej.\\nŻycie jest krótkie. Korzystaj z teraźniejszości w sposób rozumny i słuszny. Bądź rozsądny w odpoczynku.\\nŻycie mężczyzny jest ufarbowane na kolor jego wyobraźni.\\nJak wielki spokój zyskuje ten, kto nie baczy na to, co bliźni mówi, czyni lub myśli, ale na to tylko, co sam robi, by było sprawiedliwie i zbożnie.\\n'"
      ]
     },
     "execution_count": 19,
     "metadata": {},
     "output_type": "execute_result"
    }
   ],
   "source": [
    "tekst = open(plik).read()\n",
    "tekst"
   ]
  },
  {
   "cell_type": "markdown",
   "id": "7a6ec2e2",
   "metadata": {},
   "source": [
    "### 2. Wczytaj treść pliku jako linie - `tekst_linie = open(plik).readlines()`"
   ]
  },
  {
   "cell_type": "code",
   "execution_count": 20,
   "id": "cc6a15a0",
   "metadata": {},
   "outputs": [
    {
     "data": {
      "text/plain": [
       "['O własnych stój siłach – nie zaś podtrzymywany.\\n',\n",
       " 'Najważniejsza jest prostota.\\n',\n",
       " 'Nie chlubą jest uciec przed śmiercią, lecz uśmiechnąć się gdy i ona się do ciebie uśmiecha.\\n',\n",
       " 'Nie czyń nic bez rozwagi, lecz tylko według zasady dobrze obmyślanej.\\n',\n",
       " 'Nie godzi się, aby twoja dusza czuła się zmęczona tym życiem, zanim nie zmęczy się nim ciało.\\n',\n",
       " 'Nie należy gniewać się na bieg wypadków, bo to ich nic nie obchodzi.\\n',\n",
       " 'Niezdobytą warownię przedstawia dusza wolna od namiętności.\\n',\n",
       " 'Nigdzie bowiem nie schroni się człowiek spokojniej i łatwiej jak do duszy własnej.\\n',\n",
       " 'Życie jest krótkie. Korzystaj z teraźniejszości w sposób rozumny i słuszny. Bądź rozsądny w odpoczynku.\\n',\n",
       " 'Życie mężczyzny jest ufarbowane na kolor jego wyobraźni.\\n',\n",
       " 'Jak wielki spokój zyskuje ten, kto nie baczy na to, co bliźni mówi, czyni lub myśli, ale na to tylko, co sam robi, by było sprawiedliwie i zbożnie.\\n']"
      ]
     },
     "execution_count": 20,
     "metadata": {},
     "output_type": "execute_result"
    }
   ],
   "source": [
    "tekst_linie = open(plik).readlines()\n",
    "tekst_linie"
   ]
  },
  {
   "cell_type": "markdown",
   "id": "a05ed21c",
   "metadata": {},
   "source": [
    "### 3. konstrukcja with"
   ]
  },
  {
   "cell_type": "code",
   "execution_count": 25,
   "id": "da483049",
   "metadata": {},
   "outputs": [],
   "source": [
    "file = 'plik_tekstowy.txt'\n",
    "mode = 'r'\n",
    "with open(file, mode) as f:\n",
    "    text = f.read()"
   ]
  },
  {
   "cell_type": "markdown",
   "id": "64346c18",
   "metadata": {},
   "source": [
    "#### xD"
   ]
  },
  {
   "cell_type": "markdown",
   "id": "cfec1fca",
   "metadata": {},
   "source": [
    "### X. CSV"
   ]
  },
  {
   "cell_type": "markdown",
   "id": "13497bfa",
   "metadata": {},
   "source": [
    "Biblioteka [pandas](https://pandas.pydata.org/)"
   ]
  },
  {
   "cell_type": "code",
   "execution_count": 34,
   "id": "7fd169bf",
   "metadata": {},
   "outputs": [
    {
     "ename": "FileNotFoundError",
     "evalue": "[Errno 2] No such file or directory: 'plik_csv.csv'",
     "output_type": "error",
     "traceback": [
      "\u001b[0;31m---------------------------------------------------------------------------\u001b[0m",
      "\u001b[0;31mFileNotFoundError\u001b[0m                         Traceback (most recent call last)",
      "\u001b[0;32m/tmp/ipykernel_1848748/2796177429.py\u001b[0m in \u001b[0;36m<module>\u001b[0;34m\u001b[0m\n\u001b[1;32m      3\u001b[0m \u001b[0mcsv_file\u001b[0m \u001b[0;34m=\u001b[0m \u001b[0;34m'plik_csv.csv'\u001b[0m\u001b[0;34m\u001b[0m\u001b[0;34m\u001b[0m\u001b[0m\n\u001b[1;32m      4\u001b[0m \u001b[0;34m\u001b[0m\u001b[0m\n\u001b[0;32m----> 5\u001b[0;31m \u001b[0mdf\u001b[0m \u001b[0;34m=\u001b[0m \u001b[0mpd\u001b[0m\u001b[0;34m.\u001b[0m\u001b[0mread_csv\u001b[0m\u001b[0;34m(\u001b[0m\u001b[0mcsv_file\u001b[0m\u001b[0;34m)\u001b[0m\u001b[0;34m\u001b[0m\u001b[0;34m\u001b[0m\u001b[0m\n\u001b[0m\u001b[1;32m      6\u001b[0m \u001b[0;34m\u001b[0m\u001b[0m\n\u001b[1;32m      7\u001b[0m \u001b[0mdf\u001b[0m\u001b[0;34m\u001b[0m\u001b[0;34m\u001b[0m\u001b[0m\n",
      "\u001b[0;32m~/.local/lib/python3.8/site-packages/pandas/util/_decorators.py\u001b[0m in \u001b[0;36mwrapper\u001b[0;34m(*args, **kwargs)\u001b[0m\n\u001b[1;32m    309\u001b[0m                     \u001b[0mstacklevel\u001b[0m\u001b[0;34m=\u001b[0m\u001b[0mstacklevel\u001b[0m\u001b[0;34m,\u001b[0m\u001b[0;34m\u001b[0m\u001b[0;34m\u001b[0m\u001b[0m\n\u001b[1;32m    310\u001b[0m                 )\n\u001b[0;32m--> 311\u001b[0;31m             \u001b[0;32mreturn\u001b[0m \u001b[0mfunc\u001b[0m\u001b[0;34m(\u001b[0m\u001b[0;34m*\u001b[0m\u001b[0margs\u001b[0m\u001b[0;34m,\u001b[0m \u001b[0;34m**\u001b[0m\u001b[0mkwargs\u001b[0m\u001b[0;34m)\u001b[0m\u001b[0;34m\u001b[0m\u001b[0;34m\u001b[0m\u001b[0m\n\u001b[0m\u001b[1;32m    312\u001b[0m \u001b[0;34m\u001b[0m\u001b[0m\n\u001b[1;32m    313\u001b[0m         \u001b[0;32mreturn\u001b[0m \u001b[0mwrapper\u001b[0m\u001b[0;34m\u001b[0m\u001b[0;34m\u001b[0m\u001b[0m\n",
      "\u001b[0;32m~/.local/lib/python3.8/site-packages/pandas/io/parsers/readers.py\u001b[0m in \u001b[0;36mread_csv\u001b[0;34m(filepath_or_buffer, sep, delimiter, header, names, index_col, usecols, squeeze, prefix, mangle_dupe_cols, dtype, engine, converters, true_values, false_values, skipinitialspace, skiprows, skipfooter, nrows, na_values, keep_default_na, na_filter, verbose, skip_blank_lines, parse_dates, infer_datetime_format, keep_date_col, date_parser, dayfirst, cache_dates, iterator, chunksize, compression, thousands, decimal, lineterminator, quotechar, quoting, doublequote, escapechar, comment, encoding, encoding_errors, dialect, error_bad_lines, warn_bad_lines, on_bad_lines, delim_whitespace, low_memory, memory_map, float_precision, storage_options)\u001b[0m\n\u001b[1;32m    678\u001b[0m     \u001b[0mkwds\u001b[0m\u001b[0;34m.\u001b[0m\u001b[0mupdate\u001b[0m\u001b[0;34m(\u001b[0m\u001b[0mkwds_defaults\u001b[0m\u001b[0;34m)\u001b[0m\u001b[0;34m\u001b[0m\u001b[0;34m\u001b[0m\u001b[0m\n\u001b[1;32m    679\u001b[0m \u001b[0;34m\u001b[0m\u001b[0m\n\u001b[0;32m--> 680\u001b[0;31m     \u001b[0;32mreturn\u001b[0m \u001b[0m_read\u001b[0m\u001b[0;34m(\u001b[0m\u001b[0mfilepath_or_buffer\u001b[0m\u001b[0;34m,\u001b[0m \u001b[0mkwds\u001b[0m\u001b[0;34m)\u001b[0m\u001b[0;34m\u001b[0m\u001b[0;34m\u001b[0m\u001b[0m\n\u001b[0m\u001b[1;32m    681\u001b[0m \u001b[0;34m\u001b[0m\u001b[0m\n\u001b[1;32m    682\u001b[0m \u001b[0;34m\u001b[0m\u001b[0m\n",
      "\u001b[0;32m~/.local/lib/python3.8/site-packages/pandas/io/parsers/readers.py\u001b[0m in \u001b[0;36m_read\u001b[0;34m(filepath_or_buffer, kwds)\u001b[0m\n\u001b[1;32m    573\u001b[0m \u001b[0;34m\u001b[0m\u001b[0m\n\u001b[1;32m    574\u001b[0m     \u001b[0;31m# Create the parser.\u001b[0m\u001b[0;34m\u001b[0m\u001b[0;34m\u001b[0m\u001b[0;34m\u001b[0m\u001b[0m\n\u001b[0;32m--> 575\u001b[0;31m     \u001b[0mparser\u001b[0m \u001b[0;34m=\u001b[0m \u001b[0mTextFileReader\u001b[0m\u001b[0;34m(\u001b[0m\u001b[0mfilepath_or_buffer\u001b[0m\u001b[0;34m,\u001b[0m \u001b[0;34m**\u001b[0m\u001b[0mkwds\u001b[0m\u001b[0;34m)\u001b[0m\u001b[0;34m\u001b[0m\u001b[0;34m\u001b[0m\u001b[0m\n\u001b[0m\u001b[1;32m    576\u001b[0m \u001b[0;34m\u001b[0m\u001b[0m\n\u001b[1;32m    577\u001b[0m     \u001b[0;32mif\u001b[0m \u001b[0mchunksize\u001b[0m \u001b[0;32mor\u001b[0m \u001b[0miterator\u001b[0m\u001b[0;34m:\u001b[0m\u001b[0;34m\u001b[0m\u001b[0;34m\u001b[0m\u001b[0m\n",
      "\u001b[0;32m~/.local/lib/python3.8/site-packages/pandas/io/parsers/readers.py\u001b[0m in \u001b[0;36m__init__\u001b[0;34m(self, f, engine, **kwds)\u001b[0m\n\u001b[1;32m    931\u001b[0m \u001b[0;34m\u001b[0m\u001b[0m\n\u001b[1;32m    932\u001b[0m         \u001b[0mself\u001b[0m\u001b[0;34m.\u001b[0m\u001b[0mhandles\u001b[0m\u001b[0;34m:\u001b[0m \u001b[0mIOHandles\u001b[0m \u001b[0;34m|\u001b[0m \u001b[0;32mNone\u001b[0m \u001b[0;34m=\u001b[0m \u001b[0;32mNone\u001b[0m\u001b[0;34m\u001b[0m\u001b[0;34m\u001b[0m\u001b[0m\n\u001b[0;32m--> 933\u001b[0;31m         \u001b[0mself\u001b[0m\u001b[0;34m.\u001b[0m\u001b[0m_engine\u001b[0m \u001b[0;34m=\u001b[0m \u001b[0mself\u001b[0m\u001b[0;34m.\u001b[0m\u001b[0m_make_engine\u001b[0m\u001b[0;34m(\u001b[0m\u001b[0mf\u001b[0m\u001b[0;34m,\u001b[0m \u001b[0mself\u001b[0m\u001b[0;34m.\u001b[0m\u001b[0mengine\u001b[0m\u001b[0;34m)\u001b[0m\u001b[0;34m\u001b[0m\u001b[0;34m\u001b[0m\u001b[0m\n\u001b[0m\u001b[1;32m    934\u001b[0m \u001b[0;34m\u001b[0m\u001b[0m\n\u001b[1;32m    935\u001b[0m     \u001b[0;32mdef\u001b[0m \u001b[0mclose\u001b[0m\u001b[0;34m(\u001b[0m\u001b[0mself\u001b[0m\u001b[0;34m)\u001b[0m\u001b[0;34m:\u001b[0m\u001b[0;34m\u001b[0m\u001b[0;34m\u001b[0m\u001b[0m\n",
      "\u001b[0;32m~/.local/lib/python3.8/site-packages/pandas/io/parsers/readers.py\u001b[0m in \u001b[0;36m_make_engine\u001b[0;34m(self, f, engine)\u001b[0m\n\u001b[1;32m   1215\u001b[0m             \u001b[0;31m# \"Union[str, PathLike[str], ReadCsvBuffer[bytes], ReadCsvBuffer[str]]\"\u001b[0m\u001b[0;34m\u001b[0m\u001b[0;34m\u001b[0m\u001b[0;34m\u001b[0m\u001b[0m\n\u001b[1;32m   1216\u001b[0m             \u001b[0;31m# , \"str\", \"bool\", \"Any\", \"Any\", \"Any\", \"Any\", \"Any\"\u001b[0m\u001b[0;34m\u001b[0m\u001b[0;34m\u001b[0m\u001b[0;34m\u001b[0m\u001b[0m\n\u001b[0;32m-> 1217\u001b[0;31m             self.handles = get_handle(  # type: ignore[call-overload]\n\u001b[0m\u001b[1;32m   1218\u001b[0m                 \u001b[0mf\u001b[0m\u001b[0;34m,\u001b[0m\u001b[0;34m\u001b[0m\u001b[0;34m\u001b[0m\u001b[0m\n\u001b[1;32m   1219\u001b[0m                 \u001b[0mmode\u001b[0m\u001b[0;34m,\u001b[0m\u001b[0;34m\u001b[0m\u001b[0;34m\u001b[0m\u001b[0m\n",
      "\u001b[0;32m~/.local/lib/python3.8/site-packages/pandas/io/common.py\u001b[0m in \u001b[0;36mget_handle\u001b[0;34m(path_or_buf, mode, encoding, compression, memory_map, is_text, errors, storage_options)\u001b[0m\n\u001b[1;32m    787\u001b[0m         \u001b[0;32mif\u001b[0m \u001b[0mioargs\u001b[0m\u001b[0;34m.\u001b[0m\u001b[0mencoding\u001b[0m \u001b[0;32mand\u001b[0m \u001b[0;34m\"b\"\u001b[0m \u001b[0;32mnot\u001b[0m \u001b[0;32min\u001b[0m \u001b[0mioargs\u001b[0m\u001b[0;34m.\u001b[0m\u001b[0mmode\u001b[0m\u001b[0;34m:\u001b[0m\u001b[0;34m\u001b[0m\u001b[0;34m\u001b[0m\u001b[0m\n\u001b[1;32m    788\u001b[0m             \u001b[0;31m# Encoding\u001b[0m\u001b[0;34m\u001b[0m\u001b[0;34m\u001b[0m\u001b[0;34m\u001b[0m\u001b[0m\n\u001b[0;32m--> 789\u001b[0;31m             handle = open(\n\u001b[0m\u001b[1;32m    790\u001b[0m                 \u001b[0mhandle\u001b[0m\u001b[0;34m,\u001b[0m\u001b[0;34m\u001b[0m\u001b[0;34m\u001b[0m\u001b[0m\n\u001b[1;32m    791\u001b[0m                 \u001b[0mioargs\u001b[0m\u001b[0;34m.\u001b[0m\u001b[0mmode\u001b[0m\u001b[0;34m,\u001b[0m\u001b[0;34m\u001b[0m\u001b[0;34m\u001b[0m\u001b[0m\n",
      "\u001b[0;31mFileNotFoundError\u001b[0m: [Errno 2] No such file or directory: 'plik_csv.csv'"
     ]
    }
   ],
   "source": [
    "import pandas as pd\n",
    "\n",
    "csv_file = 'plik_csv.csv'\n",
    "\n",
    "df = pd.read_csv(csv_file)\n",
    "\n",
    "df"
   ]
  },
  {
   "cell_type": "markdown",
   "id": "2f4ad068",
   "metadata": {},
   "source": [
    "### X. JSON\n"
   ]
  },
  {
   "cell_type": "code",
   "execution_count": 30,
   "id": "0dd4ea00",
   "metadata": {},
   "outputs": [],
   "source": [
    "import json"
   ]
  },
  {
   "cell_type": "code",
   "execution_count": null,
   "id": "d8a53556",
   "metadata": {},
   "outputs": [],
   "source": [
    "\n",
    "\n",
    "\n",
    "# Pliki tekstowe\n",
    "# - open().read()\n",
    "# - open().readlines()\n",
    "# - with ? ;////\n",
    "\n",
    "# Pliki json\n",
    "# - json!\n",
    "\n",
    "# Pliki csv\n",
    "# - pandas!\n",
    "\n",
    "# Inne popularne:\n",
    "# - h5\n",
    "# - excel\n",
    "# - \n",
    "\n",
    "\n",
    "# File\n",
    "open()\tOpens a file and returns a file object\n",
    "x. open / read / with\n",
    "Method\tDescription\n",
    "close()\tCloses the file\n",
    "detach()\tReturns the separated raw stream from the buffer\n",
    "fileno()\tReturns a number that represents the stream, from the operating system's perspective\n",
    "flush()\tFlushes the internal buffer\n",
    "isatty()\tReturns whether the file stream is interactive or not\n",
    "read()\tReturns the file content\n",
    "readable()\tReturns whether the file stream can be read or not\n",
    "readline()\tReturns one line from the file\n",
    "readlines()\tReturns a list of lines from the file\n",
    "seek()\tChange the file position\n",
    "seekable()\tReturns whether the file allows us to change the file position\n",
    "tell()\tReturns the current file position\n",
    "truncate()\tResizes the file to a specified size\n",
    "writable()\tReturns whether the file can be written to or not\n",
    "write()\tWrites the specified string to the file\n",
    "writelines()\tWrites a list of strings to the file"
   ]
  },
  {
   "cell_type": "code",
   "execution_count": 35,
   "id": "27873e9a",
   "metadata": {},
   "outputs": [
    {
     "name": "stdout",
     "output_type": "stream",
     "text": [
      "30\n"
     ]
    }
   ],
   "source": [
    "import json\n",
    "\n",
    "# some JSON:\n",
    "x =  '{ \"name\":\"John\", \"age\":30, \"city\":\"New York\"}'\n",
    "\n",
    "# parse x:\n",
    "y = json.loads(x)\n",
    "\n",
    "# the result is a Python dictionary:\n",
    "print(y[\"age\"])"
   ]
  },
  {
   "cell_type": "code",
   "execution_count": null,
   "id": "82361a45",
   "metadata": {},
   "outputs": [],
   "source": [
    "import json\n",
    "\n",
    "# a Python object (dict):\n",
    "x = {\n",
    "  \"name\": \"John\",\n",
    "  \"age\": 30,\n",
    "  \"city\": \"New York\"\n",
    "}\n",
    "\n",
    "# convert into JSON:\n",
    "y = json.dumps(x)\n",
    "\n",
    "# the result is a JSON string:\n",
    "print(y)"
   ]
  },
  {
   "cell_type": "code",
   "execution_count": null,
   "id": "84fe52a2",
   "metadata": {},
   "outputs": [],
   "source": [
    "import json\n",
    "\n",
    "print(json.dumps({\"name\": \"John\", \"age\": 30}))\n",
    "print(json.dumps([\"apple\", \"bananas\"]))\n",
    "print(json.dumps((\"apple\", \"bananas\")))\n",
    "print(json.dumps(\"hello\"))\n",
    "print(json.dumps(42))\n",
    "print(json.dumps(31.76))\n",
    "print(json.dumps(True))\n",
    "print(json.dumps(False))\n",
    "print(json.dumps(None))"
   ]
  },
  {
   "cell_type": "markdown",
   "id": "4c99f385",
   "metadata": {},
   "source": [
    "Biblioteka [json](https://docs.python.org/3/library/json.html)"
   ]
  },
  {
   "cell_type": "code",
   "execution_count": null,
   "id": "01806ccf",
   "metadata": {},
   "outputs": [],
   "source": [
    "json.dumps(x, indent=4)\n",
    "json.dumps(x, indent=4, separators=(\". \", \" = \"))\n",
    "json.dumps(x, indent=4, sort_keys=True)"
   ]
  },
  {
   "cell_type": "markdown",
   "id": "c61252ae",
   "metadata": {},
   "source": [
    "#### Inne formaty\n",
    "\n",
    "Tabularne - też [pandas](https://pandas.pydata.org/):\n",
    "\n",
    "1. excel\n",
    "2. ..\n",
    "\n"
   ]
  },
  {
   "cell_type": "markdown",
   "id": "91934d64",
   "metadata": {},
   "source": [
    "### X. PDF"
   ]
  },
  {
   "cell_type": "code",
   "execution_count": null,
   "id": "4444ead9",
   "metadata": {},
   "outputs": [],
   "source": []
  },
  {
   "cell_type": "markdown",
   "id": "a96100a8",
   "metadata": {},
   "source": [
    "### X. HTML"
   ]
  },
  {
   "cell_type": "code",
   "execution_count": null,
   "id": "61eda6c3",
   "metadata": {},
   "outputs": [],
   "source": []
  }
 ],
 "metadata": {
  "kernelspec": {
   "display_name": "Python 3 (ipykernel)",
   "language": "python",
   "name": "python3"
  },
  "language_info": {
   "codemirror_mode": {
    "name": "ipython",
    "version": 3
   },
   "file_extension": ".py",
   "mimetype": "text/x-python",
   "name": "python",
   "nbconvert_exporter": "python",
   "pygments_lexer": "ipython3",
   "version": "3.8.10"
  }
 },
 "nbformat": 4,
 "nbformat_minor": 5
}
