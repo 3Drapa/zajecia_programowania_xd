{
 "cells": [
  {
   "cell_type": "markdown",
   "id": "7f3f39d1",
   "metadata": {},
   "source": [
    "# 004 - Typ\n",
    "\n",
    "- Co za typ.\n",
    "- Co za typiara.\n",
    "\n",
    "\n",
    "### Spis treści:\n",
    "\n",
    "#### Level 1\n",
    "1. Co to jest \"typ\" ?\n",
    "2. type()\n",
    "3. Główne 4 typy w Pythonie\n",
    "4. None - brak wartości\n",
    "5. Jak zmienić typ danej?\n",
    "6. isinstance()"
   ]
  },
  {
   "cell_type": "markdown",
   "id": "e611aefc",
   "metadata": {},
   "source": [
    "# 1. Co to jest \"typ\" ?\n",
    "\n",
    "Pytanie o typ zmiennej to pytanie o rodzaj informacji (danych) z jakim mamy doczynienia.\n",
    "\n",
    "\n",
    "Np. są dane liczbowe jak 1, 2, 3. Możemy je np. odejmować\n",
    "\n",
    "Są też dane tekstowe. Np. \"abc\", \"xD\" albo \"Jakieś krótkie zdanie.\" czy też cyfra ale jako tekst, więc w cudzysłowiach: \"1\". \n",
    "\n",
    "Z danymi tekstowymi i liczbowymi możemy robić wiele rzeczy ale nie wszystkie są takie same.\n",
    "\n",
    "Możemy pomnożyć 3 z 5. Ale nie pomnożymy \"a\" z \"b\". Chociaż możemy np. wypisać ich kombinacje)."
   ]
  },
  {
   "cell_type": "code",
   "execution_count": 9,
   "id": "d18f581e",
   "metadata": {},
   "outputs": [],
   "source": [
    "zmienna_liczba = 1  # czyli 1 jako liczba, integer.\n",
    "zmienna_tekst = \"1\" # czyli 1 jako tekst, string, ciąg znaków."
   ]
  },
  {
   "cell_type": "markdown",
   "id": "8e5820ae",
   "metadata": {},
   "source": [
    "# 2. type()\n",
    "\n",
    "Funkcja wbudowana \"type()\". \n",
    "Druga, po \"print()\" jaką poznajesz.\n",
    "\n",
    "Sprawdzisz nią typy zmiennych. "
   ]
  },
  {
   "cell_type": "code",
   "execution_count": 10,
   "id": "98bf28ce",
   "metadata": {},
   "outputs": [
    {
     "name": "stdout",
     "output_type": "stream",
     "text": [
      "1\n",
      "<class 'int'>\n",
      "1\n",
      "<class 'str'>\n"
     ]
    }
   ],
   "source": [
    "print( zmienna_liczba)\n",
    "print( type( zmienna_liczba))\n",
    "print( zmienna_tekst)\n",
    "print( type( zmienna_tekst))"
   ]
  },
  {
   "cell_type": "markdown",
   "id": "cb6aab2a",
   "metadata": {},
   "source": [
    "Przy okazji - jak pamiętasz, to co znajduje się wewnątrz funkcji, to argument."
   ]
  },
  {
   "cell_type": "markdown",
   "id": "50ac33d0",
   "metadata": {},
   "source": [
    "Są funkcje które przyjmują 0, 1, 2 albo dużo więcej, aż do nieskończoności argumentów. Omowimy to w przyszłości przy okazji funkcji kilka klocków później.\n",
    "\n",
    "### O funkcjach będziemy jeszcze sporo mówić za kilka klocków.\n",
    "\n",
    "#### Ale rzuć okiem na to:"
   ]
  },
  {
   "cell_type": "code",
   "execution_count": 6,
   "id": "06547779",
   "metadata": {},
   "outputs": [
    {
     "name": "stdout",
     "output_type": "stream",
     "text": [
      "\n",
      "10\n"
     ]
    }
   ],
   "source": [
    "print()                # <---- to jest funkcja.\n",
    "zmienna_liczba = 10    # <---- wartość 10 przypisana do zmiennej.\n",
    "print( zmienna_liczba) # <---- funkcja print przyjmuje \n",
    "                       #       jako argument \"zmienna_liczba\"."
   ]
  },
  {
   "cell_type": "markdown",
   "id": "1756f102",
   "metadata": {},
   "source": [
    "1. Funkcje poznasz po tym, że są zakończone nawiasami nazwa_funkcji()"
   ]
  },
  {
   "cell_type": "code",
   "execution_count": null,
   "id": "d2b9c24e",
   "metadata": {},
   "outputs": [],
   "source": [
    "print()"
   ]
  },
  {
   "cell_type": "markdown",
   "id": "0f6449e4",
   "metadata": {},
   "source": [
    "2. Funkcje mogą przyjmować jeden lub więcej argumentów które oddzielone są od siebie wtedy przecinkami:"
   ]
  },
  {
   "cell_type": "code",
   "execution_count": null,
   "id": "e81b060d",
   "metadata": {},
   "outputs": [],
   "source": [
    "print( zmienna_liczba, zmienna_tekst)"
   ]
  },
  {
   "cell_type": "markdown",
   "id": "bc80648d",
   "metadata": {},
   "source": [
    "Możesz użyć tej wiedzy, aby sprawdzić typ zmiennej w tej samej linii."
   ]
  },
  {
   "cell_type": "code",
   "execution_count": null,
   "id": "ff0a4982",
   "metadata": {},
   "outputs": [],
   "source": [
    "print( zmienna_liczba, typ(zmienna_liczba))\n",
    "print( zmienna_liczba, typ(zmienna_tekst))"
   ]
  },
  {
   "cell_type": "markdown",
   "id": "a2a30028",
   "metadata": {},
   "source": [
    "# 3. Główne 4 typy w Pythonie"
   ]
  },
  {
   "cell_type": "markdown",
   "id": "94b9f038",
   "metadata": {},
   "source": [
    "#### String (str) - ciąg znaków:"
   ]
  },
  {
   "cell_type": "code",
   "execution_count": 13,
   "id": "e757f9b5",
   "metadata": {},
   "outputs": [
    {
     "name": "stdout",
     "output_type": "stream",
     "text": [
      "Stringami są: a 1 ab     a a aaasgdsg True xD\n",
      "Wszystkie wartości które wpakujesz pomiędzy dwa apostrofy albo cudzysłowie, to stringi.\n"
     ]
    }
   ],
   "source": [
    "print(\"Stringami są:\", 'a', '1','ab','',' ',' a a aaasgdsg', 'True', 'xD')\n",
    "print('Wszystkie wartości które wpakujesz pomiędzy dwa apostrofy albo cudzysłowie, to stringi.')"
   ]
  },
  {
   "cell_type": "markdown",
   "id": "f0b47bef",
   "metadata": {},
   "source": [
    "#### Integer (int) - liczba"
   ]
  },
  {
   "cell_type": "code",
   "execution_count": null,
   "id": "b2683ecd",
   "metadata": {},
   "outputs": [],
   "source": [
    "\n",
    "# Integer (int) - liczba, np:\n",
    "print(\"Liczbami są:\", -5, 1, 0, 123123)\n",
    "print(\"Liczbami są pełne liczby pisane bez spacji. Bez apostrofow, cudzysłowiów, te są zarezerwowane tylko dla stringów.\")\n"
   ]
  },
  {
   "cell_type": "markdown",
   "id": "cfec4768",
   "metadata": {},
   "source": [
    "#### Są jeszcze 2 typy danch uznawane za głowne."
   ]
  },
  {
   "cell_type": "markdown",
   "id": "4d501ee5",
   "metadata": {},
   "source": [
    "#### Float (float) - liczby mające coś po kropce:"
   ]
  },
  {
   "cell_type": "code",
   "execution_count": 15,
   "id": "07c8c634",
   "metadata": {},
   "outputs": [
    {
     "name": "stdout",
     "output_type": "stream",
     "text": [
      "Float są: -5.1 1.1 0.3333 123123.0000001\n",
      "Float to liczby z tym, że zawsze mają coś po kropce.\n"
     ]
    }
   ],
   "source": [
    "print(\"Float są:\", -5.1, 1.1, 0.3333, 123123.0000001)\n",
    "print('Float to liczby z tym, że zawsze mają coś po kropce.')"
   ]
  },
  {
   "cell_type": "markdown",
   "id": "edf400a4",
   "metadata": {},
   "source": [
    "#### Boolean (bool) - Prawda/Fałsz:"
   ]
  },
  {
   "cell_type": "code",
   "execution_count": 16,
   "id": "ce82dd19",
   "metadata": {},
   "outputs": [
    {
     "name": "stdout",
     "output_type": "stream",
     "text": [
      "Bool są: True False (i tyle).\n",
      "Bool to wartość prawda/fałsz czemu odpowiada nieraz 0/1.\n"
     ]
    }
   ],
   "source": [
    "print('Bool są:', True, False, '(i tyle).')\n",
    "print('Bool to wartość prawda/fałsz czemu odpowiada nieraz 0/1.')"
   ]
  },
  {
   "cell_type": "markdown",
   "id": "88185d59",
   "metadata": {},
   "source": [
    "# 4. None - brak wartości\n",
    "\n",
    "Wyjątkowy typ wartości który można przypisać zmiennej to None, jej brak."
   ]
  },
  {
   "cell_type": "code",
   "execution_count": 36,
   "id": "0162b23a",
   "metadata": {},
   "outputs": [
    {
     "name": "stdout",
     "output_type": "stream",
     "text": [
      "None\n",
      "<class 'NoneType'>\n"
     ]
    }
   ],
   "source": [
    "x = None\n",
    "print(x)\n",
    "print(type(x))"
   ]
  },
  {
   "cell_type": "markdown",
   "id": "2d620f12",
   "metadata": {},
   "source": [
    "Stosuje się None gdy np. dla porządku trzeba utworzyć zmienną, której wartość nie jest zdefiniowana, więc zamiast zakrzywiać dane, wyznaczamy None."
   ]
  },
  {
   "cell_type": "markdown",
   "id": "ca76d58d",
   "metadata": {},
   "source": [
    "Omówiliśmy 4 główne typy danych: \n",
    "- str   - tekst\n",
    "- int   - liczby (całkowite)\n",
    "- float - liczby (zmiennoprzecinkowe)\n",
    "- bool  - prawda / fałsz\n",
    "\n",
    "Mogli byśmy dodać jeszcze trzeci typ liczbowy, complex. Jest to jednak rzadko używany typ danych.\n",
    "\n",
    "Te typy były \"główne\". Są też inne typy w Pythonie. \n",
    "O tym jednak będziemy mówić więcej w przyszłości. Narazie nie martw się tym. Nic a nic. \n",
    "\n",
    "Jednak jak chcesz rzucić okiem, są to:\n",
    "- funkcja, \n",
    "- klasa,\n",
    "- kontenery: list, tuple, range, set, frozenset, dict,\n",
    "- ponad to są typy binarne:\tbytes, bytearray, memoryview,\n",
    "- Dodatkowo istnieją inne typy z bibliotek jak np array z biblioteki numpy który jest działającym nieco inaczej niż listy, aczkolwiek bardzo podobnym ciągiem ciągiem cyfr."
   ]
  },
  {
   "cell_type": "markdown",
   "id": "8b6c74ad",
   "metadata": {},
   "source": [
    "### To mamy 4 główne typy danych. Co możemy z nimi robić?\n",
    "\n",
    "#### String (ciąg znaków) - można na przykład dodawać.\n",
    "\n",
    "Mają też wiele własnych metod jak np. .lower() który zamienia duże litery w całym ciągu znaków na małe."
   ]
  },
  {
   "cell_type": "code",
   "execution_count": null,
   "id": "2e2da3b1",
   "metadata": {},
   "outputs": [],
   "source": [
    "x = 'A'\n",
    "y = 'B'\n",
    "wynik_dodania_stringow = x + y\n",
    "print(wynik_dodania_stringow)\n",
    "print(wynik_dodania_stringow.lower())"
   ]
  },
  {
   "cell_type": "markdown",
   "id": "c610d25f",
   "metadata": {},
   "source": [
    "Ze stringami można robić dziesiątki rzeczy. O tym w dalszych klockach :)\n",
    "\n",
    "#### Integer (liczba): \n",
    "\n",
    "operacje matematyczne (ale matmy nie będzie wiele chyba, że dla chętnych i potrzebujących):\n"
   ]
  },
  {
   "cell_type": "code",
   "execution_count": 38,
   "id": "af4ca827",
   "metadata": {},
   "outputs": [
    {
     "name": "stdout",
     "output_type": "stream",
     "text": [
      "wynik_dodawania 110 <class 'int'>\n",
      "wynik_odejmowania 90 <class 'int'>\n",
      "wynik_mnozenia 1000 <class 'int'>\n",
      "wynik_dzielenia 10.0 <class 'float'>\n",
      "wynik_dzielenia 100000000000000000000 <class 'int'>\n"
     ]
    }
   ],
   "source": [
    "x = 100\n",
    "y = 10\n",
    "wynik_dodawania = x + y\n",
    "wynik_odejmowania = x - y\n",
    "wynik_mnozenia = x * y\n",
    "wynik_dzielenia = x / y\n",
    "wynik_potegowania = x ** y\n",
    "print('wynik_dodawania', wynik_dodawania, type( wynik_dodawania))\n",
    "print('wynik_odejmowania', wynik_odejmowania, type( wynik_odejmowania))\n",
    "print('wynik_mnozenia', wynik_mnozenia, type( wynik_mnozenia))\n",
    "print('wynik_dzielenia', wynik_dzielenia, type( wynik_dzielenia))\n",
    "print('wynik_potegowania', wynik_potegowania, type( wynik_potegowania))\n"
   ]
  },
  {
   "cell_type": "markdown",
   "id": "8705ca42",
   "metadata": {},
   "source": [
    "#### Zmiana wartości przez \"+=\", \"-=\": "
   ]
  },
  {
   "cell_type": "code",
   "execution_count": 39,
   "id": "b062d40e",
   "metadata": {},
   "outputs": [
    {
     "name": "stdout",
     "output_type": "stream",
     "text": [
      "10\n",
      "11\n",
      "12\n",
      "2\n",
      "1\n"
     ]
    }
   ],
   "source": [
    "x = 10\n",
    "print(x)\n",
    "x += 1\n",
    "print(x)\n",
    "x = x + 1\n",
    "print(x) \n",
    "x -= 10\n",
    "print(x)\n",
    "x = x - 1\n",
    "print(x)"
   ]
  },
  {
   "cell_type": "markdown",
   "id": "1d4dcfb5",
   "metadata": {},
   "source": [
    "#### Float:\n",
    "\n",
    "Czyli liczba z elementem po kropce (np. 1.01, 3.03))\n",
    "\n",
    "Tu wszystko działa tak samo jak na integerach :))))\n"
   ]
  },
  {
   "cell_type": "markdown",
   "id": "1111413e",
   "metadata": {},
   "source": [
    "#### Bool (Prawda/Fałsz)\n",
    "\n",
    "O tym typie danych powiemy więcej przy okazji warunków, a potem jeszcze przy okazji list. Zamień w poniższym kodzie True na False i None i zobacz różnicę."
   ]
  },
  {
   "cell_type": "code",
   "execution_count": 40,
   "id": "ee33c3cc",
   "metadata": {},
   "outputs": [],
   "source": [
    "x = True\n",
    "if x:\n",
    "    print('warunek jest prawdziwy')"
   ]
  },
  {
   "cell_type": "markdown",
   "id": "c92ef74f",
   "metadata": {},
   "source": [
    "# 5. Jak zmienić typ zmiennej?\n",
    "\n",
    "Obowiązuje zdrowy roządek:\n",
    "- String możesz zamienić na integer albo float tylko, jeżeli reprezentuje wartość liczbową np. \"1\" albo \"1.4\". Nie zmienisz \"xD\" na int, robiąc int('xD'). To będzie bład.\n",
    "- Integer możesz zmienić na: str, float, albo int\n",
    "- Float możesz zmienić na: str, int.\n"
   ]
  },
  {
   "cell_type": "code",
   "execution_count": 53,
   "id": "f94e9de0",
   "metadata": {},
   "outputs": [
    {
     "name": "stdout",
     "output_type": "stream",
     "text": [
      "1 <class 'int'>\n"
     ]
    }
   ],
   "source": [
    "# Zmienna x (nasze dane) o typie int (integer).\n",
    "x = 1\n",
    "print(x, type(x))"
   ]
  },
  {
   "cell_type": "code",
   "execution_count": 54,
   "id": "a0072ceb",
   "metadata": {},
   "outputs": [
    {
     "name": "stdout",
     "output_type": "stream",
     "text": [
      "1 <class 'str'>\n"
     ]
    }
   ],
   "source": [
    "# Zmień typ danych na string.\n",
    "x = str(x)\n",
    "print(x, type(x))"
   ]
  },
  {
   "cell_type": "code",
   "execution_count": 44,
   "id": "bebcd05e",
   "metadata": {},
   "outputs": [
    {
     "name": "stdout",
     "output_type": "stream",
     "text": [
      "1.0 <class 'float'>\n"
     ]
    }
   ],
   "source": [
    "# Zmień typ danych na float.\n",
    "x = float(x)\n",
    "print(x, type(x))"
   ]
  },
  {
   "cell_type": "code",
   "execution_count": 55,
   "id": "bb8d0256",
   "metadata": {},
   "outputs": [
    {
     "name": "stdout",
     "output_type": "stream",
     "text": [
      "True <class 'bool'>\n"
     ]
    }
   ],
   "source": [
    "# Zmień typ danych na bool.\n",
    "x = bool(x)\n",
    "print(x, type(x))"
   ]
  },
  {
   "cell_type": "code",
   "execution_count": 46,
   "id": "6305f355",
   "metadata": {},
   "outputs": [
    {
     "name": "stdout",
     "output_type": "stream",
     "text": [
      "1 <class 'int'>\n"
     ]
    }
   ],
   "source": [
    "# Zmień typ danych na integer.\n",
    "x = int(x)\n",
    "print(x, type(x))"
   ]
  },
  {
   "cell_type": "markdown",
   "id": "9506a065",
   "metadata": {},
   "source": [
    "# 6. isinstance() - warunek który się spełnia tylko, jeżeli wartość jest określonego typu np. tylko liczbą.\n",
    "\n",
    "użyjemy funkcji isinstance(), bardzo podobnej do type(). \n",
    "\n",
    "To co widzisz poniżej to if, pytanie warunkowe. Nie przejmuj się tym narazie. Omówimy je szerzej za kilka klocków."
   ]
  },
  {
   "cell_type": "markdown",
   "id": "e8b24a86",
   "metadata": {},
   "source": [
    "#### Przypomnij sobie przykłady każdego z typu danych."
   ]
  },
  {
   "cell_type": "code",
   "execution_count": 56,
   "id": "f8142fbf",
   "metadata": {},
   "outputs": [],
   "source": [
    "# Przypomnienie typów:\n",
    "bool_s = [True, False]\n",
    "integer_s = [-30, -5, 0,234, 1001244124124]\n",
    "float_s = [-11.1, 0.1, 2133.00000001]\n",
    "string_s = ['a', 'aaaa', ' a a  a', '1', 'True', '1.0', '#@$@98%']"
   ]
  },
  {
   "cell_type": "markdown",
   "id": "1a3768f6",
   "metadata": {},
   "source": [
    "#### I w każdej komórce pozmieniaj wartość x wybierając różne typy danych i patrz co się dzieje."
   ]
  },
  {
   "cell_type": "code",
   "execution_count": 47,
   "id": "3ad7ed3b",
   "metadata": {},
   "outputs": [
    {
     "name": "stdout",
     "output_type": "stream",
     "text": [
      "x to str a <class 'str'>\n"
     ]
    }
   ],
   "source": [
    "x = 'a' # pozmieniaj typ.\n",
    "if isinstance(x, str):\n",
    "    print('x to str', x, type(x))"
   ]
  },
  {
   "cell_type": "code",
   "execution_count": 48,
   "id": "4b8b934e",
   "metadata": {},
   "outputs": [],
   "source": [
    "x = 'a' # pozmieniaj typ.\n",
    "if isinstance(x, int):\n",
    "    print('x to int', x, type(x))"
   ]
  },
  {
   "cell_type": "code",
   "execution_count": 49,
   "id": "913062de",
   "metadata": {},
   "outputs": [],
   "source": [
    "x = 'a' # pozmieniaj typ.\n",
    "if isinstance(x, float):\n",
    "    print('x to float', x, type(x))"
   ]
  },
  {
   "cell_type": "code",
   "execution_count": 50,
   "id": "78f422ca",
   "metadata": {},
   "outputs": [],
   "source": [
    "x = 'a' # pozmieniaj typ.\n",
    "if isinstance(x, bool):\n",
    "    print('x to bool', x, type(x))"
   ]
  },
  {
   "cell_type": "markdown",
   "id": "e18c1306",
   "metadata": {},
   "source": [
    "#### Zadanie\n",
    "\n",
    "1. Napisz funkcję print która wydrukuje dane 4 róznych typów.\n",
    "2. Dodaj ze sobą 2 x float, 2 x string, 2 x integer.\n",
    "3. Dodaj ze sobą float i integer.\n",
    "4. Dodaj ze sobą str i integer i zobacz co się stanie.\n",
    "5. Bład? Tak, nie można dodawać stringów i integerów.\n",
    "6. Dodaj ze sobą str i int (ale zamieniając jego typ na str używając str() i zobacz co się stanie."
   ]
  }
 ],
 "metadata": {
  "kernelspec": {
   "display_name": "Python 3 (ipykernel)",
   "language": "python",
   "name": "python3"
  },
  "language_info": {
   "codemirror_mode": {
    "name": "ipython",
    "version": 3
   },
   "file_extension": ".py",
   "mimetype": "text/x-python",
   "name": "python",
   "nbconvert_exporter": "python",
   "pygments_lexer": "ipython3",
   "version": "3.8.10"
  }
 },
 "nbformat": 4,
 "nbformat_minor": 5
}
