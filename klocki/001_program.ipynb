{
 "cells": [
  {
   "cell_type": "markdown",
   "id": "37cb1643",
   "metadata": {},
   "source": [
    "# #001 - Program\n",
    "\n",
    "Program jest jak każdy widzi.\n",
    "\n",
    "### Spis treści:\n",
    "\n",
    "#### Level 1\n",
    "1. Przykładowy program\n",
    "4. Odpalanie programu - w Jupyterze\n",
    "5. Odpalanie programu - w Terminalu\n",
    "6. Jupyter - jeszcze kilka uwag\n",
    "7. Jak stworzyć nowy plik z programem (i jak go nazwać?)\n",
    "8. Inne\n",
    "9. Ćwiczenia\n",
    "\n",
    "#### Level 2\n",
    "1. Odpalanie programu z innego programu\n",
    "2. Zapisanie efektu działania programu jako plik.\n",
    "3. Odpalenie programu \"W tle\"\n",
    "4. Odpalanie programu z innego działającego programu\n",
    "5. Odpalanie programu będącego w komórce notatnika jupyter notebooka z innego pliku\n"
   ]
  },
  {
   "cell_type": "markdown",
   "id": "07270554",
   "metadata": {},
   "source": [
    "# Zanim zaczniesz naukę\n",
    "\n",
    "\n",
    "### 1. Zdobądź Jupytera, git'a i VSCode do pracy z kodem.\n",
    "\n",
    "Aby przygotować wszystko co jest potrzebne do rozpoczęcia nauki programowania w **Python 3** (i to w prawdziwym internetowym środowisku) powstał **[Szturm na AWS - serwer ze wsparciem](https://discord.gg/zyY3mpW4)** wraz z opisem **[jak przejść 10 etapów szturmu](https://github.com/ZPXD/flaga)**. Zdobędziesz tam to co potrzebne do korzystania z klocków do nauki Pythona 3 w praktyce:\n",
    "1.  Edytor kodu **VSCode** wraz z łączeniem przez **SSH**\n",
    "2. Interaktywne zeszyty **Jupyter** i **git** (u siebie na komputerze lub na Twoim serwerze)\n",
    "\n",
    "\n",
    "### 2. Pobierz to repo (te zeszyty, ten zeszyt) do nauki do siebie na komputer albo na serwer.\n",
    "\n",
    "1. Wejdź na repozytorium ['ZPXD/zajecia_programowania_xd'](https://github.com/ZPXD/zajecia_programowania_xd)\n",
    "2. Kliknij w **zielony przycisk clone** w repozytorium `ZPXD/zajecia_programowania_xd`. Pojawi się okienko. Skopiuj link.\n",
    "3. Wejdź do siebie na serwer przez VSCode (lub otwórz u siebie  VSCode jak masz git'a i Jupytera na swoim komputerze).\n",
    "4. W terminalu pobierz to repozytorium do głównego folderu domowego:\n",
    "\n",
    "```\n",
    "cd\n",
    "git clone skopiowany_link\n",
    "```\n",
    "\n",
    "5. Otwórz folder z repozytorium przez VSCode tak abyś miał ten tekst przed oczyma ale w VSCode z u siebie na komputerze lub na serwerze.\n",
    "\n",
    "### 3. Szybie i wygodne ćwiczenia\n",
    "\n",
    "#### Otwórz 2 okna:\n",
    "\n",
    "Dwa okna obok siebie, razem na pełen ekran ale obok siebie tak aby zawsze były na wierzchu:\n",
    "1. Okno z klockami (ten zeszyt, może być tu ale lepiej w VSCode)\n",
    "2. Okno z zeszytem ćwiczeń gdzie możesz odpalać kod\n",
    "\n",
    "Miej je ułożone tak, abyś mógł, mogła z prędkością wiatru przerzucać bloki kodu z jednego zeszytu do drugiego, ćwiczyć na nich i błyskawiczni je modyfikować. Praktyka czyni mistrza. Potem daj sobie chwilę czasu na refleksje i wróć ponownie następnego dnia.\n",
    "\n",
    "\n",
    "Zobacz kilka skrótów w Jupyterze: [Poruszanie się po Jupyterze.](https://analityk.edu.pl/jupyter-notebook-edytor-tekstu-dla-python)\n",
    "\n",
    "### 4. Jak się uczyć skutecznie?\n",
    "\n",
    "Uczyć można się szybko albo wolno. Skutecznie albo nie. Zrób to z głową, z sercem a na pewno dobrze Ci wyjdzie.\n",
    "\n",
    "1. Dobry cel\n",
    "\n",
    "2. Zaangażowanie\n",
    "\n",
    "3. Regularne systematyczne ćwiczenia\n",
    "\n",
    "4. Etapy\n",
    "\n",
    "5. Powtórki\n",
    "\n",
    "6. Plan\n",
    "\n",
    "7. Praktyka\n",
    "\n",
    "8. Dobra kompania\n",
    "\n",
    "\n",
    "### 5. Wszysto czego trzeba aby rozpocząć naukę jest opisane tutaj:\n",
    "- Instalacja programów do edycji kodu i nauki\n",
    "- Pobranie repo\n",
    "- Szybka i wygodna ułożenie okien do nauki, skróty\n",
    "- \n",
    "\n",
    "przeczytaj jeszcze raz znajdującą się w tym folderze **instrukcję działu: [klocki/README.md](https://github.com/ZPXD/zajecia_programowania_xd/tree/main/klocki)**.\n",
    "\n",
    "\n",
    "\n",
    "# Masz wszystko i wiesz jak się uczyć? Na pewno? Zaczynajmy."
   ]
  },
  {
   "cell_type": "markdown",
   "id": "055d7e8b",
   "metadata": {},
   "source": [
    "\n",
    "# Level 1"
   ]
  },
  {
   "cell_type": "markdown",
   "id": "5c853a6c",
   "metadata": {},
   "source": [
    "Poczytaj o języku Python na głównej stronie Pythona [Python 3](https://www.python.org/)."
   ]
  },
  {
   "cell_type": "markdown",
   "id": "f36110a8",
   "metadata": {},
   "source": [
    "## 1. Pierwszy program\n",
    "\n",
    "\n",
    "Jesteś w zeszycie Jupytera. Jeżeli masz przygotowane wszystko czego potrzeba do nauki, to możesz odpalać programy pythonowe tutaj lub np. w zeszycie do ćwiczeń. \n",
    "\n",
    "W komórce niżej jest 2 liniowy program napisany w języku Python 3. \n",
    "\n",
    "Pokaże wartość jaką przypiszesz po znaku równa się do `zmienna = `.\n",
    "\n",
    "Kliknij w nią i naciśnij **shift+enter**. "
   ]
  },
  {
   "cell_type": "code",
   "execution_count": 20,
   "id": "f9543468",
   "metadata": {},
   "outputs": [
    {
     "name": "stdout",
     "output_type": "stream",
     "text": [
      "Twój program zadziałał xD witamy na pokładzie.\n"
     ]
    }
   ],
   "source": [
    "zmienna = 'xD'\n",
    "print('Twój program zadziałał', zmienna, 'witamy na pokładzie.')"
   ]
  },
  {
   "cell_type": "markdown",
   "id": "90877f79",
   "metadata": {},
   "source": [
    "Drugi program. W 1 linijce poniżej jest kod który pokaże wartość zmiennej 10 razy:"
   ]
  },
  {
   "cell_type": "code",
   "execution_count": 68,
   "id": "6cf1fa6f",
   "metadata": {},
   "outputs": [
    {
     "data": {
      "text/plain": [
       "'xDxDxDxDxDxDxDxDxDxD'"
      ]
     },
     "execution_count": 68,
     "metadata": {},
     "output_type": "execute_result"
    }
   ],
   "source": [
    "zmienna*10"
   ]
  },
  {
   "cell_type": "markdown",
   "id": "c8387e3b",
   "metadata": {},
   "source": [
    "Kolejny krótki program. Sprawdź typ zmiennej:"
   ]
  },
  {
   "cell_type": "code",
   "execution_count": 65,
   "id": "1aafbabd",
   "metadata": {},
   "outputs": [
    {
     "data": {
      "text/plain": [
       "str"
      ]
     },
     "execution_count": 65,
     "metadata": {},
     "output_type": "execute_result"
    }
   ],
   "source": [
    "type(zmienna)"
   ]
  },
  {
   "cell_type": "markdown",
   "id": "153531f0",
   "metadata": {},
   "source": [
    "`str` to string czyli dane tekstowe."
   ]
  },
  {
   "cell_type": "markdown",
   "id": "7afcb9ee",
   "metadata": {},
   "source": [
    "## Modyfikuj kod - nauczysz się szybciej\n",
    "\n",
    "**Kod śmiało możesz modyfikować.**\n",
    "\n",
    "Pobaw się treścią zmiennej x w pierwszej linii kodu poniżej\n",
    "\n",
    "(zmień napis przypisany do x, po znaku równa się, między apostrofami pierwszej linii). \n",
    "\n",
    "Zmieniaj treść i ponownie odpalaj program **shift+enter**. "
   ]
  },
  {
   "cell_type": "code",
   "execution_count": 43,
   "id": "0eaebb79",
   "metadata": {},
   "outputs": [
    {
     "name": "stdout",
     "output_type": "stream",
     "text": [
      "Twój napis ma 12 znaków.\n"
     ]
    }
   ],
   "source": [
    "x = 'Ala ma kota.'\n",
    "\n",
    "print('Twój napis ma', len(x), 'znaków.')"
   ]
  },
  {
   "cell_type": "markdown",
   "id": "36a83752",
   "metadata": {},
   "source": [
    "**Dostępność pomiędzy komórkami.**\n",
    "\n",
    "A to co wypiszesz w jednej komórce jako zmienna lub funkcja, to jest dostępne w komórce poniżej – o ile komórka zostanie odpalona. \n",
    "\n",
    "Zobacz sam - x to nadal 10:"
   ]
  },
  {
   "cell_type": "code",
   "execution_count": 41,
   "id": "07dcee39",
   "metadata": {},
   "outputs": [],
   "source": [
    "x = 10"
   ]
  },
  {
   "cell_type": "code",
   "execution_count": 42,
   "id": "d31075f5",
   "metadata": {
    "scrolled": true
   },
   "outputs": [
    {
     "name": "stdout",
     "output_type": "stream",
     "text": [
      "10\n"
     ]
    }
   ],
   "source": [
    "print(x)"
   ]
  },
  {
   "cell_type": "markdown",
   "id": "de7d88d3",
   "metadata": {},
   "source": [
    "## 2. Odpalanie programu w Python3 w terminalu\n",
    "\n",
    "To w skrócie komenda **python3** + nazwa programu, np:\n",
    "\n",
    "Upewnij się, że jesteś w folderze z klockami. Sprawdzisz w jakim folderze jesteś dzieki:\n",
    "```\n",
    "pwd\n",
    "```\n",
    "\n",
    "Jeżeli to nie wskazuje na miejsce folderu z zajęciami programowania xd, wpisz kolejno:\n",
    "```\n",
    "cd\n",
    "cd zajecia_programowania_xd/klocki\n",
    "```\n",
    "\n",
    "i znów\n",
    "\n",
    "```\n",
    "pwd\n",
    "```\n",
    "\n",
    "Tym razem powinno wskazywać miejsce z klockami."
   ]
  },
  {
   "cell_type": "markdown",
   "id": "656688c5",
   "metadata": {},
   "source": [
    "#### Odpal program w terminalu"
   ]
  },
  {
   "cell_type": "code",
   "execution_count": null,
   "id": "fe80bf19",
   "metadata": {},
   "outputs": [],
   "source": [
    "python3 program.py"
   ]
  },
  {
   "cell_type": "markdown",
   "id": "e69ebd86",
   "metadata": {},
   "source": [
    "#### Path czyli ścieżka \n",
    "\n",
    "Tak nazywamy argument który wskazuje na miejsce folderu lub pliku na komputerze np.\n",
    "```\n",
    "/home/ja\n",
    "```\n",
    "\n",
    "To Twój folder domowy użytkownika `ja` na komputerze. Ty będziesz tam miał oczywiście swoje imie lub inną nazwę. Inne przykłady ścieżek na Twoim serwerze ze Szturmu na AWS:\n",
    "```\n",
    "/var/www/flaga\n",
    "/root/backup\n",
    "/home/ubuntu\n",
    "```\n",
    "\n",
    "Wszystkie zaczynają się od `/`. Taka ścieżka to ścieżka \"od początku\", bo zaczyna się od folderu na samym początku. \n",
    "\n",
    "\n",
    "Można jednak używać ścieżek bez bezwzględnej, jeżeli odnosisz się do folderu lub pliku znajdującego się w Twoim folderze, lub w folderze wewnątrz niego (etc.). Wejdź do folderu domowego\n",
    "\n",
    "\n",
    "```\n",
    "cd\n",
    "```\n",
    "\n",
    "Następnie podaj użyj komdendy cd podając ścieżkę od momentu gdzie jesteś:\n",
    "\n",
    "`cd zajecia_programowania_xd/klocki`\n",
    "\n",
    "Zadziała tak, jak pełna ścieżka - ponieważ folder w którym polecenie zostało wykonane zawierał folder od którego zaczynało się podanie ścieżki czyli `zajecia_programowania_xd`.\n",
    "\n",
    "\n",
    "\n",
    "Powtórzmy odpalanie programów:"
   ]
  },
  {
   "cell_type": "markdown",
   "id": "af6e5c0b",
   "metadata": {},
   "source": [
    "#### Odpal program (będąc w folderze w którym jest)"
   ]
  },
  {
   "cell_type": "markdown",
   "id": "c59eac8e",
   "metadata": {},
   "source": [
    "```\n",
    "python3 program.py\n",
    "```"
   ]
  },
  {
   "cell_type": "markdown",
   "id": "b252857f",
   "metadata": {},
   "source": [
    "#### Odpal program będąc w folderze w którym jest folder zawierający program"
   ]
  },
  {
   "cell_type": "markdown",
   "id": "a44b7ef1",
   "metadata": {},
   "source": [
    "```\n",
    "cd\n",
    "python3 zajecia_programowania/klocki/program.py\n",
    "```"
   ]
  },
  {
   "cell_type": "markdown",
   "id": "a1eb8bf7",
   "metadata": {},
   "source": [
    "#### Odpal program nie ważne w jakim w folderze jesteś dzięki pełnej ścieżce od znaku `/` - tzw. \"slesh\"."
   ]
  },
  {
   "cell_type": "markdown",
   "id": "dd5044d5",
   "metadata": {},
   "source": [
    "```\n",
    "python3 /home/ja/zajecia_programowania_xd/klocki/program.py\n",
    "```"
   ]
  },
  {
   "cell_type": "markdown",
   "id": "2f91f63d",
   "metadata": {},
   "source": [
    "**Przeanalizujmy komendę uruchamiającą program**"
   ]
  },
  {
   "cell_type": "code",
   "execution_count": null,
   "id": "fb5f49ea",
   "metadata": {},
   "outputs": [],
   "source": [
    "python3 program.py"
   ]
  },
  {
   "cell_type": "markdown",
   "id": "86fc9fc7",
   "metadata": {},
   "source": [
    "\n",
    "\n",
    "- **python3** - uruchamia program napisany w Python3.\n",
    "- **nazwa_programu.py** - nazwa pliku (programu) który jest uruchamiany.\n",
    "- **.py** - plik skryptu w języku Python zawsze ma końcówkę .py - podobnie pliki javascript mają tam \".js\".\n"
   ]
  },
  {
   "cell_type": "markdown",
   "id": "e6458382",
   "metadata": {},
   "source": [
    "Ścieżki nie podajesz od \"początku\" więc nie potrzebujesz zaczynać od \"/\"."
   ]
  },
  {
   "cell_type": "markdown",
   "id": "d25ebdd1",
   "metadata": {},
   "source": [
    "## Odpalanie programów `.py` w Jupyterze\n",
    "\n",
    "Zachodzi tak samo jak w terminalu, ale z wykrzyknikiem na początku:"
   ]
  },
  {
   "cell_type": "code",
   "execution_count": 50,
   "id": "bf961363",
   "metadata": {},
   "outputs": [
    {
     "name": "stdout",
     "output_type": "stream",
     "text": [
      "Twój program zadziałał xD witamy na pokładzie.\r\n"
     ]
    }
   ],
   "source": [
    "!python3 program.py"
   ]
  },
  {
   "cell_type": "markdown",
   "id": "287466c4",
   "metadata": {},
   "source": [
    "#### Inne Linux'owe komendy w Jupyterze\n",
    "\n",
    "Napisze Ci w jakiej lokalizacji jesteś w linuxie. "
   ]
  },
  {
   "cell_type": "code",
   "execution_count": 52,
   "id": "ab9bb7bb",
   "metadata": {},
   "outputs": [
    {
     "data": {
      "text/plain": [
       "'/home/luke/zajecia_programowania_xd/klocki'"
      ]
     },
     "execution_count": 52,
     "metadata": {},
     "output_type": "execute_result"
    }
   ],
   "source": [
    "pwd"
   ]
  },
  {
   "cell_type": "markdown",
   "id": "e9cbc58b",
   "metadata": {},
   "source": [
    "**Spróbuj: ls -la** \n",
    "\n",
    "Wylistuje Ci pliki w **folderze w którym jesteś**."
   ]
  },
  {
   "cell_type": "markdown",
   "id": "4de92f26",
   "metadata": {},
   "source": [
    "Na początek starczy. \n",
    "\n",
    "Jeżeli chcesz lepiej poruszać się po Linuksie, poznać i łatwo stosować więcej komend oraz lepiej go poznać, wejdź na link, który tu będzie w przyszłości."
   ]
  },
  {
   "cell_type": "markdown",
   "id": "a21f9b92",
   "metadata": {},
   "source": [
    "## Jak utworzyć program?\n",
    "\n",
    "Trzymaj się zasad nazewnictwa i zapisz plik z ponad 1 linijką poprawnego kodu (np. \"print('xd')\") tak aby miał końcówkę **.py**. Gotowe. Program stworzony.\n",
    "\n",
    "**A. W notatniku VSC** zrobisz to łatwo np. po prostu klikając w \"plik\" i \"utwórz nowy\"."
   ]
  },
  {
   "cell_type": "markdown",
   "id": "acf29f1a",
   "metadata": {},
   "source": [
    "## Jak nazywać program?\n",
    "\n",
    "- zacznij od litery (i raczej trzymaj się małych liter)\n",
    "- nazwa programu nie może zawierać spacji - zamiast nich użyj '_' (rzadziej używa się `-`)\n",
    "- raczej nie używaj znaków specjalnych\n",
    "\n",
    "Poza tym panuje dosyć spora dowolność."
   ]
  },
  {
   "cell_type": "markdown",
   "id": "a8d264f4",
   "metadata": {},
   "source": [
    "## Funkcja help()"
   ]
  },
  {
   "cell_type": "code",
   "execution_count": null,
   "id": "a07b445d",
   "metadata": {},
   "outputs": [],
   "source": [
    "help()"
   ]
  },
  {
   "cell_type": "markdown",
   "id": "e73c3dff",
   "metadata": {},
   "source": [
    "**Interesuje Cię jakaś część kodu pythona (np. nazwa funkcji)?** \n",
    "\n",
    "Umieścić między nawiasami jako argument funkcji help(). Zobaczysz wtedy techniczny opis."
   ]
  },
  {
   "cell_type": "code",
   "execution_count": null,
   "id": "42b7b1c3",
   "metadata": {},
   "outputs": [],
   "source": [
    "help( print)"
   ]
  },
  {
   "cell_type": "markdown",
   "id": "4f6ba5c2",
   "metadata": {},
   "source": [
    "### Ćwiczenia\n",
    "\n",
    "1. Uruchom program.py  jeszcze kilka razy dla wprawy :))))\n",
    "2. Dodaj jeszcze jedną linię kodu :))) skopiuj linię drugą do trzeciej, spróbuj ją modyfikować. I uruchom parę razy. \n",
    "3. Stwórz w tym notatniku nową komórkę z miejscem na kod. Napisz tam print('xD') i odpal.\n",
    "4. Stwórz nowy program o nazwie moj_program.py. W programie wykorzystaj poznaną wcześniej funkcję print() ale jako jej argument, wstaw 'Siema'.\n",
    "5. Uruchom Twój program. Pamiętaj, że ma inną nazwę.\n",
    "6. Sprawdź ścieżkę miejsca, w którym teraz jesteś. Wyjdź z folderu, gdzie jesteś do folderu wyżej. (napisz 'cd ..' w terminalu, cofnie Cię do katalogu \"wyżej\") i uruchom swój program z tego miejsca pisząc python3 + rezultat tego, co dała użyta przed komendą \"pwd\" + nazwa Twojego programu, czyli \"/moj_program.py\"\n",
    "\n",
    "\n",
    "Jeżeli coś Ci nie idzie, leć na dział #pomoc na discordzie. Pomożemy Ci."
   ]
  },
  {
   "cell_type": "markdown",
   "id": "f05e132a",
   "metadata": {},
   "source": [
    "\n",
    "## O ile nie wymiatasz, to tyle. Leć dalej do kolejnego klocka.\n",
    "\n",
    "Jeżeli jesteś nowy w programowaniu oraz jesteś tu pierwszy raz, to ten materiał to wszystko czego na razie Ci trzeba. Przejdź do kolejnego klocku :) a tu wróć potem w ramach powtórki i poszerzenia wiedzy i umiejętności.\n",
    "\n",
    "#### Ale jak ogarniesz już kilka / kilkanaście klocków to wróć i zobacz też:\n",
    "\n",
    "\n",
    "\n",
    "\n",
    "\n",
    "# Level 2"
   ]
  },
  {
   "cell_type": "markdown",
   "id": "88f7cca0",
   "metadata": {},
   "source": [
    "### 1. Odpalanie programu przez inny skrypt\n",
    "\n",
    "Uruchom program x w programie y.\n",
    "\n",
    "To będzie potem. Dobrym przykładem tego będzie klocek 7 - importy."
   ]
  },
  {
   "cell_type": "code",
   "execution_count": null,
   "id": "f397e5bb",
   "metadata": {},
   "outputs": [],
   "source": []
  },
  {
   "cell_type": "markdown",
   "id": "9a90b61b",
   "metadata": {},
   "source": [
    "### 2. Odpalanie programu przez inny działający program\n",
    "\n",
    "Np. Cron, Systemd, Nginx.\n",
    "\n",
    "To będzie potem."
   ]
  },
  {
   "cell_type": "code",
   "execution_count": null,
   "id": "9e81db2c",
   "metadata": {},
   "outputs": [],
   "source": []
  },
  {
   "cell_type": "markdown",
   "id": "49c2e190",
   "metadata": {},
   "source": [
    "### 3. Zapisanie efektu działania programu jako plik\n",
    "\n",
    "Odpal program jak zawsze, ale dalej dodaj dziubek i nazwę (lub ścieżkę) do pliku, w którym chcesz zapisać efekt działania programu. Wpisz:"
   ]
  },
  {
   "cell_type": "code",
   "execution_count": 56,
   "id": "8b0bc5da",
   "metadata": {},
   "outputs": [],
   "source": [
    "!python3 program.py > wynik_programu.txt"
   ]
  },
  {
   "cell_type": "markdown",
   "id": "4ecd702f",
   "metadata": {},
   "source": [
    "I wyświetl zawartość nowo-utworzonego pliku:"
   ]
  },
  {
   "cell_type": "code",
   "execution_count": 57,
   "id": "4ae513cd",
   "metadata": {},
   "outputs": [
    {
     "name": "stdout",
     "output_type": "stream",
     "text": [
      "Twój program zadziałał xD witamy na pokładzie.\r\n"
     ]
    }
   ],
   "source": [
    "cat wynik_programu.txt"
   ]
  },
  {
   "cell_type": "markdown",
   "id": "792eea88",
   "metadata": {},
   "source": [
    "### 4. Odpalenie programu \"W tle\"\n",
    "\n",
    "Po nazwie programu `program.py` dodaj `&&`. Program odpali się w tle. To oznacza też, że to co zwraca (np. wyświetla podczas pracy na ekranie) nie będzie widoczne. Pamiętaj o tych programach, bo łatwo natworzyć sobie kilka takich i zapomnieć. \n",
    "\n",
    "#### Odpal program w tle"
   ]
  },
  {
   "cell_type": "code",
   "execution_count": null,
   "id": "4d40ce0a",
   "metadata": {},
   "outputs": [],
   "source": [
    "python3 program.py &&"
   ]
  },
  {
   "cell_type": "markdown",
   "id": "b8500d5c",
   "metadata": {},
   "source": [
    "#### Zamknij programu odpaloney w tle\n",
    "\n",
    "Poznaj jego kod PID wpisując w terminalu komendę:"
   ]
  },
  {
   "cell_type": "code",
   "execution_count": null,
   "id": "825ddccd",
   "metadata": {},
   "outputs": [],
   "source": [
    "ps aux | grep 'nazwa_programu.py'"
   ]
  },
  {
   "cell_type": "markdown",
   "id": "2092440b",
   "metadata": {},
   "source": [
    "Druga pozycja powinna być numerem \"PID\""
   ]
  },
  {
   "cell_type": "markdown",
   "id": "08ebd577",
   "metadata": {},
   "source": [
    "Np. u mnie, dla programu `x.py` polecenie zwraca:"
   ]
  },
  {
   "cell_type": "markdown",
   "id": "85c9d750",
   "metadata": {},
   "source": [
    "```\n",
    "luke@luke-HP8:~/zajecia_programowania_xd/klocki$ ps aux | grep 'x.py'\n",
    "luke     1495528  102  0.0  20816  9164 pts/15   R+   01:27   0:41 python3 x.py\n",
    "luke     1495560  0.0  0.0  11576  2548 pts/16   S+   01:27   0:00 grep --color=auto x.py\n",
    "```"
   ]
  },
  {
   "cell_type": "markdown",
   "id": "07c35810",
   "metadata": {},
   "source": [
    "Druga linia pokazuje informacje o puszczonym w tle programie `x.py`. Trzecia linia reprezentuje `grep`, nie jest tu istotna."
   ]
  },
  {
   "cell_type": "markdown",
   "id": "850e9c37",
   "metadata": {},
   "source": [
    "Aby zatrzymać program puszczony w tle, użyj funkcji zamieniając frazę PID na numer PID z powyższej listy (drugi po prawej w linii drugiej):"
   ]
  },
  {
   "cell_type": "code",
   "execution_count": null,
   "id": "9ba1f701",
   "metadata": {},
   "outputs": [],
   "source": [
    "!kill -p PID"
   ]
  },
  {
   "cell_type": "markdown",
   "id": "38190680",
   "metadata": {},
   "source": [
    "Dla pewności możesz ponowić funkcję `grep` aby sprawdzić, czy program nadal działa, czy udało Ci się go zatrzymać:"
   ]
  },
  {
   "cell_type": "markdown",
   "id": "47e2a0bb",
   "metadata": {},
   "source": [
    "ps aux | grep 'nazwa_programu.py'"
   ]
  },
  {
   "cell_type": "markdown",
   "id": "4c09d133",
   "metadata": {},
   "source": [
    "## 5. Odpalanie programu z komórki notatnika jupyter notebooka z innego miejsca\n",
    "\n",
    "\n",
    "Tu później będzie opis."
   ]
  },
  {
   "cell_type": "markdown",
   "id": "31c5a370",
   "metadata": {},
   "source": [
    "# Inne / notatki / pomysły:\n",
    "\n",
    "Na razie w tym temacie to wszystko. Jak będę miał jakieś dodatkowe pomysły, to dodam je tutaj.\n",
    "\n",
    "### Do zrobienia:\n",
    "- Jest kilka rzeczy do uzupełnienia.\n",
    "- Chciałbym dodać więcej wiedzy i linków do niej w osobnych dokumentach."
   ]
  },
  {
   "cell_type": "code",
   "execution_count": 64,
   "id": "35a56713",
   "metadata": {},
   "outputs": [
    {
     "ename": "SyntaxError",
     "evalue": "invalid syntax (2143113867.py, line 2)",
     "output_type": "error",
     "traceback": [
      "\u001b[0;36m  File \u001b[0;32m\"/tmp/ipykernel_1468584/2143113867.py\"\u001b[0;36m, line \u001b[0;32m2\u001b[0m\n\u001b[0;31m    - jeszcze troche o sciezkach\u001b[0m\n\u001b[0m              ^\u001b[0m\n\u001b[0;31mSyntaxError\u001b[0m\u001b[0;31m:\u001b[0m invalid syntax\n"
     ]
    }
   ],
   "source": [
    "#### Level dla zaawansowanych.\n",
    "- jeszcze troche o sciezkach"
   ]
  },
  {
   "cell_type": "code",
   "execution_count": null,
   "id": "6e1eed9f",
   "metadata": {},
   "outputs": [],
   "source": []
  }
 ],
 "metadata": {
  "kernelspec": {
   "display_name": "Python 3 (ipykernel)",
   "language": "python",
   "name": "python3"
  },
  "language_info": {
   "codemirror_mode": {
    "name": "ipython",
    "version": 3
   },
   "file_extension": ".py",
   "mimetype": "text/x-python",
   "name": "python",
   "nbconvert_exporter": "python",
   "pygments_lexer": "ipython3",
   "version": "3.8.10"
  }
 },
 "nbformat": 4,
 "nbformat_minor": 5
}
