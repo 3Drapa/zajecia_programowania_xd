{
 "cells": [
  {
   "cell_type": "markdown",
   "id": "0264e5eb",
   "metadata": {},
   "source": [
    "# 010 - stringi\n",
    "\n",
    "Tekst.\n",
    "\n",
    "#### Spis treści:\n",
    "1. x\n",
    "2. x\n",
    "3. x"
   ]
  },
  {
   "cell_type": "markdown",
   "id": "41054c88",
   "metadata": {},
   "source": [
    "## Stringi\n",
    "\n",
    "#### Czyli dane tekstowe\n",
    "\n",
    "Nauka przyniesie najlepsze efekty gdy po przeczytaniu opisów metod i funkcji będziesz aktywnie odpalał i modyfikowł wszystkie komórki z kodem. \n",
    "- otwórz nowy notebook (najlepiej poza TYM notebookiem)\n",
    "- wracaj codziennie przez kilka dni do tego zeszytu\n",
    "\n",
    "## Jak dobrze wyćwiczyć stringi?\n",
    "\n",
    "#### Ćwicz odrazu\n",
    "\n",
    "Odpalaj każdy kod w tym zeszycie, spróbuj modyfikować niektóre elementy aby lepiej je zrozumieć\n",
    "\n",
    "#### Powtarzaj wiele razy\n",
    "\n",
    "Przez conajmniej 7 dni przeglądaj codziennie ten zeszyt (daj sobie z 5-10 minut - a najlepiej więcej, przejrzyj wszystkie funkcje, kod) - utrwalisz materiał\n",
    "\n",
    "#### Przechodź po kolei poziomy -  oddziel to co ważne i pilne od tego co jest przydatne w dalszej kolejności\n",
    "\n",
    "Ten plik jest podzielony na kilka poziomów. \n",
    "\n",
    "Możesz przeczytać cały opis danego tematu za 1 razem albo\n",
    "nauczyć sie tego co najbardziej istotnie i po zaawansowany materiał\n",
    "wrócić tu później.\n"
   ]
  },
  {
   "cell_type": "code",
   "execution_count": null,
   "id": "aa2d6e23",
   "metadata": {},
   "outputs": [],
   "source": []
  },
  {
   "cell_type": "code",
   "execution_count": null,
   "id": "531b0e06",
   "metadata": {},
   "outputs": [],
   "source": []
  },
  {
   "cell_type": "code",
   "execution_count": null,
   "id": "21ea701a",
   "metadata": {},
   "outputs": [],
   "source": []
  }
 ],
 "metadata": {
  "kernelspec": {
   "display_name": "Python 3 (ipykernel)",
   "language": "python",
   "name": "python3"
  },
  "language_info": {
   "codemirror_mode": {
    "name": "ipython",
    "version": 3
   },
   "file_extension": ".py",
   "mimetype": "text/x-python",
   "name": "python",
   "nbconvert_exporter": "python",
   "pygments_lexer": "ipython3",
   "version": "3.8.10"
  }
 },
 "nbformat": 4,
 "nbformat_minor": 5
}
