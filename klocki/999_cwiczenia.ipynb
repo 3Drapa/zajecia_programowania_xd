{
 "cells": [
  {
   "cell_type": "markdown",
   "id": "7b10c637",
   "metadata": {},
   "source": [
    "# Ćwiczenia\n",
    "\n",
    "### Tu wklejaj i edytuj kod z zeszytów klocków. Ćwicz, baw się nim.\n",
    "\n",
    "W przyszłości stwórz własny system notatników aby trzymać w nich najważniejsze notatki i skrypty.\n",
    "\n",
    "(Jeżeli zechcesz się nimi podzielić, wyślij **Pull Request (PR)** na `ZPXD/zajecia_programowania_xd`).\n",
    "\n",
    "#### Najlepiej przekejaj tutaj i po kilka razy na różne sposoby przećwicz każdą komórkę kodu jaką napotkasz w zeszytach klocków. "
   ]
  },
  {
   "cell_type": "markdown",
   "id": "daa93557",
   "metadata": {},
   "source": [
    "#### Ćwiczenie 1"
   ]
  },
  {
   "cell_type": "code",
   "execution_count": null,
   "id": "ca5300de",
   "metadata": {},
   "outputs": [],
   "source": []
  },
  {
   "cell_type": "markdown",
   "id": "f59d550c",
   "metadata": {},
   "source": [
    "#### Ćwiczenie 2"
   ]
  },
  {
   "cell_type": "code",
   "execution_count": null,
   "id": "02ea41a5",
   "metadata": {},
   "outputs": [],
   "source": []
  },
  {
   "cell_type": "markdown",
   "id": "f5fe6ccc",
   "metadata": {},
   "source": [
    "#### Ćwiczenie 3"
   ]
  },
  {
   "cell_type": "code",
   "execution_count": null,
   "id": "f47ffeb3",
   "metadata": {},
   "outputs": [],
   "source": []
  },
  {
   "cell_type": "markdown",
   "id": "5599660d",
   "metadata": {},
   "source": [
    "#### ..."
   ]
  },
  {
   "cell_type": "code",
   "execution_count": null,
   "id": "37104206",
   "metadata": {},
   "outputs": [],
   "source": []
  }
 ],
 "metadata": {
  "kernelspec": {
   "display_name": "Python 3 (ipykernel)",
   "language": "python",
   "name": "python3"
  },
  "language_info": {
   "codemirror_mode": {
    "name": "ipython",
    "version": 3
   },
   "file_extension": ".py",
   "mimetype": "text/x-python",
   "name": "python",
   "nbconvert_exporter": "python",
   "pygments_lexer": "ipython3",
   "version": "3.8.10"
  }
 },
 "nbformat": 4,
 "nbformat_minor": 5
}
