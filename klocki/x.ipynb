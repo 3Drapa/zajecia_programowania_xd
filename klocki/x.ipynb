{
 "cells": [
  {
   "cell_type": "markdown",
   "id": "37cb1643",
   "metadata": {},
   "source": [
    "# #001 - Program\n",
    "\n",
    "Program jest jak każdy widzi.\n",
    "\n",
    "### Spis treści:\n",
    "\n",
    "#### Level 1\n",
    "1. Program\n",
    "2. Język programowania\n",
    "3. Przykładowy program\n",
    "4. Odpalanie programu w Jupyterze\n",
    "5. Odpalanie programu w Terminalu\n",
    "6. Jupyter - jeszcze kilka uwag\n",
    "7. Jak stworzyć nowy plik z programem (i jak go nazwać?)\n",
    "8. Inne\n",
    "9. Ćwiczenia\n",
    "\n",
    "#### Level 2\n",
    "1. Odpalanie programu z innego programu\n",
    "2. Zapisanie efektu działania programu jako plik.\n",
    "3. Odpalenie programu \"W tle\"\n",
    "4. Odpalanie programu z innego działającego programu\n",
    "5. Odpalanie programu będącego w komórce notatnika jupyter notebooka z innego pliku\n"
   ]
  },
  {
   "cell_type": "markdown",
   "id": "07270554",
   "metadata": {},
   "source": [
    "# #001 - Program"
   ]
  },
  {
   "cell_type": "markdown",
   "id": "055d7e8b",
   "metadata": {},
   "source": [
    "# #001 - Program"
   ]
  },
  {
   "cell_type": "markdown",
   "id": "c0847947",
   "metadata": {},
   "source": [
    "# #001 - Program"
   ]
  },
  {
   "cell_type": "markdown",
   "id": "f88a6c05",
   "metadata": {},
   "source": [
    "# #001 - Program"
   ]
  },
  {
   "cell_type": "code",
   "execution_count": 2,
   "id": "f9543468",
   "metadata": {},
   "outputs": [],
   "source": [
    "x = 10\n"
   ]
  },
  {
   "cell_type": "code",
   "execution_count": 3,
   "id": "bf961363",
   "metadata": {},
   "outputs": [],
   "source": [
    "x = 10\n"
   ]
  },
  {
   "cell_type": "code",
   "execution_count": 4,
   "id": "cec1e2a9",
   "metadata": {},
   "outputs": [],
   "source": [
    "x = 10\n"
   ]
  },
  {
   "cell_type": "code",
   "execution_count": 5,
   "id": "ab9bb7bb",
   "metadata": {},
   "outputs": [
    {
     "name": "stdout",
     "output_type": "stream",
     "text": [
      "10\n"
     ]
    }
   ],
   "source": [
    "print(x)"
   ]
  },
  {
   "cell_type": "code",
   "execution_count": null,
   "id": "136a7a9b",
   "metadata": {},
   "outputs": [],
   "source": []
  },
  {
   "cell_type": "code",
   "execution_count": null,
   "id": "35a56713",
   "metadata": {},
   "outputs": [],
   "source": []
  }
 ],
 "metadata": {
  "kernelspec": {
   "display_name": "Python 3 (ipykernel)",
   "language": "python",
   "name": "python3"
  },
  "language_info": {
   "codemirror_mode": {
    "name": "ipython",
    "version": 3
   },
   "file_extension": ".py",
   "mimetype": "text/x-python",
   "name": "python",
   "nbconvert_exporter": "python",
   "pygments_lexer": "ipython3",
   "version": "3.8.10"
  }
 },
 "nbformat": 4,
 "nbformat_minor": 5
}
