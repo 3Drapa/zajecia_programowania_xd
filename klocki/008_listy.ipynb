{
 "cells": [
  {
   "cell_type": "markdown",
   "id": "5c0a51d3",
   "metadata": {},
   "source": [
    "# 008 - listy\n",
    "\n",
    "Zbiory.\n",
    "\n",
    "### Spis treści:\n",
    "\n",
    "Level 1\n",
    "1. Kolekcje danych i listy\n",
    "2. Indeksy \n",
    "3. Metody list - główne\n",
    "4. Metody listy - pozostałe\n",
    "5. Pozostałe często używane zbiory danych: tuple i sety.\n",
    "\n",
    "Level 2\n",
    "1. \n",
    "2. \n",
    "3. \n",
    "\n",
    "\n",
    "Level 3\n",
    "1. \n",
    "2. \n",
    "3. \n",
    "\n"
   ]
  },
  {
   "cell_type": "markdown",
   "id": "f3ba8009",
   "metadata": {},
   "source": [
    "## Listy\n",
    "\n",
    "#### Lista, zwłaszcza w porównaniu z pętlą to jeden z piękniejszych elementów pythona.\n",
    "\n",
    "Najlepsze efekty przyniesie gdy będziesz aktywnie odpalał i modyfikowł wszystkie komórki z kodem. Możesz robić to w tym notebooku albo otwórz drugie okno z notatnikiem obok i wklejaj do niego bloki kodu. Najważniejsze dla nauki są powtórki, gdy skończysz przerabiać materiał to przejdź jeszcze kilka razy przez ten zeszyt w ciągu tego tygodnia, nawet na szybko. Tak najlepiej utrwala się materiał.\n",
    "\n",
    "Kiedy sam się uczyłem, starałem się zawsze mieć przy sobie kartkę\n",
    "z notatkami, taką jak ta, aby móc w wolnej chwili rzucić okiem i\n",
    "sobie powtórzyć takie rzeczy. Polecam.\n",
    "\n",
    "Poziomy.\n",
    "\n",
    "Ten plik jest podzielony na kilka poziomów. \n",
    "Możesz przeczytać cały opis danego tematu za 1 razem albo\n",
    "nauczyć sie tego co najbardziej istotnie i po zaawansowany materiał\n",
    "wrócić tu później.\n"
   ]
  },
  {
   "cell_type": "markdown",
   "id": "47c81ce8",
   "metadata": {},
   "source": [
    "## 1. Kolekcje danych i Listy\n",
    "\n",
    "Do tej pory mówiliśmy głównie o \"zmiennych\" które przybierają pewne wartości, np:"
   ]
  },
  {
   "cell_type": "code",
   "execution_count": 28,
   "id": "c36c4df6",
   "metadata": {},
   "outputs": [],
   "source": [
    "x = 1"
   ]
  },
  {
   "cell_type": "markdown",
   "id": "b86534e8",
   "metadata": {},
   "source": [
    "czy:"
   ]
  },
  {
   "cell_type": "code",
   "execution_count": 29,
   "id": "5f36eb4f",
   "metadata": {},
   "outputs": [],
   "source": [
    "y = 'abc'"
   ]
  },
  {
   "cell_type": "markdown",
   "id": "3afa73be",
   "metadata": {},
   "source": [
    "Jednak dane wartości nie zawsze występują pojedyńczo. Mówimy wtedy o zbiorach, kolekcjach. \n",
    "\n",
    "W pythonie są 3 główne rodzaje zbiorów i pewna ilość rzadziej używanych: **listy**, podobne do nich **tuple** które stanowią jak nazwa wskazuje listę elementów, w szeregu jeden po drugim - i **słowniki** które mają strukturę par klucz - wartość. Tu omówimy listy i powiemy kilka słów o bardzo podobnych do nich tuplach i set'ach.\n",
    "\n",
    "Lista to zbiór wartości."
   ]
  },
  {
   "cell_type": "code",
   "execution_count": null,
   "id": "ad199cae",
   "metadata": {},
   "outputs": [],
   "source": [
    "x = [1, 2, 3]"
   ]
  },
  {
   "cell_type": "markdown",
   "id": "56c875b7",
   "metadata": {},
   "source": [
    "Lista ma zawsze formę kwadratowych nawiasów i wartości wewnątrz nich przedzielone są zawsze przecinkami. Tym różni się od tupli i set'u."
   ]
  },
  {
   "cell_type": "code",
   "execution_count": null,
   "id": "09da89cf",
   "metadata": {},
   "outputs": [],
   "source": [
    "lista = [1, 2, 3]\n",
    "tupla = (1, 2, 3)\n",
    "sety = {1, 2, 3}"
   ]
  },
  {
   "cell_type": "markdown",
   "id": "fa73612b",
   "metadata": {},
   "source": [
    "Jak widzisz sety, tuple i listy to bardzo podobne rodzaje kolekcji danych. O dwuch pierwszych powiemy więcej później. Po pierwsze dlatego, że większości sytuacji będziesz stosować listy. Po drugie, zasady które dotyczą list są bardzo podobne do tych które dotyczą setów i tupli. \n",
    "\n",
    "Pomówmy więc o listach, poznaj podstawy działania list:"
   ]
  },
  {
   "cell_type": "markdown",
   "id": "476a3a9c",
   "metadata": {},
   "source": [
    "#### 1. Tworzenie listy"
   ]
  },
  {
   "cell_type": "markdown",
   "id": "b0f0573e",
   "metadata": {},
   "source": [
    "#### Tworzenie listy (pustej)"
   ]
  },
  {
   "cell_type": "code",
   "execution_count": null,
   "id": "d6f2bd01",
   "metadata": {},
   "outputs": [],
   "source": [
    "lista = list() # Pusta lista.\n",
    "lista = [] # Też pusta lista."
   ]
  },
  {
   "cell_type": "markdown",
   "id": "3a466d4f",
   "metadata": {},
   "source": [
    "#### Tworzenie listy (pełnej)"
   ]
  },
  {
   "cell_type": "code",
   "execution_count": null,
   "id": "f6db9095",
   "metadata": {},
   "outputs": [],
   "source": [
    "lista = [1] # Lista z 1 elementem typu integer.\n",
    "lista = [1,2,3] # Lista z 3 elementami typu integer.\n",
    "lista = ['a', 1, True] # Lista z 3 elementami różnego typu."
   ]
  },
  {
   "cell_type": "markdown",
   "id": "0f22162e",
   "metadata": {},
   "source": [
    "#### Lista jest typu 'list'"
   ]
  },
  {
   "cell_type": "code",
   "execution_count": 307,
   "id": "8d4ec7aa",
   "metadata": {},
   "outputs": [
    {
     "name": "stdout",
     "output_type": "stream",
     "text": [
      "Lista jest typu: <class 'list'>\n"
     ]
    }
   ],
   "source": [
    "lista = [1, 2, 3]\n",
    "print('Lista jest typu:', type(lista) )"
   ]
  },
  {
   "cell_type": "markdown",
   "id": "f97e26c9",
   "metadata": {},
   "source": [
    "#### Inne podstawowe funkcje używane na liście:\n",
    "\n",
    "Każda lista ma swoją długość. Można ją poznać używając funkcji len(). Dodatkowo, z list zawierających liczby (integers) - ale już nie tekst - możemy funkcjami max() czy min() poznać ich najmniejszy lub największy element."
   ]
  },
  {
   "cell_type": "markdown",
   "id": "136b23d7",
   "metadata": {},
   "source": [
    "### 2. len(lista)\n",
    "\n",
    "#### Poznaj ilość elementów w liście\n",
    "\n",
    "Długość list, danych tekstowych (stringów, `str`) i słowników wylicza funkcja `len()`."
   ]
  },
  {
   "cell_type": "code",
   "execution_count": 33,
   "id": "e67124d7",
   "metadata": {},
   "outputs": [
    {
     "name": "stdout",
     "output_type": "stream",
     "text": [
      "Lista: [2, 3, 4, 5]\n",
      "Długość listy: 4\n"
     ]
    }
   ],
   "source": [
    "lista = [2,3,4,5]\n",
    "dlugosc_listy = len(lista)\n",
    "print('Lista:', lista)\n",
    "print('Długość listy:', dlugosc_listy)"
   ]
  },
  {
   "cell_type": "markdown",
   "id": "8a8bfa0d",
   "metadata": {},
   "source": [
    "### 3. min(lista)\n",
    "\n",
    "#### Poznaj najmniejszy element w liście"
   ]
  },
  {
   "cell_type": "code",
   "execution_count": 308,
   "id": "2b85bf14",
   "metadata": {},
   "outputs": [
    {
     "name": "stdout",
     "output_type": "stream",
     "text": [
      "Minimalny element listy: min(lista): 2\n"
     ]
    }
   ],
   "source": [
    "lista = [2,3,4,5]\n",
    "najmniejszy_element = min(lista)\n",
    "print('Minimalny element listy: min(lista):', najmniejszy_element)"
   ]
  },
  {
   "cell_type": "markdown",
   "id": "09e5140e",
   "metadata": {},
   "source": [
    "### 4. max(lista)\n",
    "\n",
    "#### Poznaj największy element w liście \n",
    "\n",
    "Działa na dane liczbowe ale także na tekst - zmień cyfry w `lista` na litery tak jak jest to pokazane po haszu a zobaczysz co się stanie."
   ]
  },
  {
   "cell_type": "code",
   "execution_count": 37,
   "id": "3c9bfc0b",
   "metadata": {},
   "outputs": [
    {
     "name": "stdout",
     "output_type": "stream",
     "text": [
      "Lista: [2, 3, 4, 5]\n",
      "Największy element: 5\n"
     ]
    }
   ],
   "source": [
    "lista = [2,3,4,5] # ['a','b','c','d']\n",
    "\n",
    "najwiekszy_element = max(lista)\n",
    "print('Lista:', lista)\n",
    "print('Największy element:', najwiekszy_element)"
   ]
  },
  {
   "cell_type": "markdown",
   "id": "9dface5a",
   "metadata": {},
   "source": [
    "### 5. Inne typy wylistowań: set() i tuple()\n",
    "\n",
    "### set()\n",
    "\n",
    "Sety to takie 'listy' które zawierają tylko unikalne elementy. \n",
    "\n",
    "Spróbuj dodać do seta jeszcze jedną trójkę i zobacz co się stanie."
   ]
  },
  {
   "cell_type": "code",
   "execution_count": 323,
   "id": "832311bc",
   "metadata": {},
   "outputs": [
    {
     "name": "stdout",
     "output_type": "stream",
     "text": [
      "{1, 2, 3} <class 'set'>\n"
     ]
    }
   ],
   "source": [
    "przykladowy_set = {1, 2, 3}\n",
    "print(przykladowy_set, type(przykladowy_set))"
   ]
  },
  {
   "cell_type": "markdown",
   "id": "f44b1518",
   "metadata": {},
   "source": [
    "Zanim powiemy więcej o set'ach poznaj najpierw metody działające na listach. Większość z nich działa tak samo na setach.\n",
    "\n",
    "### list(set(lista))\n",
    "\n",
    "#### Uzyskaj listę unikalnych elementów\n",
    "\n",
    "Aby uzyskać zbiór samych unikalnych elementów w liście zmień listę w set `set(lista)` (taka zamiana listy na set'a odrzuca ze zbioru wszystkie nieunikalne elementy) i spowrotem na listę `list(set(lista)` aby zachować oryginalny typ zbioru.\n",
    "\n",
    "Lista z powtarzającymi się elementami:"
   ]
  },
  {
   "cell_type": "code",
   "execution_count": 316,
   "id": "137b7cef",
   "metadata": {},
   "outputs": [
    {
     "name": "stdout",
     "output_type": "stream",
     "text": [
      "Lista: ['a', 'b', 'c', 'c', 'd', 'd', 'd'] <class 'list'>\n"
     ]
    }
   ],
   "source": [
    "lista = ['a', 'b', 'c', 'c', 'd', 'd', 'd']\n",
    "print('Lista:', lista, type(lista))"
   ]
  },
  {
   "cell_type": "markdown",
   "id": "00f6aecd",
   "metadata": {},
   "source": [
    "I zamień lisŧę w set.\n",
    "\n",
    "Zwróć uwagę, że set będzie składał się wyłącznie z unikalnych elementów listy."
   ]
  },
  {
   "cell_type": "code",
   "execution_count": 324,
   "id": "8ac7a4db",
   "metadata": {},
   "outputs": [
    {
     "name": "stdout",
     "output_type": "stream",
     "text": [
      "Set z listy: {'c', 'a', 'd', 'b'} <class 'set'>\n"
     ]
    }
   ],
   "source": [
    "set_z_listy = set(lista)\n",
    "print('Set z listy:', set_z_listy, type(set_z_listy))"
   ]
  },
  {
   "cell_type": "markdown",
   "id": "ae1675d0",
   "metadata": {},
   "source": [
    "Użyj na secie metody `list(set_z_listy)` i zmień go spowrotem w listę - w ten sposób powstaje lista unikalnych elementów."
   ]
  },
  {
   "cell_type": "code",
   "execution_count": 325,
   "id": "bac7dd6d",
   "metadata": {},
   "outputs": [
    {
     "name": "stdout",
     "output_type": "stream",
     "text": [
      "Lista unikalnych wartości: ['c', 'a', 'd', 'b'] <class 'list'>\n"
     ]
    }
   ],
   "source": [
    "lista_unikalnych_wartosci = list(set_z_listy)\n",
    "print('Lista unikalnych wartości:', lista_unikalnych_wartosci, type(lista_unikalnych_wartosci))"
   ]
  },
  {
   "cell_type": "markdown",
   "id": "774e5e38",
   "metadata": {},
   "source": [
    "#### Pisząc krócej:"
   ]
  },
  {
   "cell_type": "code",
   "execution_count": 326,
   "id": "b05c2a0d",
   "metadata": {},
   "outputs": [
    {
     "name": "stdout",
     "output_type": "stream",
     "text": [
      "['a', 'b', 'c', 'c', 'd', 'd', 'd']\n",
      "['c', 'a', 'd', 'b']\n"
     ]
    }
   ],
   "source": [
    "lista = ['a', 'b', 'c', 'c', 'd', 'd', 'd']\n",
    "lista_unikalnych_elementow = list(set(lista))\n",
    "\n",
    "print(lista)\n",
    "print(lista_unikalnych_elementow)"
   ]
  },
  {
   "cell_type": "markdown",
   "id": "c4ff852f",
   "metadata": {},
   "source": [
    "Najważniejszymi charakterystykami listy są więc:\n",
    "- jej długość\n",
    "- typ\n",
    "- jej elementy\n",
    "\n",
    "To już omówiliśmy. Ale aby naprawdę dobrze poznać listy, musisz sprawnie posługiwać się jeszcze\n",
    "- indeksami - każdy z elementów listy ma swój indeks, numer oddający miejsce w liście w którym znajduje się element.\n",
    "- znać wbudowane funkcje i metody (około 10-20) których używamy na listach. \n",
    "- kilka ogólnych problemów które rozwiązujemy listami\n",
    "\n",
    "I o będą tym poniższe podrozdziały."
   ]
  },
  {
   "cell_type": "markdown",
   "id": "0cc686fa",
   "metadata": {},
   "source": [
    "#### Zamiana listy na tuple i spowrotem\n",
    "\n",
    "Aby zamienić tuple albo set czy inne wylistowanie w listę użyj:"
   ]
  },
  {
   "cell_type": "code",
   "execution_count": 310,
   "id": "9855ef10",
   "metadata": {
    "scrolled": true
   },
   "outputs": [
    {
     "name": "stdout",
     "output_type": "stream",
     "text": [
      "Tupla: ('a', 'b', 'c') <class 'tuple'>\n"
     ]
    }
   ],
   "source": [
    "tupla = ('a', 'b', 'c')\n",
    "print('Tupla:', tupla, type(tupla))"
   ]
  },
  {
   "cell_type": "markdown",
   "id": "75afb5de",
   "metadata": {},
   "source": [
    "Zamiana tupli na listę"
   ]
  },
  {
   "cell_type": "code",
   "execution_count": 311,
   "id": "5678add7",
   "metadata": {},
   "outputs": [
    {
     "name": "stdout",
     "output_type": "stream",
     "text": [
      "Lista ['a', 'b', 'c'] <class 'list'>\n"
     ]
    }
   ],
   "source": [
    "lista = list(tupla)\n",
    "print('Lista', lista, type(lista))"
   ]
  },
  {
   "cell_type": "markdown",
   "id": "25afdc46",
   "metadata": {},
   "source": [
    "Zamiana listy na tuplę:"
   ]
  },
  {
   "cell_type": "code",
   "execution_count": 312,
   "id": "46622a1a",
   "metadata": {},
   "outputs": [
    {
     "name": "stdout",
     "output_type": "stream",
     "text": [
      "Tupla: ('a', 'b', 'c') <class 'tuple'>\n"
     ]
    }
   ],
   "source": [
    "tupla = tuple(lista)\n",
    "print('Tupla:', tupla, type(tupla))"
   ]
  },
  {
   "cell_type": "markdown",
   "id": "178ae4b7",
   "metadata": {},
   "source": [
    "## 2. Indeksy w listach:\n",
    "\n",
    "Indeks to numer elementu w liście.\n",
    "\n",
    "Indeks:\n",
    "- Indeks to liczba\n",
    "- Każdy element w liście ma swój indeks\n",
    "- Indeksy są zawsze ułożone szergowo, czyli w odstępie 'co jeden' (`0, 1, 2, 3 ...`), nigdy inaczej.\n",
    "- Indeksy zawsze zaczynają się od 1 wartości.\n",
    "- Indeks pierwszej wartości to zawsze 0.\n",
    "\n",
    "Czyli np. indeksy dla listy:"
   ]
  },
  {
   "cell_type": "markdown",
   "id": "dc7256b6",
   "metadata": {},
   "source": [
    "### 1. list[0]\n",
    "\n",
    "#### Wybierz element z listy po indeksie."
   ]
  },
  {
   "cell_type": "code",
   "execution_count": 382,
   "id": "b0c7c400",
   "metadata": {},
   "outputs": [],
   "source": [
    "lista = ['a', 'b', 'c', 'd', 'e', 'f', 'g']"
   ]
  },
  {
   "cell_type": "markdown",
   "id": "cb152b79",
   "metadata": {},
   "source": [
    "Indeksy to 0, 1, 2 które odpowiadają kolejno \n",
    "- 'a' (indeks 0), \n",
    "- 'b' (indeks 1),\n",
    "- 'c' (indeks 2),\n",
    "- i tak dalej.\n",
    "\n",
    "\n",
    "Sprawdź sam:\n",
    "\n",
    "Zmieniaj wartość indeksu (oznaczanego najczęściej jako zmienna `i`) - od 0 do 6 (ostatniego elementu listy) i patrz jak zmienia się wybrany element."
   ]
  },
  {
   "cell_type": "code",
   "execution_count": 386,
   "id": "32f4dda4",
   "metadata": {},
   "outputs": [
    {
     "name": "stdout",
     "output_type": "stream",
     "text": [
      "d\n"
     ]
    }
   ],
   "source": [
    "indeks = 3\n",
    "element = lista[indeks]\n",
    "print(element)"
   ]
  },
  {
   "cell_type": "markdown",
   "id": "ca235a9f",
   "metadata": {},
   "source": [
    "#### Maksymalny indeks?\n",
    "\n",
    "Zobacz co będzie jak wpiszesz liczbę większą od indeksu listy (7, 8 lub 9). "
   ]
  },
  {
   "cell_type": "code",
   "execution_count": null,
   "id": "625f2544",
   "metadata": {},
   "outputs": [],
   "source": [
    "indeks = 9\n",
    "element = lista[indeks]\n",
    "print(element)"
   ]
  },
  {
   "cell_type": "markdown",
   "id": "2632d102",
   "metadata": {},
   "source": [
    "Jaki jest minimalny i maksymanlny możliwy indeks na tej liście?\n",
    "\n",
    "Dodaj elementy do listy tak aby było ich 10. Jaki najwyższy indeks możesz teraz użyć nie wywołując błędu?"
   ]
  },
  {
   "cell_type": "code",
   "execution_count": null,
   "id": "31f24da3",
   "metadata": {},
   "outputs": [],
   "source": [
    "lista = ['a', 'b', 'c', 'd', 'e', 'f', 'g'] #, 'h', 'i', 'j', 'k', 'l']\n",
    "i = 10 # indeks - i\n",
    "element = lista[i]\n",
    "print(element)"
   ]
  },
  {
   "cell_type": "markdown",
   "id": "8592ef68",
   "metadata": {},
   "source": [
    "Prościej:\n",
    "\n",
    "Pozmieniaj sam indeks w liście, już nie jako osobną zmienną. \n",
    "\n",
    "Zazwyczaj tak się to robi - bezpośrednio ustawiając indeks w kwadratowych nawiasach listy."
   ]
  },
  {
   "cell_type": "code",
   "execution_count": 387,
   "id": "87e1d93f",
   "metadata": {},
   "outputs": [
    {
     "name": "stdout",
     "output_type": "stream",
     "text": [
      "e\n"
     ]
    }
   ],
   "source": [
    "print(lista[4])"
   ]
  },
  {
   "cell_type": "markdown",
   "id": "ea306ac7",
   "metadata": {},
   "source": [
    "### list[1] / string[1]\n",
    "\n",
    "#### Indeksy to podstawowa właściwość list ale i ciągów znaków (stringów).\n",
    "\n",
    "Zobacz sam, działa to identycznie w sytacji stringa i listy. Pobaw się poniższą wartością indeksu:"
   ]
  },
  {
   "cell_type": "code",
   "execution_count": 25,
   "id": "758141f7",
   "metadata": {},
   "outputs": [],
   "source": [
    "string = 'ala ma kota'\n",
    "lista_1 = ['a', 'l', 'a', ' ', 'm', 'a', ' ', 'k', 'o', 't', 'a']\n",
    "lista_2 = ['ala', ' ', 'ma', ' ', 'kota']"
   ]
  },
  {
   "cell_type": "code",
   "execution_count": 26,
   "id": "784d119b",
   "metadata": {},
   "outputs": [
    {
     "name": "stdout",
     "output_type": "stream",
     "text": [
      "m\n",
      "m\n"
     ]
    }
   ],
   "source": [
    "indeks = 4\n",
    "print(string[indeks])\n",
    "print(lista_1[indeks])"
   ]
  },
  {
   "cell_type": "markdown",
   "id": "0178bf4f",
   "metadata": {},
   "source": [
    "Jednak w liście 2 elementy ułożone są nieco inaczej. To już nie 1 element - 1 litera jak w stringu i liście pierwszej, ale całe wyrazy albo spacje. Jak wiesz, w liście mogą znaleźć się dowolne wartości, stringi, liczby czy nawet inne listy. Tu mamy przykład ze stringami ale nie jako litery - jak w wyżej przedstawionym stringu i liście jeden ale z całymi wyrazami. Pobaw się indeksem z lista_1, string - ale i lista_2 - i zobacz jaka jest różnica. Nie przestawaj testować aż będziesz w stanie opisać różnicę między pracą z indeksami na stringu, lista_1 a lista_2:"
   ]
  },
  {
   "cell_type": "code",
   "execution_count": 27,
   "id": "3dfae458",
   "metadata": {},
   "outputs": [
    {
     "name": "stdout",
     "output_type": "stream",
     "text": [
      "kota\n"
     ]
    }
   ],
   "source": [
    "indeks = 4\n",
    "print(lista_2[indeks])"
   ]
  },
  {
   "cell_type": "markdown",
   "id": "7607af21",
   "metadata": {},
   "source": [
    "Więc jeszcze raz - możemy wyciągnąć pojedyńczy element listy używając indeksu.\n",
    "\n",
    "Pobaw sie indeksem. Wstaw tam 1, 4, 10 i patrz jak zmienia się wartość wybranego elementu listy. To co robisz, to mówisz programowi który z elementów listy Cię interesuje. Jeżeli wybierasz 4ty to wyświetlany jest 4 element. I tak dalej. Zobacz samemu:"
   ]
  },
  {
   "cell_type": "code",
   "execution_count": null,
   "id": "c3d9b172",
   "metadata": {},
   "outputs": [],
   "source": [
    "lista = ['a','b','c','d','e','f','g','h','i','j']\n",
    "\n",
    "indeks = 3\n",
    "element_listy = lista[indeks]\n",
    "print('Wybrany element z listy:', element_listy)"
   ]
  },
  {
   "cell_type": "markdown",
   "id": "90451997",
   "metadata": {},
   "source": [
    "#### To samo, praktyczniej:\n",
    "\n",
    "Zwykle indeks wstawiamy jednak nie jako zmienną a po prostu jako liczbę w kwadratowych nawiasach po prawej stronie listy."
   ]
  },
  {
   "cell_type": "code",
   "execution_count": null,
   "id": "155ef135",
   "metadata": {},
   "outputs": [],
   "source": [
    "lista = ['a','b','c','d','e','f','g','h','i','j']\n",
    "\n",
    "element_listy = lista[3]\n",
    "print('Wybrany element z listy:', element_listy)"
   ]
  },
  {
   "cell_type": "markdown",
   "id": "89ef780c",
   "metadata": {},
   "source": [
    "### 2. lista[0] / lista[-1]\n",
    "\n",
    "#### Możemy wyciągnąć pierwszy lub ostatni element.\n",
    "\n"
   ]
  },
  {
   "cell_type": "code",
   "execution_count": null,
   "id": "c03d112b",
   "metadata": {},
   "outputs": [],
   "source": [
    "lista = ['a','b','c','d','e','f','g','h','i','j']\n",
    "\n",
    "pierwszy_element = lista[0]\n",
    "ostatni_element = lista[-1]\n",
    "\n",
    "print('Pierwszy element listy:', pierwszy_element)\n",
    "print('Ostatni element listy:', ostatni_element)"
   ]
  },
  {
   "cell_type": "markdown",
   "id": "a74c568a",
   "metadata": {},
   "source": [
    "### 3. lista[2:4]\n",
    "\n",
    "#### Wyjmij fragment z listy\n",
    "\n",
    "Aby wybrać fragment listy \"od\" - \"do\", w kwadratowych nawiasach podaj, korzystając z indeksów, zakres w formie np. `list[2:4]` aby wyciągnąc z listy fragment o indeksach `3 i 4` czyli `'c' i 'd'`. \n",
    "\n",
    "Wstaw jako indeksy zakresu różne liczby i zobacz jakie przynosi to rezultaty."
   ]
  },
  {
   "cell_type": "code",
   "execution_count": 354,
   "id": "090b9e7a",
   "metadata": {},
   "outputs": [
    {
     "data": {
      "text/plain": [
       "['c', 'd']"
      ]
     },
     "execution_count": 354,
     "metadata": {},
     "output_type": "execute_result"
    }
   ],
   "source": [
    "lista = ['a','b','c','d','e','f','g','h','i','j']\n",
    "\n",
    "indeks_od = 2\n",
    "indeks_do = 4\n",
    "\n",
    "lista[indeks_od:indeks_do]"
   ]
  },
  {
   "cell_type": "markdown",
   "id": "90756b4d",
   "metadata": {},
   "source": [
    "Sprawdź powyższy kod dla indeksów: (2 i 5), (2 i 6), (3 i 6), (0 i 2), (0 i 11), (0 i 10).\n",
    "\n",
    "Umiesz odpowiedzieć jakie litery da `lista[1:4]` ?"
   ]
  },
  {
   "cell_type": "markdown",
   "id": "4d235080",
   "metadata": {},
   "source": [
    "#### To samo, praktyczniej:\n",
    "\n",
    "Zwykle indeks wstawiamy jednak nie jako zmienną a po prostu jako liczbę w kwadratowych nawiasach po prawej stronie listy. Pozmieniaj indeksy w zakresie w 3 linii poniżej."
   ]
  },
  {
   "cell_type": "code",
   "execution_count": null,
   "id": "bae1809f",
   "metadata": {},
   "outputs": [],
   "source": [
    "lista = ['a','b','c','d','e','f','g','h','i','j']\n",
    "\n",
    "zakres = lista[2:4]\n",
    "print('Elementy listy w zakresie:', zakres)"
   ]
  },
  {
   "cell_type": "markdown",
   "id": "09b86b42",
   "metadata": {},
   "source": [
    "### X. odwrocona_lista = list[::-1] / lista.reverse()\n",
    "\n",
    "Listę można obrócić stosując trzecią wartość indeksu `lista[::-1]`. \n",
    "\n",
    "To proste, zobacz sam:"
   ]
  },
  {
   "cell_type": "code",
   "execution_count": 397,
   "id": "2b37cc72",
   "metadata": {},
   "outputs": [
    {
     "name": "stdout",
     "output_type": "stream",
     "text": [
      "Lista przed odwróceniem: ['a', 'b', 'c', 'd', 'e', 'f', 'g', 'h', 'i', 'j']\n",
      "\n",
      "Po odwróceniu:\n",
      "Stara lista:             ['a', 'b', 'c', 'd', 'e', 'f', 'g', 'h', 'i', 'j']\n",
      "Nowa odwrócona lista:    ['j', 'i', 'h', 'g', 'f', 'e', 'd', 'c', 'b', 'a']\n"
     ]
    }
   ],
   "source": [
    "lista = ['a','b','c','d','e','f','g','h','i','j']\n",
    "print('Lista przed odwróceniem:', lista)\n",
    "\n",
    "lista2 = lista[::-1]\n",
    "print('\\nPo odwróceniu:')\n",
    "print('Stara lista:            ', lista)\n",
    "print('Nowa odwrócona lista:   ', lista2)"
   ]
  },
  {
   "cell_type": "markdown",
   "id": "f4482994",
   "metadata": {},
   "source": [
    "Powyższa metoda tworzy nowy obiekt. Jednak czasem, chcesz obrócić obecny obiekt nie tworząc nowej zmiennej. Użyj wtedy:"
   ]
  },
  {
   "cell_type": "code",
   "execution_count": 400,
   "id": "84b1c6c7",
   "metadata": {},
   "outputs": [
    {
     "name": "stdout",
     "output_type": "stream",
     "text": [
      "Lista przed odwróceniem: ['a', 'b', 'c', 'd', 'e', 'f', 'g', 'h', 'i', 'j']\n",
      "Odwrócona lista:         ['j', 'i', 'h', 'g', 'f', 'e', 'd', 'c', 'b', 'a']\n"
     ]
    }
   ],
   "source": [
    "lista = ['a','b','c','d','e','f','g','h','i','j']\n",
    "print('Lista przed odwróceniem:', lista)\n",
    "\n",
    "lista.reverse()\n",
    "print('Odwrócona lista:        ', lista)"
   ]
  },
  {
   "cell_type": "markdown",
   "id": "10b0eea5",
   "metadata": {},
   "source": [
    "Umiesz opisać różnicę między metodą `lista[::-1]` a `lista.reverse()`."
   ]
  },
  {
   "cell_type": "markdown",
   "id": "7dea7b92",
   "metadata": {},
   "source": [
    "### X. lista[1] = 'xD'\n",
    "\n",
    "#### Zmień element w liście dzięki indeksowi.\n",
    "\n",
    "Spraw aby określony element w liście zmienił wartość. Pobaw się poniższym kodem. Pozmieniaj zarówno indeks w liście (liczba w kwadratowych nawiasach :) jak i wartość którą przypisujesz mu po lewej stronie.\n",
    "\n",
    "- lista[1] - dotyka elementu o indeksie 1 w liście list.\n",
    "\n",
    "Zmień indeks w 4 linii na jeden mniejsz lub większy (0 lub 2) i zobacz co się stanie."
   ]
  },
  {
   "cell_type": "code",
   "execution_count": 358,
   "id": "a2e08d48",
   "metadata": {},
   "outputs": [
    {
     "name": "stdout",
     "output_type": "stream",
     "text": [
      "Lista przed zmianą wartości jednego z elementów [1, 2, 3]\n",
      "Lista po zmianie wartości jednego z elementów   [1, 'xD', 3]\n"
     ]
    }
   ],
   "source": [
    "lista = [1, 2, 3]\n",
    "print('Lista przed zmianą wartości jednego z elementów', lista)\n",
    "\n",
    "lista[1] = 'xD'\n",
    "print('Lista po zmianie wartości jednego z elementów  ', lista)"
   ]
  },
  {
   "cell_type": "markdown",
   "id": "0c0d7008",
   "metadata": {},
   "source": [
    "### X. del lista[0]\n",
    "\n",
    "#### Usuń element z listy dzięki indeksowi.\n",
    "\n",
    "- lista[0] - dotyka elementu o indeksie 0 w liście list.\n",
    "\n",
    "Zmień indeks w 4 linii na większy (1 lub 2) i zobacz co się stanie."
   ]
  },
  {
   "cell_type": "code",
   "execution_count": 363,
   "id": "a2e7969a",
   "metadata": {},
   "outputs": [
    {
     "name": "stdout",
     "output_type": "stream",
     "text": [
      "Lista przed usunięciem elementu: [1, 2, 3]\n",
      "Lista po usunięciu elementu:     [2, 3]\n"
     ]
    }
   ],
   "source": [
    "lista = [1, 2, 3]\n",
    "print('Lista przed usunięciem elementu:', lista)\n",
    "\n",
    "del lista[0]\n",
    "print('Lista po usunięciu elementu:    ', lista)"
   ]
  },
  {
   "cell_type": "markdown",
   "id": "51c167bf",
   "metadata": {},
   "source": [
    "### X. i = list.index()\n",
    "\n",
    "#### Jaki poznać indeks elementu w liście?\n",
    "\n",
    "Sprawdź i pomodyfikuj poniższy kod. Jako szukany element podaj 'a', podaj 'c', podaj 'z'."
   ]
  },
  {
   "cell_type": "code",
   "execution_count": 364,
   "id": "28f3909b",
   "metadata": {},
   "outputs": [
    {
     "name": "stdout",
     "output_type": "stream",
     "text": [
      "Szukany element jest na indexie: 0\n"
     ]
    }
   ],
   "source": [
    "lista = ['a', 'b', 'c', 'b', 'z', 'b']\n",
    "\n",
    "szukany_element = 'a'\n",
    "i = lista.index( szukany_element)\n",
    "print('Szukany element jest na indexie:',i)"
   ]
  },
  {
   "cell_type": "markdown",
   "id": "1cea642b",
   "metadata": {},
   "source": [
    "\n",
    "Uwaga. Jeżeli podany element np `'b'` występuje w liście 2, 3 krotnie lub częsciej to, `list.index('b')` zwróci \n",
    "indeks jedynie dla pierwszego wystąpienia tego elementu w liście."
   ]
  },
  {
   "cell_type": "markdown",
   "id": "39de035a",
   "metadata": {},
   "source": [
    "### X. element = list.pop()\n",
    "\n",
    "#### Wyciągnij element z określonego indeksu.\n",
    "\n",
    "Pozmieniaj wartość zmiennej `indeks = 2` (kilka razy) i zobacz jaki będzie efekt."
   ]
  },
  {
   "cell_type": "code",
   "execution_count": 379,
   "id": "f3fce2ad",
   "metadata": {},
   "outputs": [
    {
     "name": "stdout",
     "output_type": "stream",
     "text": [
      "Lista:                      [1, 2, 3, 4, 5]\n",
      "Lista po wybraniu elementu: [1, 2, 3, 4]\n",
      "Wyciągnięty element:        5\n"
     ]
    }
   ],
   "source": [
    "lista = [1,2,3,4,5]\n",
    "indeks = 4\n",
    "\n",
    "print('Lista:                     ', lista)\n",
    "\n",
    "element = lista.pop( indeks)\n",
    "\n",
    "print('Lista po wybraniu elementu:', lista)\n",
    "print('Wyciągnięty element:       ', element)"
   ]
  },
  {
   "cell_type": "markdown",
   "id": "cc6ffa5a",
   "metadata": {},
   "source": [
    "#### PS: czasem używa się indeks z dodatkowym parametrem w środku kwadratowych nawiasów `lista[i+1]`.\n",
    "\n",
    "Z uwagi na nieintuicyjny index, czasem używa się korektora:\n",
    "\n",
    "Dzięki czemu index 1 faktycznie wskazuje na 1 wartość w liście.\n",
    "\n",
    "Usuń korektor (zostaw poniżej sam [index] zamiast [index+1]) aby zobaczyć o co chodzi:"
   ]
  },
  {
   "cell_type": "code",
   "execution_count": 403,
   "id": "b79a5c7e",
   "metadata": {},
   "outputs": [
    {
     "name": "stdout",
     "output_type": "stream",
     "text": [
      "3\n"
     ]
    }
   ],
   "source": [
    "index = 1\n",
    "lista = [1, 2, 3]\n",
    "print(lista[index+1])"
   ]
  },
  {
   "cell_type": "markdown",
   "id": "d39bb664",
   "metadata": {},
   "source": [
    "## 3. Najważniejsze metody list.\n",
    "\n",
    "Lista posiada kilka wbudowanych metod. Z tych korzysta się najcześciej."
   ]
  },
  {
   "cell_type": "markdown",
   "id": "b97a0e5d",
   "metadata": {},
   "source": [
    "### 1. list.append()\n",
    "\n",
    "### Dodaj do listy nowy element\n",
    "\n",
    "Odpowiada za dołączanie nowych elementów (zawsze do końca) listy."
   ]
  },
  {
   "cell_type": "code",
   "execution_count": 141,
   "id": "31c6b4f0",
   "metadata": {},
   "outputs": [
    {
     "name": "stdout",
     "output_type": "stream",
     "text": [
      "Lista: ['a', 'b']\n",
      "Lista: ['a', 'b', 'xD']\n"
     ]
    }
   ],
   "source": [
    "lista = ['a','b']\n",
    "print('Lista:', lista)\n",
    "\n",
    "nowy_element = 'xD'\n",
    "lista.append( nowy_element)\n",
    "print('Lista:', lista)"
   ]
  },
  {
   "cell_type": "markdown",
   "id": "79e183be",
   "metadata": {},
   "source": [
    "Inny przykład:"
   ]
  },
  {
   "cell_type": "code",
   "execution_count": 144,
   "id": "2db5c47a",
   "metadata": {},
   "outputs": [
    {
     "name": "stdout",
     "output_type": "stream",
     "text": [
      "Lista: [1, 2, 3, 4]\n",
      "Lista: [1, 2, 3, 4, 10]\n"
     ]
    }
   ],
   "source": [
    "lista = [1, 2, 3, 4]\n",
    "print('Lista:', lista)\n",
    "\n",
    "nowy_element = 10\n",
    "lista.append( nowy_element)\n",
    "print('Lista:', lista)"
   ]
  },
  {
   "cell_type": "markdown",
   "id": "ae92c41d",
   "metadata": {},
   "source": [
    "Najczęściej `append()` wykonuje się wewnątrz pętli `for` (będziemy je omawiać w części #009, narazie rzuć jedynie okiem i zastanów się na czym polega ta konstrukcja) czyli podczas `iteracji` w formach podobnych do:"
   ]
  },
  {
   "cell_type": "code",
   "execution_count": 14,
   "id": "4579aa8f",
   "metadata": {},
   "outputs": [],
   "source": [
    "lista_druga = []\n",
    "for i in lista:\n",
    "    lista_druga.append(i)"
   ]
  },
  {
   "cell_type": "markdown",
   "id": "ed783e2f",
   "metadata": {},
   "source": [
    "Efekt:"
   ]
  },
  {
   "cell_type": "code",
   "execution_count": 15,
   "id": "958ef983",
   "metadata": {
    "scrolled": true
   },
   "outputs": [
    {
     "name": "stdout",
     "output_type": "stream",
     "text": [
      "[1, 2, 3, 4, 5]\n"
     ]
    }
   ],
   "source": [
    "print(lista_druga)"
   ]
  },
  {
   "cell_type": "markdown",
   "id": "2767a6b3",
   "metadata": {},
   "source": [
    "PS: można zrobić to w kilka innych sposobów. Ale o tym potem. O pętlach, iteracjach i for'ach przeczytasz w części #009."
   ]
  },
  {
   "cell_type": "markdown",
   "id": "3c57dc54",
   "metadata": {},
   "source": [
    "### 2. list.extend()\n",
    "\n",
    "#### Dodaj do siebie (zawartości) wielu list\n",
    "\n",
    "Dodasz obie listy znakiem `+` plus."
   ]
  },
  {
   "cell_type": "code",
   "execution_count": 133,
   "id": "2a8846da",
   "metadata": {},
   "outputs": [
    {
     "name": "stdout",
     "output_type": "stream",
     "text": [
      "[1, 2, 3, 4]\n"
     ]
    }
   ],
   "source": [
    "lista_a = [1,2]\n",
    "lista_b = [3,4]\n",
    "\n",
    "efekt = lista_a + lista_b\n",
    "print(efekt)"
   ]
  },
  {
   "cell_type": "markdown",
   "id": "2a31149f",
   "metadata": {},
   "source": [
    "#### Jak inaczej dodać do siebie zawartość 2 list? - list.extend()"
   ]
  },
  {
   "cell_type": "code",
   "execution_count": 173,
   "id": "2891f71c",
   "metadata": {
    "scrolled": true
   },
   "outputs": [
    {
     "name": "stdout",
     "output_type": "stream",
     "text": [
      "[1, 2]\n",
      "[1, 2, 5, 6]\n"
     ]
    }
   ],
   "source": [
    "lista_a = [1, 2]\n",
    "print(lista_a)\n",
    "\n",
    "lista_b = [5, 6]\n",
    "lista_a.extend(lista_b)\n",
    "print(lista_a)"
   ]
  },
  {
   "cell_type": "markdown",
   "id": "a1fb6b18",
   "metadata": {},
   "source": [
    "### 3. list.count() \n",
    "\n",
    "#### Policz okreslone elementy w liście\n",
    "\n",
    "Do `.count()`'a jako arument przekaż dowolny element obecny (lub nie) w liście. Policzysz ile razy wysŧępuje w niej podany element.\n",
    "\n",
    "Np. używając `lista.count(\"b\")` zobaczymy, że \"`b`\" w liście `lista = ['a', 'b', 'b', 'b', 'b', 'c']` występuje 4 razy. Sprawdź ile będzie w liście innych elementów podając dla poszukiwanego argumentu `element = 'c'` inną wartość, np. \"`a`\".\n",
    "\n",
    "Ile wyszło?"
   ]
  },
  {
   "cell_type": "code",
   "execution_count": 166,
   "id": "4bb2d318",
   "metadata": {},
   "outputs": [
    {
     "name": "stdout",
     "output_type": "stream",
     "text": [
      "Liczba podanych elementów w liście: 4\n"
     ]
    }
   ],
   "source": [
    "lista = ['a', 'b', 'b', 'b', 'b', 'c']\n",
    "\n",
    "element = 'b'\n",
    "ile_elementow = lista.count(element)\n",
    "print('Liczba podanych elementów w liście:', ile_elementow)"
   ]
  },
  {
   "cell_type": "markdown",
   "id": "acd51853",
   "metadata": {},
   "source": [
    "Można postawić to pytanie jeszcze inaczej, np.\n",
    "\n",
    "Jak policzyć ile masz 50 groszowych monet w portfelu?"
   ]
  },
  {
   "cell_type": "code",
   "execution_count": 164,
   "id": "04fd7244",
   "metadata": {
    "scrolled": true
   },
   "outputs": [
    {
     "name": "stdout",
     "output_type": "stream",
     "text": [
      "Liczba podanych elementów w liście: 2\n"
     ]
    }
   ],
   "source": [
    "portfel = ['10gr', '50gr', '5zł', '1zł', '10gr', '50gr']\n",
    "\n",
    "moneta = '50gr'\n",
    "ile_monet = portfel.count(moneta)\n",
    "print('Liczba podanych elementów w liście:', ile_monet)"
   ]
  },
  {
   "cell_type": "markdown",
   "id": "7377fd47",
   "metadata": {},
   "source": [
    "Można też szybciej, po prostu zmieniając wartość zmiennej `lista`:"
   ]
  },
  {
   "cell_type": "code",
   "execution_count": 157,
   "id": "882378d3",
   "metadata": {
    "scrolled": true
   },
   "outputs": [
    {
     "name": "stdout",
     "output_type": "stream",
     "text": [
      "Lista przed zmianą wartości: [1, 2, 3]\n",
      "Lista po zmianie wartości:   []\n"
     ]
    }
   ],
   "source": [
    "lista = [1,2,3]\n",
    "print('Lista przed zmianą wartości:', lista)\n",
    "\n",
    "lista = []\n",
    "print('Lista po zmianie wartości:  ', lista)"
   ]
  },
  {
   "cell_type": "markdown",
   "id": "0b86386c",
   "metadata": {},
   "source": [
    "### 4. list.clear()\n",
    "\n",
    "#### Jak opróżnić listę? \n",
    "\n",
    "Jak zrobić aby lista była pusta, uczynić ją pustym zbiorem, czyli takim w którym nic nie ma, ale istnieje jako obiekt? Usuń wszystkie elementy z listy metodą `list.clear()` albo po prostu przypisz do zmiennej z wartością listy wartość pustej listy `list = []`. Rzuć okiem:"
   ]
  },
  {
   "cell_type": "code",
   "execution_count": 155,
   "id": "41b60ed7",
   "metadata": {
    "scrolled": true
   },
   "outputs": [
    {
     "name": "stdout",
     "output_type": "stream",
     "text": [
      "Lista przed lista.clear() [1, 2, 3]\n",
      "Lista po lista.clear()    []\n"
     ]
    }
   ],
   "source": [
    "lista = [1,2,3]\n",
    "print('Lista przed lista.clear()', lista)\n",
    "\n",
    "lista.clear()\n",
    "print('Lista po lista.clear()   ', lista)"
   ]
  },
  {
   "cell_type": "markdown",
   "id": "9e3d6c46",
   "metadata": {},
   "source": [
    "### 5. lista * 3\n",
    "\n",
    "#### Przemnóż elementy w liscie\n",
    "\n",
    "Efektem działania mnożenia na liście jest \"powtórzenie\" zawartości możonej listy `'a', 'b'` - ale wewnątrz jednego obiektu listy. Spróbuj zmienić liczbę mnożnika na `3`, `4` i `5`."
   ]
  },
  {
   "cell_type": "code",
   "execution_count": 176,
   "id": "4e12f4ab",
   "metadata": {},
   "outputs": [
    {
     "name": "stdout",
     "output_type": "stream",
     "text": [
      "['a', 'b']\n",
      "['a', 'b', 'a', 'b']\n"
     ]
    }
   ],
   "source": [
    "lista = ['a', 'b']\n",
    "print(lista)\n",
    "\n",
    "lista = lista * 2 # 3, 4, 5\n",
    "print(lista)"
   ]
  },
  {
   "cell_type": "markdown",
   "id": "1a54828e",
   "metadata": {},
   "source": [
    "### 6. `if x in lista`\n",
    "\n",
    "#### Czy kotek jest wśród elementów listy?\n",
    "\n",
    "\n",
    "\n",
    "Jak sprawdzić czy określony element (np. liczba 2) znajduje się w liście? \n",
    "Pozmieniaj listę z kotkiem i bez kotka (wartość zmiennej `lista` w 5 linii. "
   ]
  },
  {
   "cell_type": "code",
   "execution_count": 68,
   "id": "aa913d46",
   "metadata": {},
   "outputs": [
    {
     "name": "stdout",
     "output_type": "stream",
     "text": [
      "kotek\n"
     ]
    }
   ],
   "source": [
    "lista_z_kotkiem = [1, 2, 'kotek', 3, 4, 5]\n",
    "lista_bez_kotka = [1, 2, 3, 4, 5]\n",
    "\n",
    "lista = lista_z_kotkiem\n",
    "szukany_element_w_liscie = 'kotek'\n",
    "if szukany_element_w_liscie in lista:\n",
    "    print('kotek')"
   ]
  },
  {
   "cell_type": "markdown",
   "id": "2c73d46a",
   "metadata": {},
   "source": [
    "### 7. ''.join(list)\n",
    "\n",
    "#### Zamień (elementy) listy w jeden tekst (string, ciąg znaków)\n",
    "\n",
    "Aby listę `list` składającą się z np. 3 elementów `['ab', 'cd', 'ef']` połączyć w jeden napis `abcdef` - użyj `''.join(lista)`. Taki kod wygląda następująco:"
   ]
  },
  {
   "cell_type": "code",
   "execution_count": 158,
   "id": "9c765d44",
   "metadata": {},
   "outputs": [
    {
     "name": "stdout",
     "output_type": "stream",
     "text": [
      "abc\n"
     ]
    }
   ],
   "source": [
    "lista = ['a', 'b', 'c']\n",
    "\n",
    "tekst = ''.join(lista) # wstawi nic pomiędzy każdy element listy.\n",
    "print(tekst)"
   ]
  },
  {
   "cell_type": "markdown",
   "id": "accf03c2",
   "metadata": {},
   "source": [
    "Jednak jeżeli dysponujesz np. listą słów, np. `['Ala', 'ma', 'kota']`, to prawdopodobnie nie będzie interesował Cię poniższy rezultat:"
   ]
  },
  {
   "cell_type": "code",
   "execution_count": 159,
   "id": "4f04fc8e",
   "metadata": {},
   "outputs": [
    {
     "name": "stdout",
     "output_type": "stream",
     "text": [
      "Alamakota\n"
     ]
    }
   ],
   "source": [
    "lista = ['Ala', 'ma', 'kota']\n",
    "\n",
    "tekst = ''.join(lista)\n",
    "print(tekst)"
   ]
  },
  {
   "cell_type": "markdown",
   "id": "80286f12",
   "metadata": {},
   "source": [
    "Pewnie wolisz oddzielić te wyrazy od siebie spacją - wtedy napis ma sens jako zdanie. Możesz zrobić to używając spacji (lub dowolnego innego znaku) pomiędzy cudzysłowiami `join`'a. "
   ]
  },
  {
   "cell_type": "code",
   "execution_count": 160,
   "id": "9d34e7dc",
   "metadata": {},
   "outputs": [
    {
     "name": "stdout",
     "output_type": "stream",
     "text": [
      "Ala ma kota\n"
     ]
    }
   ],
   "source": [
    "lista = ['Ala', 'ma', 'kota']\n",
    "\n",
    "tekst = ' '.join(lista)\n",
    "print(tekst)"
   ]
  },
  {
   "cell_type": "markdown",
   "id": "3f09a0d4",
   "metadata": {},
   "source": [
    "Widzisz różnicę? Tak na prawdę pomiędzy apostrofy join'a możesz wstawić cokolwiek."
   ]
  },
  {
   "cell_type": "code",
   "execution_count": 153,
   "id": "74bded34",
   "metadata": {},
   "outputs": [
    {
     "name": "stdout",
     "output_type": "stream",
     "text": [
      "Ala-xD-ma-xD-kota\n"
     ]
    }
   ],
   "source": [
    "lista = ['Ala', 'ma', 'kota']\n",
    "\n",
    "tekst = '-xD-'.join(lista) # wstawi -xD- pomiędzy każdy element listy.\n",
    "print(tekst)"
   ]
  },
  {
   "cell_type": "markdown",
   "id": "25e7169e",
   "metadata": {},
   "source": [
    "Wyżej opisany `''.join()` to jedna z częściej używanych metod `list`. Jest bardzo często używany wraz z metodą `split()` która odwrotnie, dzieli ciąg znaków na listę elementów tekstowych - ale o tym w kolejnej częsci :) teraz opanuj dobrze `join`'a i metody list. Do ciągów znaków przejdziemy już niebawem (a ze wszystkich typów danych, dane tekstowe są najbardziej podobne do list, także znajdziesz tam wiele analogii do tego co robimy dzisiaj)."
   ]
  },
  {
   "cell_type": "markdown",
   "id": "6b4f76e1",
   "metadata": {},
   "source": [
    "### 8. list.sort()  / sorted(lista)\n",
    "\n",
    "#### Ułóż elementy w liscie w kolejności\n",
    "- rosnącej (np. 0-9 lub A-Z)\n",
    "- albo malejącej (np. 9-0 lub Z-A)\n",
    "\n",
    "Metoda sort nie tworzy nowego obiektu listy, ale układa elementy w istniejącej liście w kolejności rosnącej:\n",
    "\n",
    "Lista liczb (sortuj rosnąco: 0-9):"
   ]
  },
  {
   "cell_type": "code",
   "execution_count": 415,
   "id": "3fc66049",
   "metadata": {},
   "outputs": [
    {
     "name": "stdout",
     "output_type": "stream",
     "text": [
      "[4, 3, 1]\n",
      "[1, 3, 4]\n"
     ]
    }
   ],
   "source": [
    "lista_int = [4, 3, 1]\n",
    "print(lista_int)\n",
    "\n",
    "lista_int.sort()\n",
    "print(lista_int)"
   ]
  },
  {
   "cell_type": "markdown",
   "id": "3eb87700",
   "metadata": {},
   "source": [
    "Lista z danymi tekstowymi (sortuj rosnąco:  A-Z):"
   ]
  },
  {
   "cell_type": "code",
   "execution_count": 425,
   "id": "93ee29a1",
   "metadata": {},
   "outputs": [
    {
     "name": "stdout",
     "output_type": "stream",
     "text": [
      "['z', 'd', 'a']\n",
      "['a', 'd', 'z']\n"
     ]
    }
   ],
   "source": [
    "lista_str = ['z', 'd', 'a']\n",
    "print(lista_str)\n",
    "\n",
    "lista_str.sort()\n",
    "print(lista_str)"
   ]
  },
  {
   "cell_type": "markdown",
   "id": "500062f2",
   "metadata": {},
   "source": [
    "Lista z danymi tekstowymi (sortuj malejąco: 9-0):"
   ]
  },
  {
   "cell_type": "code",
   "execution_count": 427,
   "id": "d785efbc",
   "metadata": {},
   "outputs": [
    {
     "name": "stdout",
     "output_type": "stream",
     "text": [
      "[1, 4, 8]\n",
      "[8, 4, 1]\n"
     ]
    }
   ],
   "source": [
    "lista_int = [1, 4, 8]\n",
    "print(lista_int)\n",
    "\n",
    "lista_int.sort(reverse=True)\n",
    "print(lista_int)"
   ]
  },
  {
   "cell_type": "markdown",
   "id": "f1a9332e",
   "metadata": {},
   "source": [
    "Lista z danymi tekstowymi (sortuj malejąco: Z-A):"
   ]
  },
  {
   "cell_type": "code",
   "execution_count": 424,
   "id": "b59c266b",
   "metadata": {},
   "outputs": [
    {
     "name": "stdout",
     "output_type": "stream",
     "text": [
      "['a', 'd', 'z']\n",
      "['z', 'd', 'a']\n"
     ]
    }
   ],
   "source": [
    "lista_str = ['a', 'd', 'z']\n",
    "print(lista_str)\n",
    "\n",
    "lista_str.sort(reverse=True)\n",
    "print(lista_str)"
   ]
  },
  {
   "cell_type": "markdown",
   "id": "9227fbea",
   "metadata": {},
   "source": [
    "#### Sortowanie listy, sposób drugi: lista_nowa = sorted(lista)\n",
    "\n",
    "Tym różni się od `lista.sort()`, że tworzy nowy obiekt `lista_nowa = sorted(lista)`: "
   ]
  },
  {
   "cell_type": "code",
   "execution_count": 477,
   "id": "c27cb68c",
   "metadata": {},
   "outputs": [
    {
     "name": "stdout",
     "output_type": "stream",
     "text": [
      "Lista pierwotna: [3, 2, 6, 1, 3]\n"
     ]
    }
   ],
   "source": [
    "lista = [3, 2, 6, 1, 3]\n",
    "print('Lista pierwotna:', lista)"
   ]
  },
  {
   "cell_type": "markdown",
   "id": "e9dea7e9",
   "metadata": {},
   "source": [
    "#### Od A do Z (rosnąco)"
   ]
  },
  {
   "cell_type": "code",
   "execution_count": 480,
   "id": "fd967e3b",
   "metadata": {},
   "outputs": [
    {
     "name": "stdout",
     "output_type": "stream",
     "text": [
      "Lista pierwotna: [3, 2, 6, 1, 3]\n",
      "Lista nowa:      [1, 2, 3, 3, 6]\n"
     ]
    }
   ],
   "source": [
    "lista_nowa = sorted(lista)\n",
    "print('Lista pierwotna:', lista)\n",
    "print('Lista nowa:     ', lista_nowa)"
   ]
  },
  {
   "cell_type": "markdown",
   "id": "a03ec987",
   "metadata": {},
   "source": [
    "#### Od Z do A (malejąco)"
   ]
  },
  {
   "cell_type": "code",
   "execution_count": 481,
   "id": "106308b7",
   "metadata": {},
   "outputs": [
    {
     "name": "stdout",
     "output_type": "stream",
     "text": [
      "Lista pierwotna:      [3, 2, 6, 1, 3]\n",
      "Lista nowa odwrócona: [6, 3, 3, 2, 1]\n"
     ]
    }
   ],
   "source": [
    "lista_nowa_2 = sorted(lista, reverse=True)\n",
    "print('Lista pierwotna:     ', lista)\n",
    "print('Lista nowa odwrócona:', lista_nowa_2)"
   ]
  },
  {
   "cell_type": "markdown",
   "id": "86c432d2",
   "metadata": {},
   "source": [
    "Znajdź kogoś na kanałach głosowych na Zamku i spróbuj wytłumaczyć mu jak działa sort, sorted i jaka jest między nimi różnica. Zobaczysz ile się dzięki temu nauczysz - czasem najlepsza forma nauki to właśnie wyjaśnienie czegoś komuś innemu."
   ]
  },
  {
   "cell_type": "markdown",
   "id": "b5417045",
   "metadata": {},
   "source": [
    "### 9. lista_2 = lista_1.copy() \n",
    "\n",
    "#### Skopiuj listę czyli stwórz drugą taką samą, ale niezależną od pierwszej\n",
    "\n",
    "W skrócie, uczynisz to pisząc:"
   ]
  },
  {
   "cell_type": "code",
   "execution_count": 470,
   "id": "9dd8baa9",
   "metadata": {},
   "outputs": [
    {
     "name": "stdout",
     "output_type": "stream",
     "text": [
      "['a', 'b', 'c']\n",
      "['a', 'b', 'c']\n"
     ]
    }
   ],
   "source": [
    "lista_2 = lista_1.copy()\n",
    "\n",
    "print(lista_1)\n",
    "print(lista_2)"
   ]
  },
  {
   "cell_type": "markdown",
   "id": "92f146b7",
   "metadata": {},
   "source": [
    "#### Czemu jednak do kopiowania listy używać specjalnej metody `list.copy()`? Przeanalizujmy to nieco głębiej.\n",
    "\n",
    "Wydawać by się mogło, że utworzenie kopii listy `lista_a` będzie proste jak przypisaniem jej do nowej zmiennej np. do `lista_b`:"
   ]
  },
  {
   "cell_type": "code",
   "execution_count": 459,
   "id": "dbf5f8f8",
   "metadata": {},
   "outputs": [],
   "source": [
    "lista_a = [1, 2, 3]\n",
    "lista_b = lista_a"
   ]
  },
  {
   "cell_type": "markdown",
   "id": "5e0e376b",
   "metadata": {},
   "source": [
    "Jednak wtedy, każdy element który dodasz do `lista_a` dzięki `lista_a.append(1)` znajdzie się również na liście drugiej `lista_b` - i odwotnie. Każda zmiana jaką wykonasz w liście 1 wpłynie na zawartość listy 2. Spróbuj odpalić poniższą komórkę kilka razy za każdym razie podając inną treść jako argument metody `append()`:"
   ]
  },
  {
   "cell_type": "code",
   "execution_count": 471,
   "id": "18608caf",
   "metadata": {},
   "outputs": [
    {
     "name": "stdout",
     "output_type": "stream",
     "text": [
      "Lista a: [1, 2, 3, 4, 4, 4]\n",
      "Lista b: [1, 2, 3, 4, 4, 4]\n"
     ]
    }
   ],
   "source": [
    "lista_b.append(4)\n",
    "print('Lista a:', lista_a)\n",
    "print('Lista b:', lista_b)"
   ]
  },
  {
   "cell_type": "markdown",
   "id": "8dc6c6d9",
   "metadata": {},
   "source": [
    "#### Okazuje się, że lista a i b to ten sam obiekt.\n",
    "\n",
    "Możesz sprawdzić, że listy faktycznie są tym samym obiektem korzystając z metody id() która pokaże Ci identyfikator obiektu który przyjmuje jako argument. Okaże się, że listy to te same obiekty."
   ]
  },
  {
   "cell_type": "code",
   "execution_count": 472,
   "id": "3c122275",
   "metadata": {},
   "outputs": [
    {
     "name": "stdout",
     "output_type": "stream",
     "text": [
      "Lista a i b to ten sam obiekt.\n"
     ]
    }
   ],
   "source": [
    "if id(lista_a) == id(lista_b):\n",
    "    print('Lista a i b to ten sam obiekt.')\n",
    "else:\n",
    "    print('Listy są innymi obiektami.')"
   ]
  },
  {
   "cell_type": "markdown",
   "id": "aeea8f89",
   "metadata": {},
   "source": [
    "Aby skopiować obiekt listy trzeba było by skopiować wszystkie elementy z wenątrz listy pierwszej - do drugiej. \n",
    "\n",
    "#### Jak skopiować elementy z listy A do listy B aby lista B była nowym obiektem?"
   ]
  },
  {
   "cell_type": "code",
   "execution_count": 473,
   "id": "ea27757f",
   "metadata": {},
   "outputs": [],
   "source": [
    "lista_nowa = []\n",
    "for i in lista:\n",
    "    lista_nowa.append(i)"
   ]
  },
  {
   "cell_type": "markdown",
   "id": "f0dc1fb9",
   "metadata": {},
   "source": [
    "#### Lub zwięźlej:\n",
    "\n",
    "Można jednak zrobić to krócej, pisząc po prostu `lista[:len(lista)]` ale za drugi argument indeksu (ten po dwukropku) \n",
    "\n",
    "Podaj w indeksie długość listy, pisząc w sumie:"
   ]
  },
  {
   "cell_type": "code",
   "execution_count": 464,
   "id": "6748d1ce",
   "metadata": {},
   "outputs": [
    {
     "name": "stdout",
     "output_type": "stream",
     "text": [
      "Lista stara: [1, 2, 3]\n",
      "Lista nowa:  [1, 2, 3]\n"
     ]
    }
   ],
   "source": [
    "lista = [1, 2, 3]\n",
    "lista_nowa = lista[:len(lista)]\n",
    "\n",
    "print('Lista stara:', lista)\n",
    "print('Lista nowa: ', lista_nowa)"
   ]
  },
  {
   "cell_type": "markdown",
   "id": "02379469",
   "metadata": {},
   "source": [
    "#### Sprawdź jeszcze raz id() obu obiektów (obu list) - będą się różnić.\n",
    "\n",
    "Sprawdź sam - listy zawierają te same elementy i są identyczne, ale to dwa różne obiekty. Sprawdzisz to używając funkcji `id()` która zwróci indentyfikator obiektu, np. dla zmiennej `lista` i `lista_nowa`. Mimo, że listy mają identyczną zawartość, to będą dwa inne obiekty."
   ]
  },
  {
   "cell_type": "code",
   "execution_count": 474,
   "id": "2cbfca2d",
   "metadata": {},
   "outputs": [
    {
     "name": "stdout",
     "output_type": "stream",
     "text": [
      "Listy różnią się.\n"
     ]
    }
   ],
   "source": [
    "if id(lista) == id(lista_nowa):\n",
    "    print('Listy są identyczne.')\n",
    "else:\n",
    "    print('Listy różnią się.')"
   ]
  },
  {
   "cell_type": "markdown",
   "id": "b2867baa",
   "metadata": {},
   "source": [
    "#### Istnieje jednak specjalna metoda która robi to samo: `lista_nowa = lista.copy()`\n",
    "\n",
    "Zobacz kod i efekt:"
   ]
  },
  {
   "cell_type": "code",
   "execution_count": 482,
   "id": "b5be6bdf",
   "metadata": {},
   "outputs": [
    {
     "name": "stdout",
     "output_type": "stream",
     "text": [
      "Lista stara: [1, 2, 3]\n",
      "Lista nowa:  [1, 2, 3]\n",
      "Listy różnią się.\n"
     ]
    }
   ],
   "source": [
    "lista = [1, 2, 3]\n",
    "lista_nowa = lista.copy()\n",
    "\n",
    "print('Lista stara:', lista)\n",
    "print('Lista nowa: ', lista_nowa)\n",
    "\n",
    "if id(lista) == id(lista_nowa):\n",
    "    print('Listy są identyczne.')\n",
    "else:\n",
    "    print('Listy różnią się.')"
   ]
  },
  {
   "cell_type": "markdown",
   "id": "1959527c",
   "metadata": {},
   "source": [
    "Można albo użyć do tego specjalnej metody deepcopy() z biblioteki `copy` (znajdź ją i sprawdź sam - a my wrócimy do tego za kilka rozdziałów)."
   ]
  },
  {
   "cell_type": "markdown",
   "id": "ac50db89",
   "metadata": {},
   "source": [
    "### 10. `list[1][1]` \n",
    "\n",
    "#### Lista może zawierać w sobie inne listy. Tzw. lista list. Wtedy możesz użyć podwójnych indeksów\n",
    "\n"
   ]
  },
  {
   "cell_type": "code",
   "execution_count": 112,
   "id": "78144313",
   "metadata": {},
   "outputs": [
    {
     "name": "stdout",
     "output_type": "stream",
     "text": [
      "Lista list: [['a', 1], ['b', 2]]\n"
     ]
    }
   ],
   "source": [
    "lista_list = [['a', 1], ['b', 2]]\n",
    "\n",
    "print('Lista list:', lista_list)"
   ]
  },
  {
   "cell_type": "markdown",
   "id": "e403992c",
   "metadata": {},
   "source": [
    "Drugi indeks wyciągnie z listy drugi element listy wewnątrz niej:"
   ]
  },
  {
   "cell_type": "code",
   "execution_count": 484,
   "id": "f9e37691",
   "metadata": {},
   "outputs": [
    {
     "name": "stdout",
     "output_type": "stream",
     "text": [
      "a\n"
     ]
    }
   ],
   "source": [
    "lista_list = [['a', 1], ['b', 2]]\n",
    "x = lista_list[0][0]\n",
    "\n",
    "print(x)"
   ]
  },
  {
   "cell_type": "markdown",
   "id": "13c2c469",
   "metadata": {},
   "source": [
    "a indeks 1 z pierwszej listy (czyli o indeksie 0) wyciągnie:"
   ]
  },
  {
   "cell_type": "code",
   "execution_count": 485,
   "id": "c4d37a9d",
   "metadata": {},
   "outputs": [
    {
     "name": "stdout",
     "output_type": "stream",
     "text": [
      "1\n"
     ]
    }
   ],
   "source": [
    "lista_list = [['a', 1], ['b', 2]]\n",
    "y = lista_list[0][1]\n",
    "\n",
    "print(y)"
   ]
  },
  {
   "cell_type": "markdown",
   "id": "a9c35675",
   "metadata": {},
   "source": [
    "Wyciągnij 1 element z 1 listy:"
   ]
  },
  {
   "cell_type": "code",
   "execution_count": 486,
   "id": "edea9fe8",
   "metadata": {},
   "outputs": [
    {
     "data": {
      "text/plain": [
       "'a'"
      ]
     },
     "execution_count": 486,
     "metadata": {},
     "output_type": "execute_result"
    }
   ],
   "source": [
    "lista_list[0][0]"
   ]
  },
  {
   "cell_type": "markdown",
   "id": "9dde1aba",
   "metadata": {},
   "source": [
    "Wyciągnij 2 element z 1 listy:"
   ]
  },
  {
   "cell_type": "code",
   "execution_count": 487,
   "id": "971d9f10",
   "metadata": {},
   "outputs": [
    {
     "data": {
      "text/plain": [
       "1"
      ]
     },
     "execution_count": 487,
     "metadata": {},
     "output_type": "execute_result"
    }
   ],
   "source": [
    "lista_list[0][1]"
   ]
  },
  {
   "cell_type": "markdown",
   "id": "ad14344c",
   "metadata": {},
   "source": [
    "### 11. `lista_a == lista_b`\n",
    "\n",
    "#### Jak sprawdzić czy listy są identyczne?\n",
    "\n",
    "Sprawdzisz to używając warunku `if` gdzie porównasz `lista_a` z `lista_b` używając `==`. Jeżeli listy będą identyczne, to treść `lista_a == lista_b` bedzie tożsama z `True` (możesz sprawdzić to niżej) a kod wewnątrz `if`'a wykona się."
   ]
  },
  {
   "cell_type": "code",
   "execution_count": 303,
   "id": "93173da2",
   "metadata": {},
   "outputs": [
    {
     "name": "stdout",
     "output_type": "stream",
     "text": [
      "Listy są identyczne.\n"
     ]
    }
   ],
   "source": [
    "lista_a = [1, 2]\n",
    "lista_b = [1, 2]\n",
    "if lista_a == lista_b:\n",
    "    print('Listy są identyczne.')"
   ]
  },
  {
   "cell_type": "markdown",
   "id": "c28a7371",
   "metadata": {},
   "source": [
    "## Level 2\n",
    "\n",
    "Jeżeli opanowałeś wcześniejszy materiał i wydaje się zrozumiały, zanim przejdziesz do #009 części rzuć jeszcze okiem na poniższe funkcje i metody. "
   ]
  },
  {
   "cell_type": "markdown",
   "id": "fb258f4d",
   "metadata": {},
   "source": [
    "Level 2\n",
    "1. Bool w listach i metody all() / any() - ( wszystkie elementy / jakikolwiek)\n",
    "2. Rzadziej używane metody listy\n",
    "\n",
    "Level 3 \n",
    "1. Rzadziej używane metody setów i tupli."
   ]
  },
  {
   "cell_type": "markdown",
   "id": "dfce17ac",
   "metadata": {},
   "source": [
    "#### Dalsze zagadnienia wykorzystujące listy:"
   ]
  },
  {
   "cell_type": "markdown",
   "id": "4b9fa2f0",
   "metadata": {},
   "source": [
    "### 1. iterowanie po liście: `for i in list`\n",
    "\n",
    "#### Dla każdego elementu w liście wykonaj działanie (np. dodaj do wszystkich elementów 1. )\n",
    "\n",
    "Iterowanie, czyli powtarzanie zakodowanych czynności dla każdego elementu zbioru (listy, słownika, itp.). Np każdy elemnt zbioru pomnóżmy `*2` i zwróćmy listę elementów dwa razy większych.\n",
    "\n",
    "Iterowanie w Pythonie jest też znane jako \"for'y\", \"loop'y\", \"pętle\" które szerzej omówimy w części #009.\n",
    "\n",
    "Narazie puść poniższy kod i zastanów się jak działa. Spróbuj go lekko modyfikować. "
   ]
  },
  {
   "cell_type": "markdown",
   "id": "bb0bbb1e",
   "metadata": {},
   "source": [
    "#### Iterowanie `for i in list`:"
   ]
  },
  {
   "cell_type": "code",
   "execution_count": 492,
   "id": "d4170733",
   "metadata": {},
   "outputs": [
    {
     "name": "stdout",
     "output_type": "stream",
     "text": [
      "1\n",
      "2\n",
      "3\n"
     ]
    }
   ],
   "source": [
    "lista = [1, 2, 3]\n",
    "for i in lista:\n",
    "    print(i)"
   ]
  },
  {
   "cell_type": "markdown",
   "id": "7c7fa758",
   "metadata": {},
   "source": [
    "#### Iteracja w iteracji w iteracji. Wiele forów na raz.\n",
    "\n",
    "Można też oczywiście iterować po liście wewnątrz iteracji po innej liście i mieć dostęp do wszystkich argumentów każej iteracji. Rzuć okiem\n",
    "\n",
    "(to zaawansowany przykład jak na początki, jeżeli sprawiał by problem to wróć do niego potem, a teraz przejdź dalej)\n",
    "\n"
   ]
  },
  {
   "cell_type": "code",
   "execution_count": 34,
   "id": "1cdf76e7",
   "metadata": {},
   "outputs": [
    {
     "name": "stdout",
     "output_type": "stream",
     "text": [
      "Element \"i\" z pierwszej listy: 1\n",
      "Litera z drugiej listy: a\n",
      "Buźka: xD\n",
      "Buźka: ^_^\n",
      "Buźka: :O\n",
      "----------------\n",
      "Litera z drugiej listy: b\n",
      "Buźka: xD\n",
      "Buźka: ^_^\n",
      "Buźka: :O\n",
      "----------------\n",
      "Litera z drugiej listy: c\n",
      "Buźka: xD\n",
      "Buźka: ^_^\n",
      "Buźka: :O\n",
      "----------------\n",
      "Element \"i\" z pierwszej listy: 2\n",
      "Litera z drugiej listy: a\n",
      "Buźka: xD\n",
      "Buźka: ^_^\n",
      "Buźka: :O\n",
      "----------------\n",
      "Litera z drugiej listy: b\n",
      "Buźka: xD\n",
      "Buźka: ^_^\n",
      "Buźka: :O\n",
      "----------------\n",
      "Litera z drugiej listy: c\n",
      "Buźka: xD\n",
      "Buźka: ^_^\n",
      "Buźka: :O\n",
      "----------------\n",
      "Element \"i\" z pierwszej listy: 3\n",
      "Litera z drugiej listy: a\n",
      "Buźka: xD\n",
      "Buźka: ^_^\n",
      "Buźka: :O\n",
      "----------------\n",
      "Litera z drugiej listy: b\n",
      "Buźka: xD\n",
      "Buźka: ^_^\n",
      "Buźka: :O\n",
      "----------------\n",
      "Litera z drugiej listy: c\n",
      "Buźka: xD\n",
      "Buźka: ^_^\n",
      "Buźka: :O\n",
      "----------------\n"
     ]
    }
   ],
   "source": [
    "for i in [1, 2, 3]:\n",
    "    print('Element \"i\" z pierwszej listy:', i)\n",
    "    for j in ['a', 'b', 'c']:\n",
    "        print('Litera z drugiej listy:', j)\n",
    "        for z in ['xD', '^_^', ':O']:\n",
    "            print('Buźka:', z)\n",
    "        print('----------------')"
   ]
  },
  {
   "cell_type": "markdown",
   "id": "fbc317ef",
   "metadata": {},
   "source": [
    "Fory omówimy dokładniej w części #009."
   ]
  },
  {
   "cell_type": "markdown",
   "id": "142467fd",
   "metadata": {},
   "source": [
    "### 2. `for i, element in enumerate(lista)`\n",
    "\n",
    "#### Podczas iteracji miej łatwy dostęp do numeru indeksu każdego elementu listy na którym wykonywane są działania\n",
    "\n",
    "Dzięki enumerate indeks każdego z elementów listy można wyciągnąć do zmiennej `i` . Najlepiej widać to przy użyciu pętli for (i tak na prawdę, w 95% sytuacji stosuje się enumerate tylko w ten sposób). O pętli for zaraz będziemy mówić w części #009. Teraz ogólnie zobacz jak to działa i szerzej omówimy to potem."
   ]
  },
  {
   "cell_type": "code",
   "execution_count": 527,
   "id": "a7d794aa",
   "metadata": {},
   "outputs": [
    {
     "name": "stdout",
     "output_type": "stream",
     "text": [
      "0 aaaa\n",
      "1 bbbb\n",
      "2 cccc\n",
      "3 dddd\n",
      "4 eeee\n",
      "5 ffff\n"
     ]
    }
   ],
   "source": [
    "lista = ['a', 'b', 'c', 'd', 'e', 'f']\n",
    "\n",
    "for i, element in enumerate(lista):\n",
    "    print(i, element*4)"
   ]
  },
  {
   "cell_type": "markdown",
   "id": "9a8fd01e",
   "metadata": {},
   "source": [
    "enumerate() dodaje każdemu z elementów listy jeszcze jedną zmienną: indeks. Niektóre są naprawdę super rzadko używane."
   ]
  },
  {
   "cell_type": "markdown",
   "id": "b3caf7b9",
   "metadata": {},
   "source": [
    "### 3. lista_par = zip(lista_a, lista_b)\n",
    "\n",
    "#### Z listy `[1,2,3]` i `['a','b','c']` stwórz listę par `[(1,'x'), (2,'y'), (3, 'z')]`:\n",
    "\n",
    "Funkcja `zip()` umożliwia złączanie obu list w par. Przy nierównościach ostatnie elementy listy dłuższej są pomijane."
   ]
  },
  {
   "cell_type": "code",
   "execution_count": 499,
   "id": "7517f36a",
   "metadata": {},
   "outputs": [],
   "source": [
    "numbers = [1, 2, 3, 5, 7]\n",
    "letters = ['a', 'b', 'c']\n",
    "z = zip(numbers, letters)\n",
    "z = list(z)"
   ]
  },
  {
   "cell_type": "markdown",
   "id": "6dfe8ae5",
   "metadata": {},
   "source": [
    "Efekt:"
   ]
  },
  {
   "cell_type": "code",
   "execution_count": 500,
   "id": "e971414e",
   "metadata": {},
   "outputs": [
    {
     "name": "stdout",
     "output_type": "stream",
     "text": [
      "[(1, 'a'), (2, 'b'), (3, 'c')]\n"
     ]
    }
   ],
   "source": [
    "print(z)"
   ]
  },
  {
   "cell_type": "markdown",
   "id": "20d77116",
   "metadata": {},
   "source": [
    "### 4. nowa_lista = [e*2 for e in stara_lista]\n",
    "\n",
    "#### Jest to tzw. list comprehension. Jednoliniowe wykonanie (różnych) operacji na liście tak aby powstała nowa, zmodyfikowana jej wersja.\n",
    "\n",
    "Czyli np. wybierz z listy wartości mniejsze od 3:"
   ]
  },
  {
   "cell_type": "code",
   "execution_count": 504,
   "id": "a02c919e",
   "metadata": {},
   "outputs": [
    {
     "name": "stdout",
     "output_type": "stream",
     "text": [
      "[1, 2]\n"
     ]
    }
   ],
   "source": [
    "lista_1 = [1,2,3,4,5,6,7]\n",
    "lista_2 = []\n",
    "for i in lista_1:\n",
    "    if i < 3:\n",
    "        lista_2.append(i)\n",
    "print(lista_2)"
   ]
  },
  {
   "cell_type": "markdown",
   "id": "a4b494de",
   "metadata": {},
   "source": [
    "#### Powyższy kod da się zrealizować w 1 linii"
   ]
  },
  {
   "cell_type": "code",
   "execution_count": 50,
   "id": "8d335724",
   "metadata": {},
   "outputs": [
    {
     "name": "stdout",
     "output_type": "stream",
     "text": [
      "[1, 2]\n"
     ]
    }
   ],
   "source": [
    "lista_2 = [i for i in [1,2,3,4,5,6,7] if i < 3]\n",
    "print(lista_2)"
   ]
  },
  {
   "cell_type": "markdown",
   "id": "a00db413",
   "metadata": {},
   "source": [
    "#### Albo daj mi listę tych elementów z listy 1 które wystepują w liście 2 jako nową listę."
   ]
  },
  {
   "cell_type": "code",
   "execution_count": 51,
   "id": "497d8a95",
   "metadata": {},
   "outputs": [
    {
     "name": "stdout",
     "output_type": "stream",
     "text": [
      "['a', 'b']\n"
     ]
    }
   ],
   "source": [
    "lista_1 = ['a', 'b', 'c']\n",
    "lista_2 = ['a', 'b']\n",
    "lista_3 = []\n",
    "for i in lista_1:\n",
    "    if i in lista_2:\n",
    "        lista_3.append(i)\n",
    "print(lista_3)"
   ]
  },
  {
   "cell_type": "markdown",
   "id": "0aad6d01",
   "metadata": {},
   "source": [
    "#### Powyższy kod można zawężyć do 1 linii. "
   ]
  },
  {
   "cell_type": "code",
   "execution_count": 54,
   "id": "24963e2e",
   "metadata": {},
   "outputs": [
    {
     "name": "stdout",
     "output_type": "stream",
     "text": [
      "['a', 'b']\n"
     ]
    }
   ],
   "source": [
    "lista_2 = [i for i in ['a', 'b', 'c'] if i in ['a','b']]\n",
    "print(lista_2)"
   ]
  },
  {
   "cell_type": "markdown",
   "id": "6317761d",
   "metadata": {},
   "source": [
    "Ten jednolinijkowy kod porównujący obie listy to właśnie list comperhension. Są różne odmiany. Będziemy o nich w przyszłości mówić."
   ]
  },
  {
   "cell_type": "markdown",
   "id": "25bbf688",
   "metadata": {},
   "source": [
    "### 5. all(lista)\n",
    "\n",
    "#### Czy wszystkie elementy w liście są prawdziwe (lub nie puste)?\n",
    "\n",
    "Jak sprawdzić czy wszystkie elementy listy stanowią wartość prawdziwą, pełną (niezależnie od typu, np. 1,  True, 'abcd') czy nie prawdziwą lub pustą: (0, False, pusta lista)?"
   ]
  },
  {
   "cell_type": "code",
   "execution_count": 509,
   "id": "ac378084",
   "metadata": {},
   "outputs": [
    {
     "name": "stdout",
     "output_type": "stream",
     "text": [
      "Wszystkie elementy x są prawdziwe (True).\n",
      "True\n"
     ]
    }
   ],
   "source": [
    "lista = [1, 1, 1] # 1 też ma wartość True, tak samo jak 2 lub 3. Ale 0 to zawsze False.\n",
    "if all(lista):\n",
    "    print('Wszystkie elementy x są prawdziwe (True).')"
   ]
  },
  {
   "cell_type": "markdown",
   "id": "85a10d86",
   "metadata": {},
   "source": [
    "#### Wartość all(lista) to ostatecznie albo prawda (tak) albo fałsz (nie)."
   ]
  },
  {
   "cell_type": "code",
   "execution_count": 511,
   "id": "35d6f484",
   "metadata": {},
   "outputs": [
    {
     "data": {
      "text/plain": [
       "True"
      ]
     },
     "execution_count": 511,
     "metadata": {},
     "output_type": "execute_result"
    }
   ],
   "source": [
    "all(lista)"
   ]
  },
  {
   "cell_type": "markdown",
   "id": "b2005df9",
   "metadata": {},
   "source": [
    "### 6. any(lista)\n",
    "\n",
    "#### Czy conajmniej 1 z elementów listy jest prawdziwy?\n",
    "\n",
    "Podobnie działa funkcja `any()` ta jednak przyniesie prawdę nawet gdy tylko jeden z elementów jest prawdziwy.\n",
    "\n",
    "Zmień jeden element na True i zobacz co się stanie."
   ]
  },
  {
   "cell_type": "code",
   "execution_count": 516,
   "id": "4381c6b0",
   "metadata": {},
   "outputs": [],
   "source": [
    "lista = [False, False, False] # , True]\n",
    "if all(x):\n",
    "    print('Rezultat funkcji all(x):', all(x))\n",
    "if any(x):\n",
    "    print('Rezultat funkcji any(x):', any(x))\n",
    "    print('Conajmniej 1 element x jest prawdziwy (True).')"
   ]
  },
  {
   "cell_type": "code",
   "execution_count": 518,
   "id": "5aec44bd",
   "metadata": {},
   "outputs": [
    {
     "data": {
      "text/plain": [
       "True"
      ]
     },
     "execution_count": 518,
     "metadata": {},
     "output_type": "execute_result"
    }
   ],
   "source": [
    "any(lista)"
   ]
  },
  {
   "cell_type": "markdown",
   "id": "7fbcab36",
   "metadata": {},
   "source": [
    "## Level 3\n",
    "\n",
    "Dla średnio zaawansowanych."
   ]
  },
  {
   "cell_type": "markdown",
   "id": "1802bf1e",
   "metadata": {},
   "source": [
    "### 1. filter()\n",
    "\n",
    "#### Przepuść dane z listy przez działanie funkcji\n",
    "\n",
    "Każdy z elementów osobno przechodzi przez pojedyńczy warunek np. `if n==2:`"
   ]
  },
  {
   "cell_type": "code",
   "execution_count": 11,
   "id": "3ed40330",
   "metadata": {},
   "outputs": [
    {
     "name": "stdout",
     "output_type": "stream",
     "text": [
      "[1, 2, 2, 4, 5, 7, 10]\n",
      "[4, 5, 7, 10]\n"
     ]
    }
   ],
   "source": [
    "def funkcja_decydujaca(n):\n",
    "    if n > 3:\n",
    "        return True\n",
    "    return False\n",
    "\n",
    "lista = [1, 2, 2, 4, 5, 7, 10]\n",
    "print(lista)\n",
    "\n",
    "lista = list(filter(funkcja_decydujaca, lista))\n",
    "print(lista)"
   ]
  },
  {
   "cell_type": "code",
   "execution_count": 538,
   "id": "52bf7f85",
   "metadata": {},
   "outputs": [
    {
     "name": "stdout",
     "output_type": "stream",
     "text": [
      "[1, 2, 2, 4]\n"
     ]
    }
   ],
   "source": [
    "print(x)"
   ]
  },
  {
   "cell_type": "markdown",
   "id": "bbaf1438",
   "metadata": {},
   "source": [
    "### 8. map()\n",
    "\n",
    "#### Odpala funkcję na każdym z elementów listy\n",
    "\n",
    "Normalnie, zrobili byśmy to tak:"
   ]
  },
  {
   "cell_type": "code",
   "execution_count": 20,
   "id": "8b59ed5d",
   "metadata": {},
   "outputs": [
    {
     "name": "stdout",
     "output_type": "stream",
     "text": [
      "[1, 2, 3, 4]\n",
      "[4, 8, 12, 16]\n"
     ]
    }
   ],
   "source": [
    "def funkcja_dodawania(n):\n",
    "    return n*4\n",
    "\n",
    "lista = [1, 2, 3, 4]\n",
    "result = []\n",
    "for n in lista:\n",
    "    n = funkcja_dodawania(n)\n",
    "    result.append(n)\n",
    "    \n",
    "print(lista)\n",
    "print(list(result))"
   ]
  },
  {
   "cell_type": "markdown",
   "id": "d4972f6d",
   "metadata": {},
   "source": [
    "#### To samo, ale szybciej:"
   ]
  },
  {
   "cell_type": "code",
   "execution_count": 21,
   "id": "a42c945d",
   "metadata": {},
   "outputs": [
    {
     "name": "stdout",
     "output_type": "stream",
     "text": [
      "[1, 2, 3, 4]\n",
      "[4, 8, 12, 16]\n"
     ]
    }
   ],
   "source": [
    "lista = [1, 2, 3, 4]\n",
    "\n",
    "result = map(funkcja_dodawania, lista)\n",
    "print(lista)\n",
    "print(list(result))"
   ]
  },
  {
   "cell_type": "markdown",
   "id": "445122ee",
   "metadata": {},
   "source": [
    "### 5. Biblioteki które wspomagają pracę na listach:\n"
   ]
  },
  {
   "cell_type": "markdown",
   "id": "a2c4f578",
   "metadata": {},
   "source": [
    "#### Itertools\n",
    "\n",
    "To biblioteka zawierająca kilkanaście funkcji do pracy z listami. Są genialne, zobacz koniecznie na:\n",
    "\n",
    "https://docs.python.org/3/library/itertools.html"
   ]
  },
  {
   "cell_type": "code",
   "execution_count": null,
   "id": "e0ede0f6",
   "metadata": {},
   "outputs": [],
   "source": [
    "!pip3 install itertools"
   ]
  },
  {
   "cell_type": "code",
   "execution_count": null,
   "id": "5255ebbc",
   "metadata": {},
   "outputs": [],
   "source": [
    "import itertools"
   ]
  },
  {
   "cell_type": "markdown",
   "id": "8d32308d",
   "metadata": {},
   "source": [
    "#### functools\n",
    "\n",
    "Zawiera znaną i lubianą funkcję `reduce()` \n",
    "\n",
    "https://www.geeksforgeeks.org/reduce-in-python/"
   ]
  },
  {
   "cell_type": "code",
   "execution_count": 27,
   "id": "f69c6eb2",
   "metadata": {},
   "outputs": [
    {
     "ename": "TypeError",
     "evalue": "reduce expected at least 2 arguments, got 1",
     "output_type": "error",
     "traceback": [
      "\u001b[0;31m---------------------------------------------------------------------------\u001b[0m",
      "\u001b[0;31mTypeError\u001b[0m                                 Traceback (most recent call last)",
      "\u001b[0;32m/tmp/ipykernel_1241927/833609310.py\u001b[0m in \u001b[0;36m<module>\u001b[0;34m\u001b[0m\n\u001b[1;32m      1\u001b[0m \u001b[0;32mfrom\u001b[0m \u001b[0mfunctools\u001b[0m \u001b[0;32mimport\u001b[0m \u001b[0mreduce\u001b[0m\u001b[0;34m\u001b[0m\u001b[0;34m\u001b[0m\u001b[0m\n\u001b[1;32m      2\u001b[0m \u001b[0;34m\u001b[0m\u001b[0m\n\u001b[0;32m----> 3\u001b[0;31m \u001b[0mreduce\u001b[0m\u001b[0;34m(\u001b[0m\u001b[0mlista\u001b[0m\u001b[0;34m)\u001b[0m\u001b[0;34m\u001b[0m\u001b[0;34m\u001b[0m\u001b[0m\n\u001b[0m",
      "\u001b[0;31mTypeError\u001b[0m: reduce expected at least 2 arguments, got 1"
     ]
    }
   ],
   "source": [
    "from functools import reduce\n",
    "\n",
    "reduce(lista)"
   ]
  },
  {
   "cell_type": "markdown",
   "id": "2b584d18",
   "metadata": {},
   "source": [
    "#### Mutowalność / niemutowalonść\n",
    "\n",
    "Pomądrz się tutaj."
   ]
  },
  {
   "cell_type": "code",
   "execution_count": null,
   "id": "b4fe1bc4",
   "metadata": {},
   "outputs": [],
   "source": [
    "# add()\tAdds an element to the set\n",
    "# clear()\tRemoves all the elements from the set\n",
    "# copy()\tReturns a copy of the set\n",
    "# difference()\tReturns a set containing the difference between two or more sets\n",
    "# difference_update()\tRemoves the items in this set that are also included in another, specified set\n",
    "# discard()\tRemove the specified item\n",
    "# intersection()\tReturns a set, that is the intersection of two or more sets\n",
    "# intersection_update()\tRemoves the items in this set that are not present in other, specified set(s)\n",
    "# isdisjoint()\tReturns whether two sets have a intersection or not\n",
    "# issubset()\tReturns whether another set contains this set or not\n",
    "# issuperset()\tReturns whether this set contains another set or not\n",
    "# pop()\tRemoves an element from the set\n",
    "\n",
    "# remove()\tRemoves the specified element\n",
    "# symmetric_difference()\tReturns a set with the symmetric differences of two sets\n",
    "# symmetric_difference_update()\tinserts the symmetric differences from this set and another\n",
    "# union()\tReturn a set containing the union of sets\n",
    "# update()\tUpdate the set with another set, or any other iterable"
   ]
  },
  {
   "cell_type": "markdown",
   "id": "5dc1f35c",
   "metadata": {},
   "source": [
    "#### X. Rzadziej używane metody list i tupli:"
   ]
  },
  {
   "cell_type": "markdown",
   "id": "98f96284",
   "metadata": {},
   "source": [
    "#### SET\n",
    "https://bigdata-madesimple.com/introduction-to-python-set-and-frozenset-methods/\n",
    "\n",
    "- frozenset()\tReturns a frozenset object\n",
    "- set()\tReturns a new set object"
   ]
  },
  {
   "cell_type": "code",
   "execution_count": null,
   "id": "4013a638",
   "metadata": {},
   "outputs": [],
   "source": [
    "# add()\tAdds an element to the set\n",
    "# clear()\tRemoves all the elements from the set\n",
    "# copy()\tReturns a copy of the set\n",
    "# difference()\tReturns a set containing the difference between two or more sets\n",
    "# difference_update()\tRemoves the items in this set that are also included in another, specified set\n",
    "# discard()\tRemove the specified item\n",
    "# intersection()\tReturns a set, that is the intersection of two or more sets\n",
    "# intersection_update()\tRemoves the items in this set that are not present in other, specified set(s)\n",
    "# isdisjoint()\tReturns whether two sets have a intersection or not\n",
    "# issubset()\tReturns whether another set contains this set or not\n",
    "# issuperset()\tReturns whether this set contains another set or not\n",
    "# pop()\tRemoves an element from the set\n",
    "\n",
    "# remove()\tRemoves the specified element\n",
    "# symmetric_difference()\tReturns a set with the symmetric differences of two sets\n",
    "# symmetric_difference_update()\tinserts the symmetric differences from this set and another\n",
    "# union()\tReturn a set containing the union of sets\n",
    "# update()\tUpdate the set with another set, or any other iterable"
   ]
  },
  {
   "cell_type": "code",
   "execution_count": null,
   "id": "decdedf4",
   "metadata": {},
   "outputs": [],
   "source": [
    "# Bez zmiennej.\n",
    "- slice\n",
    "- reverse\n",
    "- index ?"
   ]
  },
  {
   "cell_type": "code",
   "execution_count": null,
   "id": "b8f13897",
   "metadata": {},
   "outputs": [],
   "source": []
  },
  {
   "cell_type": "markdown",
   "id": "c846a530",
   "metadata": {},
   "source": [
    "### Tupla\n",
    "\n",
    "Narazie nie będziemy o tym wiele mówić, ale to jest tupla. Wygląda bardzo podbonie do listy i tak też działa. Zobaczy typ. To już nie lista ale tupla, ma okrągłe nawiasy.\n",
    "\n",
    "#tuple()\tReturns a tuple\n",
    "#Python Tuple count()\n",
    "#returns count of the element in the tuple\n",
    "#Python Tuple index()\n",
    "#returns the index of the element in the tuple"
   ]
  }
 ],
 "metadata": {
  "kernelspec": {
   "display_name": "Python 3 (ipykernel)",
   "language": "python",
   "name": "python3"
  },
  "language_info": {
   "codemirror_mode": {
    "name": "ipython",
    "version": 3
   },
   "file_extension": ".py",
   "mimetype": "text/x-python",
   "name": "python",
   "nbconvert_exporter": "python",
   "pygments_lexer": "ipython3",
   "version": "3.8.10"
  }
 },
 "nbformat": 4,
 "nbformat_minor": 5
}
